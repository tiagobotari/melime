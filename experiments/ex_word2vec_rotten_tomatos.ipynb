{
 "cells": [
  {
   "cell_type": "markdown",
   "metadata": {},
   "source": [
    "# Short sentiment snippets (the Pang/Lee Rotten Tomatoes dataset)\n",
    "Dataset Informations: https://nlp.stanford.edu/wiki/Software/Classifier/Sentiment"
   ]
  },
  {
   "cell_type": "code",
   "execution_count": 1,
   "metadata": {},
   "outputs": [],
   "source": [
    "import sys, os\n",
    "sys.path.append('..')\n",
    "\n",
    "import numpy as np\n",
    "from matplotlib import pyplot as plt\n",
    "from sklearn import metrics\n",
    "from sklearn.naive_bayes import MultinomialNB\n",
    "from sklearn.model_selection import train_test_split\n",
    "from sklearn.feature_extraction.text import CountVectorizer\n",
    "from sklearn.feature_extraction.text import TfidfTransformer\n",
    "\n",
    "from melime.generators.word2vec_gen import Word2VecGen\n",
    "from melime.explainers.explainer import Explainer\n",
    "from melime.explainers.visualizations.plot_importance import ExplainGraph\n",
    "from melime.explainers.visualizations.visualization import ExplainText"
   ]
  },
  {
   "cell_type": "markdown",
   "metadata": {},
   "source": [
    "### Load dataset"
   ]
  },
  {
   "cell_type": "code",
   "execution_count": 2,
   "metadata": {},
   "outputs": [],
   "source": [
    "path_ = './data/rt-polaritydata/rt-polaritydata'\n",
    "def load_polarity(path=path_):\n",
    "    data = []\n",
    "    labels = []\n",
    "    f_names = ['rt-polarity.neg', 'rt-polarity.pos']\n",
    "    for (l, f) in enumerate(f_names):\n",
    "        for line in open(os.path.join(path, f), 'rb'):\n",
    "            data.append(line.decode('utf8', errors='ignore').strip())\n",
    "            labels.append(l)\n",
    "    return data, labels"
   ]
  },
  {
   "cell_type": "code",
   "execution_count": 3,
   "metadata": {},
   "outputs": [],
   "source": [
    "x, y = load_polarity()\n",
    "x_train_all, x_test, y_train_all, y_test = train_test_split(\n",
    "    x, y, test_size=.2, random_state=42)\n",
    "x_train, x_val, y_train, y_val = train_test_split(\n",
    "    x_train_all, y_train_all, test_size=.1, random_state=42)\n",
    "y_train = np.array(y_train)\n",
    "y_test = np.array(y_test)\n",
    "y_val = np.array(y_val)"
   ]
  },
  {
   "cell_type": "markdown",
   "metadata": {},
   "source": [
    "### Vectorize Text"
   ]
  },
  {
   "cell_type": "code",
   "execution_count": 4,
   "metadata": {},
   "outputs": [],
   "source": [
    "class VectorizeText():\n",
    "        def __init__(self):\n",
    "            self.count_vect = CountVectorizer()\n",
    "            self.tf_transformer = TfidfTransformer(use_idf=False)\n",
    "        def fit(self, x):\n",
    "            x = self.count_vect.fit_transform(x)\n",
    "            self.tf_transformer.fit(x)\n",
    "        def transform(self, x):\n",
    "            x = self.count_vect.transform(x)\n",
    "            x = self.tf_transformer.transform(x)\n",
    "            return x     "
   ]
  },
  {
   "cell_type": "markdown",
   "metadata": {},
   "source": [
    "### ML model - MultinomialNB from sklearn"
   ]
  },
  {
   "cell_type": "code",
   "execution_count": 5,
   "metadata": {},
   "outputs": [
    {
     "name": "stdout",
     "output_type": "stream",
     "text": [
      "Val accuracy 0.7584994138335287\n"
     ]
    }
   ],
   "source": [
    "vect_text = VectorizeText()\n",
    "vect_text.fit(x_train)    \n",
    "x_vec_train = vect_text.transform(x_train)\n",
    "\n",
    "# Train Model\n",
    "clf = MultinomialNB().fit(x_vec_train, y_train)\n",
    "\n",
    "def MNB_predict(texts):\n",
    "    return clf.predict(vect_text.transform(texts))\n",
    "def MNB_predict_prob(texts):\n",
    "    return clf.predict_proba(vect_text.transform(texts))\n",
    "\n",
    "preds = MNB_predict(x_val)\n",
    "print('Val accuracy', metrics.accuracy_score(y_val, preds))\n"
   ]
  },
  {
   "cell_type": "markdown",
   "metadata": {},
   "source": [
    "### m-lime using Word2VecGen"
   ]
  },
  {
   "cell_type": "code",
   "execution_count": 6,
   "metadata": {},
   "outputs": [],
   "source": [
    "generator = Word2VecGen(x_train_all)"
   ]
  },
  {
   "cell_type": "markdown",
   "metadata": {},
   "source": [
    "Instance to be explained"
   ]
  },
  {
   "cell_type": "code",
   "execution_count": 7,
   "metadata": {},
   "outputs": [
    {
     "name": "stdout",
     "output_type": "stream",
     "text": [
      "x_explain: [\"the movie's thesis -- elegant technology for the masses -- is surprisingly refreshing .\"]\n",
      "the movie's thesis -- elegant technology for the masses -- is surprisingly refreshing .\n",
      "Predicted class: 1\n",
      "Predict probabilities: [[0.29029215 0.70970785]]\n",
      "True class: 1\n"
     ]
    }
   ],
   "source": [
    "x_explain = [x_test[1]]\n",
    "print('x_explain:', x_explain)\n",
    "print(x_explain[0])\n",
    "print('Predicted class:', MNB_predict(x_explain)[0])\n",
    "print('Predict probabilities:', MNB_predict_prob(x_explain))\n",
    "print('True class:', y_test[1])"
   ]
  },
  {
   "cell_type": "code",
   "execution_count": 8,
   "metadata": {},
   "outputs": [],
   "source": [
    "x_explain = np.array(x_explain)"
   ]
  },
  {
   "cell_type": "markdown",
   "metadata": {},
   "source": [
    "### Generating Explanation"
   ]
  },
  {
   "cell_type": "code",
   "execution_count": 9,
   "metadata": {},
   "outputs": [
    {
     "name": "stdout",
     "output_type": "stream",
     "text": [
      "(1, 14)\n"
     ]
    }
   ],
   "source": [
    "feature_names=[f'{e}: {word}' for e, word in enumerate(x_explain[0].split())]\n",
    "words=[f'{word}' for e, word in enumerate(x_explain[0].split())]\n",
    "explainer = Explainer(\n",
    "    model_predict=MNB_predict_prob, feature_names=feature_names, generator=generator\n",
    ")\n",
    "explanation, con_fav_samples = explainer.explain_instance(\n",
    "    x_explain=x_explain,\n",
    "    class_index=1,\n",
    "    n_samples=50,\n",
    "    tol_importance=0.001,\n",
    "    include_x_explain_train=False,    \n",
    ")"
   ]
  },
  {
   "cell_type": "code",
   "execution_count": 10,
   "metadata": {},
   "outputs": [
    {
     "data": {
      "image/png": "[encoded data removed]",
      "text/plain": [
       "<Figure size 576x648 with 1 Axes>"
      ]
     },
     "metadata": {},
     "output_type": "display_data"
    }
   ],
   "source": [
    "explain_dict = explanation.explain()\n",
    "fig, ax = plt.subplots(figsize=(8, 9))\n",
    "ax.set_title('Importance', fontsize=25)\n",
    "names = feature_names\n",
    "importances = [*explain_dict['importances']['mean'].values()]\n",
    "ax = ExplainGraph.plot_feature_importance(\n",
    "ax=ax, names=feature_names, vals=importances, size_title=15)\n",
    "plt.savefig('text_explanation.pdf', dpi=300)"
   ]
  },
  {
   "cell_type": "markdown",
   "metadata": {},
   "source": [
    "Favorable sampled phrases:"
   ]
  },
  {
   "cell_type": "code",
   "execution_count": 11,
   "metadata": {},
   "outputs": [
    {
     "name": "stdout",
     "output_type": "stream",
     "text": [
      "the movie's thesis -- elegant technology for touching masses -- is surprisingly refreshing . - Prop 0.823\n",
      "touching movie's thesis -- elegant technology for the masses -- is surprisingly refreshing . - Prop 0.823\n",
      "the touching thesis -- elegant technology for the masses -- is surprisingly refreshing . - Prop 0.821\n",
      "the movie's thesis -- elegant technology for wonderful masses -- is surprisingly refreshing . - Prop 0.820\n",
      "wonderful movie's thesis -- elegant technology for the masses -- is surprisingly refreshing . - Prop 0.820\n"
     ]
    }
   ],
   "source": [
    "for phrase, prob in zip(con_fav_samples.samples_fav, con_fav_samples.y_fav):\n",
    "    print(f'{phrase} - Prop {prob:5.3f}')"
   ]
  },
  {
   "cell_type": "markdown",
   "metadata": {},
   "source": [
    "Contrary sampled phrases:"
   ]
  },
  {
   "cell_type": "code",
   "execution_count": 12,
   "metadata": {},
   "outputs": [
    {
     "name": "stdout",
     "output_type": "stream",
     "text": [
      "the movie's thesis -- elegant technology for the masses -- is surprisingly heavy-handed . - Prob.: 0.468\n",
      "the movie's thesis -- elegant technology for the masses -- is surprisingly dull . - Prob.:  0.47\n",
      "the movie's thesis -- elegant technology for the masses -- is surprisingly pretentious . - Prob.: 0.491\n",
      "the movie's thesis -- elegant technology for the masses -- is surprisingly unfunny . - Prob.: 0.492\n",
      "the movie's thesis -- elegant technology for the masses -- is surprisingly mess . - Prob.: 0.494\n"
     ]
    }
   ],
   "source": [
    "for phrase, prob in zip(con_fav_samples.samples_con, con_fav_samples.y_con):\n",
    "    print(f'{phrase} - Prob.: {prob:5.3}')"
   ]
  },
  {
   "cell_type": "code",
   "execution_count": 13,
   "metadata": {},
   "outputs": [
    {
     "data": {
      "text/html": [
       "\n",
       "            <div style=\"display:flex;  flex-direction:column; align-items:center\">\n",
       "            <span style=\"color:black\">\n",
       "            Importance\n",
       "            </span>\n",
       "            <div style=\"\n",
       "            background-image: linear-gradient(90deg,\n",
       "            rgb(255, 0, 0),\n",
       "            rgb(255, 50, 50),\n",
       "            rgb(255, 75, 75),\n",
       "            rgb(255, 150, 150),\n",
       "            rgb(255, 255, 255),\n",
       "            rgb(150, 150, 255),\n",
       "            rgb(75, 75, 255),\n",
       "            rgb(50, 50, 255),\n",
       "            rgb(0, 0, 255)\n",
       "            ); width:80%; height:10px\">  </div>\n",
       "            <div style=\"display: flex; width:82%; flex-direction: row; justify-content: space-between\"> \n",
       "            <span style=\"color:black; font: 400 8px/0.85rem  sans-serif;\"> -1.0 </span>\n",
       "            <span style=\"color:black; font: 400 8px/0.85rem  sans-serif;\"> 0.0 </span>\n",
       "            <span style=\"color:black; font: 400 8px/0.85rem  sans-serif;\"> +1.0 </span>\n",
       "            </div>\n",
       "\n",
       "            <div style=\"display:flex; flex-wrap:wrap\"> \n",
       "                <div style=\"background-color:rgba(176, 176, 255, 1.0);\n",
       "                padding:0px 2px 0px 2px;\n",
       "                margin:2px 2px 0px 0px\">\n",
       "                <span style=\"color:black; font: 400 8px/0.85rem  sans-serif;\">the </span>\n",
       "                </div>\n",
       "                \n",
       "                <div style=\"background-color:rgba(146, 146, 255, 1.0);\n",
       "                padding:0px 2px 0px 2px;\n",
       "                margin:2px 2px 0px 0px\">\n",
       "                <span style=\"color:black; font: 400 8px/0.85rem  sans-serif;\">movie's </span>\n",
       "                </div>\n",
       "                \n",
       "                <div style=\"background-color:rgba(255, 210, 210, 1.0);\n",
       "                padding:0px 2px 0px 2px;\n",
       "                margin:2px 2px 0px 0px\">\n",
       "                <span style=\"color:black; font: 400 8px/0.85rem  sans-serif;\">thesis </span>\n",
       "                </div>\n",
       "                \n",
       "                <div style=\"background-color:rgba(255, 224, 224, 1.0);\n",
       "                padding:0px 2px 0px 2px;\n",
       "                margin:2px 2px 0px 0px\">\n",
       "                <span style=\"color:black; font: 400 8px/0.85rem  sans-serif;\">-- </span>\n",
       "                </div>\n",
       "                \n",
       "                <div style=\"background-color:rgba(255, 71, 71, 1.0);\n",
       "                padding:0px 2px 0px 2px;\n",
       "                margin:2px 2px 0px 0px\">\n",
       "                <span style=\"color:black; font: 400 8px/0.85rem  sans-serif;\">elegant </span>\n",
       "                </div>\n",
       "                \n",
       "                <div style=\"background-color:rgba(255, 199, 199, 1.0);\n",
       "                padding:0px 2px 0px 2px;\n",
       "                margin:2px 2px 0px 0px\">\n",
       "                <span style=\"color:black; font: 400 8px/0.85rem  sans-serif;\">technology </span>\n",
       "                </div>\n",
       "                \n",
       "                <div style=\"background-color:rgba(227, 227, 255, 1.0);\n",
       "                padding:0px 2px 0px 2px;\n",
       "                margin:2px 2px 0px 0px\">\n",
       "                <span style=\"color:black; font: 400 8px/0.85rem  sans-serif;\">for </span>\n",
       "                </div>\n",
       "                \n",
       "                <div style=\"background-color:rgba(176, 176, 255, 1.0);\n",
       "                padding:0px 2px 0px 2px;\n",
       "                margin:2px 2px 0px 0px\">\n",
       "                <span style=\"color:black; font: 400 8px/0.85rem  sans-serif;\">the </span>\n",
       "                </div>\n",
       "                \n",
       "                <div style=\"background-color:rgba(255, 156, 156, 1.0);\n",
       "                padding:0px 2px 0px 2px;\n",
       "                margin:2px 2px 0px 0px\">\n",
       "                <span style=\"color:black; font: 400 8px/0.85rem  sans-serif;\">masses </span>\n",
       "                </div>\n",
       "                \n",
       "                <div style=\"background-color:rgba(255, 224, 224, 1.0);\n",
       "                padding:0px 2px 0px 2px;\n",
       "                margin:2px 2px 0px 0px\">\n",
       "                <span style=\"color:black; font: 400 8px/0.85rem  sans-serif;\">-- </span>\n",
       "                </div>\n",
       "                \n",
       "                <div style=\"background-color:rgba(255, 240, 240, 1.0);\n",
       "                padding:0px 2px 0px 2px;\n",
       "                margin:2px 2px 0px 0px\">\n",
       "                <span style=\"color:black; font: 400 8px/0.85rem  sans-serif;\">is </span>\n",
       "                </div>\n",
       "                \n",
       "                <div style=\"background-color:rgba(255, 86, 86, 1.0);\n",
       "                padding:0px 2px 0px 2px;\n",
       "                margin:2px 2px 0px 0px\">\n",
       "                <span style=\"color:black; font: 400 8px/0.85rem  sans-serif;\">surprisingly </span>\n",
       "                </div>\n",
       "                \n",
       "                <div style=\"background-color:rgba(255, 0, 0, 1.0);\n",
       "                padding:0px 2px 0px 2px;\n",
       "                margin:2px 2px 0px 0px\">\n",
       "                <span style=\"color:black; font: 400 8px/0.85rem  sans-serif;\">refreshing </span>\n",
       "                </div>\n",
       "                \n",
       "                <div style=\"background-color:rgba(255, 226, 226, 1.0);\n",
       "                padding:0px 2px 0px 2px;\n",
       "                margin:2px 2px 0px 0px\">\n",
       "                <span style=\"color:black; font: 400 8px/0.85rem  sans-serif;\">. </span>\n",
       "                </div>\n",
       "                   \n",
       "            </div>\n",
       "            </div>\n",
       "            "
      ],
      "text/plain": [
       "<IPython.core.display.HTML object>"
      ]
     },
     "execution_count": 13,
     "metadata": {},
     "output_type": "execute_result"
    }
   ],
   "source": [
    "obj = ExplainText.plot(importances=importances, words=words)\n",
    "obj"
   ]
  },
  {
   "cell_type": "code",
   "execution_count": 14,
   "metadata": {},
   "outputs": [],
   "source": [
    "with open(\"explain_text.html\", \"w\") as fd:\n",
    "    fd.write(obj.data)"
   ]
  },
  {
   "cell_type": "markdown",
   "metadata": {},
   "source": [
    "Thank you!"
   ]
  }
 ],
 "metadata": {
  "kernelspec": {
   "display_name": "Python 3.7.7 64-bit ('density-lime3.7': conda)",
   "language": "python",
   "name": "python37764bitdensitylime37conda50d130c018e04de1bf3cf9b79439527e"
  },
  "language_info": {
   "codemirror_mode": {
    "name": "ipython",
    "version": 3
   },
   "file_extension": ".py",
   "mimetype": "text/x-python",
   "name": "python",
   "nbconvert_exporter": "python",
   "pygments_lexer": "ipython3",
   "version": "3.7.7"
  }
 },
 "nbformat": 4,
 "nbformat_minor": 4
}
