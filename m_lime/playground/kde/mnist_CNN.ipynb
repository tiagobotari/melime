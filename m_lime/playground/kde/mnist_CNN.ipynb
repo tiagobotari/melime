{
 "cells": [
  {
   "cell_type": "code",
   "execution_count": 1,
   "metadata": {},
   "outputs": [],
   "source": [
    "import torch\n",
    "import torchvision"
   ]
  },
  {
   "cell_type": "code",
   "execution_count": 2,
   "metadata": {},
   "outputs": [
    {
     "data": {
      "text/plain": [
       "<torch._C.Generator at 0x154ee90e6f90>"
      ]
     },
     "execution_count": 2,
     "metadata": {},
     "output_type": "execute_result"
    }
   ],
   "source": [
    "n_epochs = 3\n",
    "batch_size_train = 64\n",
    "batch_size_test = 1000\n",
    "learning_rate = 0.01\n",
    "momentum = 0.5\n",
    "log_interval = 10\n",
    "\n",
    "random_seed = 1\n",
    "torch.backends.cudnn.enabled = False\n",
    "torch.manual_seed(random_seed)"
   ]
  },
  {
   "cell_type": "code",
   "execution_count": 5,
   "metadata": {},
   "outputs": [
    {
     "name": "stdout",
     "output_type": "stream",
     "text": [
      "Downloading http://yann.lecun.com/exdb/mnist/train-images-idx3-ubyte.gz to ./MNIST/raw/train-images-idx3-ubyte.gz\n"
     ]
    },
    {
     "name": "stderr",
     "output_type": "stream",
     "text": [
      "100.1%"
     ]
    },
    {
     "name": "stdout",
     "output_type": "stream",
     "text": [
      "Extracting ./MNIST/raw/train-images-idx3-ubyte.gz to ./MNIST/raw\n"
     ]
    },
    {
     "name": "stderr",
     "output_type": "stream",
     "text": [
      "113.5%"
     ]
    },
    {
     "name": "stdout",
     "output_type": "stream",
     "text": [
      "Downloading http://yann.lecun.com/exdb/mnist/train-labels-idx1-ubyte.gz to ./MNIST/raw/train-labels-idx1-ubyte.gz\n",
      "Extracting ./MNIST/raw/train-labels-idx1-ubyte.gz to ./MNIST/raw\n",
      "Downloading http://yann.lecun.com/exdb/mnist/t10k-images-idx3-ubyte.gz to ./MNIST/raw/t10k-images-idx3-ubyte.gz\n"
     ]
    },
    {
     "name": "stderr",
     "output_type": "stream",
     "text": [
      "100.4%"
     ]
    },
    {
     "name": "stdout",
     "output_type": "stream",
     "text": [
      "Extracting ./MNIST/raw/t10k-images-idx3-ubyte.gz to ./MNIST/raw\n",
      "Downloading http://yann.lecun.com/exdb/mnist/t10k-labels-idx1-ubyte.gz to ./MNIST/raw/t10k-labels-idx1-ubyte.gz\n"
     ]
    },
    {
     "name": "stderr",
     "output_type": "stream",
     "text": [
      "180.4%"
     ]
    },
    {
     "name": "stdout",
     "output_type": "stream",
     "text": [
      "Extracting ./MNIST/raw/t10k-labels-idx1-ubyte.gz to ./MNIST/raw\n",
      "Processing...\n",
      "Done!\n"
     ]
    }
   ],
   "source": [
    "train_loader = torch.utils.data.DataLoader(\n",
    "  torchvision.datasets.MNIST('./', train=True, download=True,\n",
    "                             transform=torchvision.transforms.Compose([\n",
    "                               torchvision.transforms.ToTensor(),\n",
    "                               torchvision.transforms.Normalize(\n",
    "                                 (0.1307,), (0.3081,))\n",
    "                             ])),\n",
    "  batch_size=batch_size_train, shuffle=True)\n",
    "\n",
    "test_loader = torch.utils.data.DataLoader(\n",
    "  torchvision.datasets.MNIST('./', train=False, download=True,\n",
    "                             transform=torchvision.transforms.Compose([\n",
    "                               torchvision.transforms.ToTensor(),\n",
    "                               torchvision.transforms.Normalize(\n",
    "                                 (0.1307,), (0.3081,))\n",
    "                             ])),\n",
    "  batch_size=batch_size_test, shuffle=True)"
   ]
  },
  {
   "cell_type": "code",
   "execution_count": 6,
   "metadata": {},
   "outputs": [],
   "source": [
    "examples = enumerate(test_loader)\n",
    "batch_idx, (example_data, example_targets) = next(examples)"
   ]
  },
  {
   "cell_type": "code",
   "execution_count": 7,
   "metadata": {},
   "outputs": [
    {
     "data": {
      "text/plain": [
       "torch.Size([1000, 1, 28, 28])"
      ]
     },
     "execution_count": 7,
     "metadata": {},
     "output_type": "execute_result"
    }
   ],
   "source": [
    "example_data.shape"
   ]
  },
  {
   "cell_type": "code",
   "execution_count": 9,
   "metadata": {},
   "outputs": [
    {
     "data": {
      "image/png": "[encoded data removed]",
      "text/plain": [
       "<Figure size 432x288 with 6 Axes>"
      ]
     },
     "metadata": {},
     "output_type": "display_data"
    }
   ],
   "source": [
    "import matplotlib.pyplot as plt\n",
    "\n",
    "fig = plt.figure()\n",
    "for i in range(6):\n",
    "  plt.subplot(2,3,i+1)\n",
    "  plt.tight_layout()\n",
    "  plt.imshow(example_data[i][0], cmap='gray', interpolation='none')\n",
    "  plt.title(\"Ground Truth: {}\".format(example_targets[i]))\n",
    "  plt.xticks([])\n",
    "  plt.yticks([])\n"
   ]
  },
  {
   "cell_type": "code",
   "execution_count": 10,
   "metadata": {},
   "outputs": [],
   "source": [
    "import torch.nn as nn\n",
    "import torch.nn.functional as F\n",
    "import torch.optim as optim"
   ]
  },
  {
   "cell_type": "code",
   "execution_count": 11,
   "metadata": {},
   "outputs": [],
   "source": [
    "class Net(nn.Module):\n",
    "    def __init__(self):\n",
    "        super(Net, self).__init__()\n",
    "        self.conv1 = nn.Conv2d(1, 10, kernel_size=5)\n",
    "        self.conv2 = nn.Conv2d(10, 20, kernel_size=5)\n",
    "        self.conv2_drop = nn.Dropout2d()\n",
    "        self.fc1 = nn.Linear(320, 50)\n",
    "        self.fc2 = nn.Linear(50, 10)\n",
    "\n",
    "    def forward(self, x):\n",
    "        x = F.relu(F.max_pool2d(self.conv1(x), 2))\n",
    "        x = F.relu(F.max_pool2d(self.conv2_drop(self.conv2(x)), 2))\n",
    "        x = x.view(-1, 320)\n",
    "        x = F.relu(self.fc1(x))\n",
    "        x = F.dropout(x, training=self.training)\n",
    "        x = self.fc2(x)\n",
    "        return F.log_softmax(x)"
   ]
  },
  {
   "cell_type": "code",
   "execution_count": 12,
   "metadata": {},
   "outputs": [],
   "source": [
    "network = Net()\n",
    "optimizer = optim.SGD(network.parameters(), lr=learning_rate,\n",
    "                      momentum=momentum)"
   ]
  },
  {
   "cell_type": "code",
   "execution_count": 13,
   "metadata": {},
   "outputs": [],
   "source": [
    "train_losses = []\n",
    "train_counter = []\n",
    "test_losses = []\n",
    "test_counter = [i*len(train_loader.dataset) for i in range(n_epochs + 1)]"
   ]
  },
  {
   "cell_type": "code",
   "execution_count": 21,
   "metadata": {},
   "outputs": [],
   "source": [
    "def train(epoch):\n",
    "  network.train()\n",
    "  for batch_idx, (data, target) in enumerate(train_loader):\n",
    "    optimizer.zero_grad()\n",
    "    output = network(data)\n",
    "    loss = F.nll_loss(output, target)\n",
    "    loss.backward()\n",
    "    optimizer.step()\n",
    "    if batch_idx % log_interval == 0:\n",
    "      print('Train Epoch: {} [{}/{} ({:.0f}%)]\\tLoss: {:.6f}'.format(\n",
    "        epoch, batch_idx * len(data), len(train_loader.dataset),\n",
    "        100. * batch_idx / len(train_loader), loss.item()))\n",
    "      train_losses.append(loss.item())\n",
    "#       train_counter.append(\n",
    "#         (batch_idx*64) + ((epoch-1)*len(train_loader.dataset)))\n",
    "#       torch.save(network.state_dict(), './results/model.pth')\n",
    "#       torch.save(optimizer.state_dict(), './results/optimizer.pth')"
   ]
  },
  {
   "cell_type": "code",
   "execution_count": 22,
   "metadata": {},
   "outputs": [],
   "source": [
    "def test():\n",
    "  network.eval()\n",
    "  test_loss = 0\n",
    "  correct = 0\n",
    "  with torch.no_grad():\n",
    "    for data, target in test_loader:\n",
    "      output = network(data)\n",
    "      test_loss += F.nll_loss(output, target, size_average=False).item()\n",
    "      pred = output.data.max(1, keepdim=True)[1]\n",
    "      correct += pred.eq(target.data.view_as(pred)).sum()\n",
    "  test_loss /= len(test_loader.dataset)\n",
    "  test_losses.append(test_loss)\n",
    "  print('\\nTest set: Avg. loss: {:.4f}, Accuracy: {}/{} ({:.0f}%)\\n'.format(\n",
    "    test_loss, correct, len(test_loader.dataset),\n",
    "    100. * correct / len(test_loader.dataset)))"
   ]
  },
  {
   "cell_type": "code",
   "execution_count": 23,
   "metadata": {},
   "outputs": [
    {
     "name": "stderr",
     "output_type": "stream",
     "text": [
      "/home/tiago/anaconda3/envs/density-lime3.7/lib/python3.7/site-packages/ipykernel_launcher.py:17: UserWarning: Implicit dimension choice for log_softmax has been deprecated. Change the call to include dim=X as an argument.\n"
     ]
    },
    {
     "name": "stdout",
     "output_type": "stream",
     "text": [
      "\n",
      "Test set: Avg. loss: 2.2952, Accuracy: 956/10000 (10%)\n",
      "\n",
      "Train Epoch: 1 [0/60000 (0%)]\tLoss: 2.283907\n",
      "Train Epoch: 1 [640/60000 (1%)]\tLoss: 2.269442\n",
      "Train Epoch: 1 [1280/60000 (2%)]\tLoss: 2.264493\n",
      "Train Epoch: 1 [1920/60000 (3%)]\tLoss: 2.211495\n",
      "Train Epoch: 1 [2560/60000 (4%)]\tLoss: 2.259642\n",
      "Train Epoch: 1 [3200/60000 (5%)]\tLoss: 2.194855\n",
      "Train Epoch: 1 [3840/60000 (6%)]\tLoss: 2.128304\n",
      "Train Epoch: 1 [4480/60000 (7%)]\tLoss: 2.040426\n",
      "Train Epoch: 1 [5120/60000 (9%)]\tLoss: 1.958778\n",
      "Train Epoch: 1 [5760/60000 (10%)]\tLoss: 1.986339\n",
      "Train Epoch: 1 [6400/60000 (11%)]\tLoss: 1.940451\n",
      "Train Epoch: 1 [7040/60000 (12%)]\tLoss: 1.664165\n",
      "Train Epoch: 1 [7680/60000 (13%)]\tLoss: 1.512799\n",
      "Train Epoch: 1 [8320/60000 (14%)]\tLoss: 1.557819\n",
      "Train Epoch: 1 [8960/60000 (15%)]\tLoss: 1.399383\n",
      "Train Epoch: 1 [9600/60000 (16%)]\tLoss: 1.288215\n",
      "Train Epoch: 1 [10240/60000 (17%)]\tLoss: 1.340983\n",
      "Train Epoch: 1 [10880/60000 (18%)]\tLoss: 1.405382\n",
      "Train Epoch: 1 [11520/60000 (19%)]\tLoss: 1.273831\n",
      "Train Epoch: 1 [12160/60000 (20%)]\tLoss: 1.069184\n",
      "Train Epoch: 1 [12800/60000 (21%)]\tLoss: 1.080810\n",
      "Train Epoch: 1 [13440/60000 (22%)]\tLoss: 1.032438\n",
      "Train Epoch: 1 [14080/60000 (23%)]\tLoss: 1.046399\n",
      "Train Epoch: 1 [14720/60000 (25%)]\tLoss: 0.918422\n",
      "Train Epoch: 1 [15360/60000 (26%)]\tLoss: 1.067559\n",
      "Train Epoch: 1 [16000/60000 (27%)]\tLoss: 1.191182\n",
      "Train Epoch: 1 [16640/60000 (28%)]\tLoss: 0.963218\n",
      "Train Epoch: 1 [17280/60000 (29%)]\tLoss: 0.892283\n",
      "Train Epoch: 1 [17920/60000 (30%)]\tLoss: 1.109062\n",
      "Train Epoch: 1 [18560/60000 (31%)]\tLoss: 0.900382\n",
      "Train Epoch: 1 [19200/60000 (32%)]\tLoss: 0.886661\n",
      "Train Epoch: 1 [19840/60000 (33%)]\tLoss: 0.863229\n",
      "Train Epoch: 1 [20480/60000 (34%)]\tLoss: 0.794801\n",
      "Train Epoch: 1 [21120/60000 (35%)]\tLoss: 0.719813\n",
      "Train Epoch: 1 [21760/60000 (36%)]\tLoss: 0.981461\n",
      "Train Epoch: 1 [22400/60000 (37%)]\tLoss: 1.081997\n",
      "Train Epoch: 1 [23040/60000 (38%)]\tLoss: 0.798024\n",
      "Train Epoch: 1 [23680/60000 (39%)]\tLoss: 0.924114\n",
      "Train Epoch: 1 [24320/60000 (41%)]\tLoss: 0.799184\n",
      "Train Epoch: 1 [24960/60000 (42%)]\tLoss: 0.704245\n",
      "Train Epoch: 1 [25600/60000 (43%)]\tLoss: 0.780019\n",
      "Train Epoch: 1 [26240/60000 (44%)]\tLoss: 0.814743\n",
      "Train Epoch: 1 [26880/60000 (45%)]\tLoss: 0.786779\n",
      "Train Epoch: 1 [27520/60000 (46%)]\tLoss: 0.808278\n",
      "Train Epoch: 1 [28160/60000 (47%)]\tLoss: 0.864012\n",
      "Train Epoch: 1 [28800/60000 (48%)]\tLoss: 0.820710\n",
      "Train Epoch: 1 [29440/60000 (49%)]\tLoss: 0.663428\n",
      "Train Epoch: 1 [30080/60000 (50%)]\tLoss: 0.631000\n",
      "Train Epoch: 1 [30720/60000 (51%)]\tLoss: 0.889209\n",
      "Train Epoch: 1 [31360/60000 (52%)]\tLoss: 0.554399\n",
      "Train Epoch: 1 [32000/60000 (53%)]\tLoss: 0.816495\n",
      "Train Epoch: 1 [32640/60000 (54%)]\tLoss: 0.626811\n",
      "Train Epoch: 1 [33280/60000 (55%)]\tLoss: 0.500379\n",
      "Train Epoch: 1 [33920/60000 (57%)]\tLoss: 0.644802\n",
      "Train Epoch: 1 [34560/60000 (58%)]\tLoss: 0.722450\n",
      "Train Epoch: 1 [35200/60000 (59%)]\tLoss: 0.715725\n",
      "Train Epoch: 1 [35840/60000 (60%)]\tLoss: 0.545163\n",
      "Train Epoch: 1 [36480/60000 (61%)]\tLoss: 0.535480\n",
      "Train Epoch: 1 [37120/60000 (62%)]\tLoss: 0.481373\n",
      "Train Epoch: 1 [37760/60000 (63%)]\tLoss: 0.889737\n",
      "Train Epoch: 1 [38400/60000 (64%)]\tLoss: 0.466675\n",
      "Train Epoch: 1 [39040/60000 (65%)]\tLoss: 0.553538\n",
      "Train Epoch: 1 [39680/60000 (66%)]\tLoss: 0.663970\n",
      "Train Epoch: 1 [40320/60000 (67%)]\tLoss: 0.528644\n",
      "Train Epoch: 1 [40960/60000 (68%)]\tLoss: 0.576028\n",
      "Train Epoch: 1 [41600/60000 (69%)]\tLoss: 0.373177\n",
      "Train Epoch: 1 [42240/60000 (70%)]\tLoss: 0.458086\n",
      "Train Epoch: 1 [42880/60000 (71%)]\tLoss: 0.564940\n",
      "Train Epoch: 1 [43520/60000 (72%)]\tLoss: 0.659974\n",
      "Train Epoch: 1 [44160/60000 (74%)]\tLoss: 0.701667\n",
      "Train Epoch: 1 [44800/60000 (75%)]\tLoss: 0.738177\n",
      "Train Epoch: 1 [45440/60000 (76%)]\tLoss: 0.609735\n",
      "Train Epoch: 1 [46080/60000 (77%)]\tLoss: 0.560961\n",
      "Train Epoch: 1 [46720/60000 (78%)]\tLoss: 0.541085\n",
      "Train Epoch: 1 [47360/60000 (79%)]\tLoss: 1.033705\n",
      "Train Epoch: 1 [48000/60000 (80%)]\tLoss: 0.675091\n",
      "Train Epoch: 1 [48640/60000 (81%)]\tLoss: 0.368136\n",
      "Train Epoch: 1 [49280/60000 (82%)]\tLoss: 0.376159\n",
      "Train Epoch: 1 [49920/60000 (83%)]\tLoss: 0.573223\n",
      "Train Epoch: 1 [50560/60000 (84%)]\tLoss: 0.847483\n",
      "Train Epoch: 1 [51200/60000 (85%)]\tLoss: 0.599323\n",
      "Train Epoch: 1 [51840/60000 (86%)]\tLoss: 0.522668\n",
      "Train Epoch: 1 [52480/60000 (87%)]\tLoss: 0.702501\n",
      "Train Epoch: 1 [53120/60000 (88%)]\tLoss: 0.451487\n",
      "Train Epoch: 1 [53760/60000 (90%)]\tLoss: 0.540971\n",
      "Train Epoch: 1 [54400/60000 (91%)]\tLoss: 0.387061\n",
      "Train Epoch: 1 [55040/60000 (92%)]\tLoss: 0.882067\n",
      "Train Epoch: 1 [55680/60000 (93%)]\tLoss: 0.478763\n",
      "Train Epoch: 1 [56320/60000 (94%)]\tLoss: 0.807828\n",
      "Train Epoch: 1 [56960/60000 (95%)]\tLoss: 0.450403\n",
      "Train Epoch: 1 [57600/60000 (96%)]\tLoss: 0.473743\n",
      "Train Epoch: 1 [58240/60000 (97%)]\tLoss: 0.531231\n",
      "Train Epoch: 1 [58880/60000 (98%)]\tLoss: 0.520475\n",
      "Train Epoch: 1 [59520/60000 (99%)]\tLoss: 0.708003\n",
      "\n",
      "Test set: Avg. loss: 0.2132, Accuracy: 9418/10000 (94%)\n",
      "\n",
      "Train Epoch: 2 [0/60000 (0%)]\tLoss: 0.511648\n",
      "Train Epoch: 2 [640/60000 (1%)]\tLoss: 0.367099\n",
      "Train Epoch: 2 [1280/60000 (2%)]\tLoss: 0.503302\n",
      "Train Epoch: 2 [1920/60000 (3%)]\tLoss: 0.803688\n",
      "Train Epoch: 2 [2560/60000 (4%)]\tLoss: 0.488816\n",
      "Train Epoch: 2 [3200/60000 (5%)]\tLoss: 0.333819\n",
      "Train Epoch: 2 [3840/60000 (6%)]\tLoss: 0.665730\n",
      "Train Epoch: 2 [4480/60000 (7%)]\tLoss: 0.535874\n",
      "Train Epoch: 2 [5120/60000 (9%)]\tLoss: 0.467191\n",
      "Train Epoch: 2 [5760/60000 (10%)]\tLoss: 0.438190\n",
      "Train Epoch: 2 [6400/60000 (11%)]\tLoss: 0.453320\n",
      "Train Epoch: 2 [7040/60000 (12%)]\tLoss: 0.692139\n",
      "Train Epoch: 2 [7680/60000 (13%)]\tLoss: 0.420955\n",
      "Train Epoch: 2 [8320/60000 (14%)]\tLoss: 0.305295\n",
      "Train Epoch: 2 [8960/60000 (15%)]\tLoss: 0.360639\n",
      "Train Epoch: 2 [9600/60000 (16%)]\tLoss: 0.668423\n",
      "Train Epoch: 2 [10240/60000 (17%)]\tLoss: 0.420782\n",
      "Train Epoch: 2 [10880/60000 (18%)]\tLoss: 0.306035\n",
      "Train Epoch: 2 [11520/60000 (19%)]\tLoss: 0.405950\n",
      "Train Epoch: 2 [12160/60000 (20%)]\tLoss: 0.702520\n",
      "Train Epoch: 2 [12800/60000 (21%)]\tLoss: 0.594028\n",
      "Train Epoch: 2 [13440/60000 (22%)]\tLoss: 0.346792\n",
      "Train Epoch: 2 [14080/60000 (23%)]\tLoss: 0.572587\n",
      "Train Epoch: 2 [14720/60000 (25%)]\tLoss: 0.289616\n",
      "Train Epoch: 2 [15360/60000 (26%)]\tLoss: 0.485839\n",
      "Train Epoch: 2 [16000/60000 (27%)]\tLoss: 0.297647\n",
      "Train Epoch: 2 [16640/60000 (28%)]\tLoss: 0.571139\n",
      "Train Epoch: 2 [17280/60000 (29%)]\tLoss: 0.349687\n",
      "Train Epoch: 2 [17920/60000 (30%)]\tLoss: 0.465070\n",
      "Train Epoch: 2 [18560/60000 (31%)]\tLoss: 0.449619\n",
      "Train Epoch: 2 [19200/60000 (32%)]\tLoss: 0.407982\n",
      "Train Epoch: 2 [19840/60000 (33%)]\tLoss: 0.349817\n",
      "Train Epoch: 2 [20480/60000 (34%)]\tLoss: 0.533925\n",
      "Train Epoch: 2 [21120/60000 (35%)]\tLoss: 0.297744\n",
      "Train Epoch: 2 [21760/60000 (36%)]\tLoss: 0.372477\n",
      "Train Epoch: 2 [22400/60000 (37%)]\tLoss: 0.553770\n",
      "Train Epoch: 2 [23040/60000 (38%)]\tLoss: 0.406964\n",
      "Train Epoch: 2 [23680/60000 (39%)]\tLoss: 0.440186\n",
      "Train Epoch: 2 [24320/60000 (41%)]\tLoss: 0.688131\n",
      "Train Epoch: 2 [24960/60000 (42%)]\tLoss: 0.350163\n",
      "Train Epoch: 2 [25600/60000 (43%)]\tLoss: 0.441119\n",
      "Train Epoch: 2 [26240/60000 (44%)]\tLoss: 0.317949\n",
      "Train Epoch: 2 [26880/60000 (45%)]\tLoss: 0.447642\n",
      "Train Epoch: 2 [27520/60000 (46%)]\tLoss: 0.270825\n",
      "Train Epoch: 2 [28160/60000 (47%)]\tLoss: 0.453732\n",
      "Train Epoch: 2 [28800/60000 (48%)]\tLoss: 0.244230\n",
      "Train Epoch: 2 [29440/60000 (49%)]\tLoss: 0.371667\n",
      "Train Epoch: 2 [30080/60000 (50%)]\tLoss: 0.379936\n",
      "Train Epoch: 2 [30720/60000 (51%)]\tLoss: 0.287930\n",
      "Train Epoch: 2 [31360/60000 (52%)]\tLoss: 0.353283\n",
      "Train Epoch: 2 [32000/60000 (53%)]\tLoss: 0.498212\n",
      "Train Epoch: 2 [32640/60000 (54%)]\tLoss: 0.607978\n",
      "Train Epoch: 2 [33280/60000 (55%)]\tLoss: 0.604122\n",
      "Train Epoch: 2 [33920/60000 (57%)]\tLoss: 0.467767\n",
      "Train Epoch: 2 [34560/60000 (58%)]\tLoss: 0.447301\n",
      "Train Epoch: 2 [35200/60000 (59%)]\tLoss: 0.309279\n",
      "Train Epoch: 2 [35840/60000 (60%)]\tLoss: 0.415034\n",
      "Train Epoch: 2 [36480/60000 (61%)]\tLoss: 0.458564\n",
      "Train Epoch: 2 [37120/60000 (62%)]\tLoss: 0.248433\n",
      "Train Epoch: 2 [37760/60000 (63%)]\tLoss: 0.330289\n",
      "Train Epoch: 2 [38400/60000 (64%)]\tLoss: 0.329902\n",
      "Train Epoch: 2 [39040/60000 (65%)]\tLoss: 0.564133\n",
      "Train Epoch: 2 [39680/60000 (66%)]\tLoss: 0.567985\n",
      "Train Epoch: 2 [40320/60000 (67%)]\tLoss: 0.248276\n",
      "Train Epoch: 2 [40960/60000 (68%)]\tLoss: 0.496376\n",
      "Train Epoch: 2 [41600/60000 (69%)]\tLoss: 0.400710\n",
      "Train Epoch: 2 [42240/60000 (70%)]\tLoss: 0.237997\n",
      "Train Epoch: 2 [42880/60000 (71%)]\tLoss: 0.362347\n",
      "Train Epoch: 2 [43520/60000 (72%)]\tLoss: 0.356101\n"
     ]
    },
    {
     "name": "stdout",
     "output_type": "stream",
     "text": [
      "Train Epoch: 2 [44160/60000 (74%)]\tLoss: 0.278200\n",
      "Train Epoch: 2 [44800/60000 (75%)]\tLoss: 0.239492\n",
      "Train Epoch: 2 [45440/60000 (76%)]\tLoss: 0.474425\n",
      "Train Epoch: 2 [46080/60000 (77%)]\tLoss: 0.492366\n",
      "Train Epoch: 2 [46720/60000 (78%)]\tLoss: 0.556552\n",
      "Train Epoch: 2 [47360/60000 (79%)]\tLoss: 0.424723\n",
      "Train Epoch: 2 [48000/60000 (80%)]\tLoss: 0.436164\n",
      "Train Epoch: 2 [48640/60000 (81%)]\tLoss: 0.431465\n",
      "Train Epoch: 2 [49280/60000 (82%)]\tLoss: 0.369034\n",
      "Train Epoch: 2 [49920/60000 (83%)]\tLoss: 0.565434\n",
      "Train Epoch: 2 [50560/60000 (84%)]\tLoss: 0.319444\n",
      "Train Epoch: 2 [51200/60000 (85%)]\tLoss: 0.235115\n",
      "Train Epoch: 2 [51840/60000 (86%)]\tLoss: 0.442201\n",
      "Train Epoch: 2 [52480/60000 (87%)]\tLoss: 0.363931\n",
      "Train Epoch: 2 [53120/60000 (88%)]\tLoss: 0.507338\n",
      "Train Epoch: 2 [53760/60000 (90%)]\tLoss: 0.593048\n",
      "Train Epoch: 2 [54400/60000 (91%)]\tLoss: 0.479077\n",
      "Train Epoch: 2 [55040/60000 (92%)]\tLoss: 0.536601\n",
      "Train Epoch: 2 [55680/60000 (93%)]\tLoss: 0.371687\n",
      "Train Epoch: 2 [56320/60000 (94%)]\tLoss: 0.595826\n",
      "Train Epoch: 2 [56960/60000 (95%)]\tLoss: 0.364549\n",
      "Train Epoch: 2 [57600/60000 (96%)]\tLoss: 0.280298\n",
      "Train Epoch: 2 [58240/60000 (97%)]\tLoss: 0.331019\n",
      "Train Epoch: 2 [58880/60000 (98%)]\tLoss: 0.214068\n",
      "Train Epoch: 2 [59520/60000 (99%)]\tLoss: 0.232744\n",
      "\n",
      "Test set: Avg. loss: 0.1214, Accuracy: 9610/10000 (96%)\n",
      "\n",
      "Train Epoch: 3 [0/60000 (0%)]\tLoss: 0.418690\n",
      "Train Epoch: 3 [640/60000 (1%)]\tLoss: 0.440440\n",
      "Train Epoch: 3 [1280/60000 (2%)]\tLoss: 0.244055\n",
      "Train Epoch: 3 [1920/60000 (3%)]\tLoss: 0.390229\n",
      "Train Epoch: 3 [2560/60000 (4%)]\tLoss: 0.424084\n",
      "Train Epoch: 3 [3200/60000 (5%)]\tLoss: 0.359231\n",
      "Train Epoch: 3 [3840/60000 (6%)]\tLoss: 0.369117\n",
      "Train Epoch: 3 [4480/60000 (7%)]\tLoss: 0.335497\n",
      "Train Epoch: 3 [5120/60000 (9%)]\tLoss: 0.320782\n",
      "Train Epoch: 3 [5760/60000 (10%)]\tLoss: 0.365148\n",
      "Train Epoch: 3 [6400/60000 (11%)]\tLoss: 0.670960\n",
      "Train Epoch: 3 [7040/60000 (12%)]\tLoss: 0.478385\n",
      "Train Epoch: 3 [7680/60000 (13%)]\tLoss: 0.429778\n",
      "Train Epoch: 3 [8320/60000 (14%)]\tLoss: 0.279065\n",
      "Train Epoch: 3 [8960/60000 (15%)]\tLoss: 0.170372\n",
      "Train Epoch: 3 [9600/60000 (16%)]\tLoss: 0.361263\n",
      "Train Epoch: 3 [10240/60000 (17%)]\tLoss: 0.345547\n",
      "Train Epoch: 3 [10880/60000 (18%)]\tLoss: 0.368408\n",
      "Train Epoch: 3 [11520/60000 (19%)]\tLoss: 0.452986\n",
      "Train Epoch: 3 [12160/60000 (20%)]\tLoss: 0.342780\n",
      "Train Epoch: 3 [12800/60000 (21%)]\tLoss: 0.429699\n",
      "Train Epoch: 3 [13440/60000 (22%)]\tLoss: 0.385545\n",
      "Train Epoch: 3 [14080/60000 (23%)]\tLoss: 0.450296\n",
      "Train Epoch: 3 [14720/60000 (25%)]\tLoss: 0.335061\n",
      "Train Epoch: 3 [15360/60000 (26%)]\tLoss: 0.224788\n",
      "Train Epoch: 3 [16000/60000 (27%)]\tLoss: 0.333841\n",
      "Train Epoch: 3 [16640/60000 (28%)]\tLoss: 0.283787\n",
      "Train Epoch: 3 [17280/60000 (29%)]\tLoss: 0.281023\n",
      "Train Epoch: 3 [17920/60000 (30%)]\tLoss: 0.312391\n",
      "Train Epoch: 3 [18560/60000 (31%)]\tLoss: 0.205893\n",
      "Train Epoch: 3 [19200/60000 (32%)]\tLoss: 0.215785\n",
      "Train Epoch: 3 [19840/60000 (33%)]\tLoss: 0.408711\n",
      "Train Epoch: 3 [20480/60000 (34%)]\tLoss: 0.350019\n",
      "Train Epoch: 3 [21120/60000 (35%)]\tLoss: 0.340179\n",
      "Train Epoch: 3 [21760/60000 (36%)]\tLoss: 0.529885\n",
      "Train Epoch: 3 [22400/60000 (37%)]\tLoss: 0.249725\n",
      "Train Epoch: 3 [23040/60000 (38%)]\tLoss: 0.371417\n",
      "Train Epoch: 3 [23680/60000 (39%)]\tLoss: 0.162370\n",
      "Train Epoch: 3 [24320/60000 (41%)]\tLoss: 0.231660\n",
      "Train Epoch: 3 [24960/60000 (42%)]\tLoss: 0.167411\n",
      "Train Epoch: 3 [25600/60000 (43%)]\tLoss: 0.337814\n",
      "Train Epoch: 3 [26240/60000 (44%)]\tLoss: 0.332111\n",
      "Train Epoch: 3 [26880/60000 (45%)]\tLoss: 0.295734\n",
      "Train Epoch: 3 [27520/60000 (46%)]\tLoss: 0.190927\n",
      "Train Epoch: 3 [28160/60000 (47%)]\tLoss: 0.397519\n",
      "Train Epoch: 3 [28800/60000 (48%)]\tLoss: 0.208125\n",
      "Train Epoch: 3 [29440/60000 (49%)]\tLoss: 0.274935\n",
      "Train Epoch: 3 [30080/60000 (50%)]\tLoss: 0.224456\n",
      "Train Epoch: 3 [30720/60000 (51%)]\tLoss: 0.129325\n",
      "Train Epoch: 3 [31360/60000 (52%)]\tLoss: 0.429600\n",
      "Train Epoch: 3 [32000/60000 (53%)]\tLoss: 0.263241\n",
      "Train Epoch: 3 [32640/60000 (54%)]\tLoss: 0.493193\n",
      "Train Epoch: 3 [33280/60000 (55%)]\tLoss: 0.300726\n",
      "Train Epoch: 3 [33920/60000 (57%)]\tLoss: 0.172277\n",
      "Train Epoch: 3 [34560/60000 (58%)]\tLoss: 0.387211\n",
      "Train Epoch: 3 [35200/60000 (59%)]\tLoss: 0.199837\n",
      "Train Epoch: 3 [35840/60000 (60%)]\tLoss: 0.253964\n",
      "Train Epoch: 3 [36480/60000 (61%)]\tLoss: 0.222035\n",
      "Train Epoch: 3 [37120/60000 (62%)]\tLoss: 0.224111\n",
      "Train Epoch: 3 [37760/60000 (63%)]\tLoss: 0.201314\n",
      "Train Epoch: 3 [38400/60000 (64%)]\tLoss: 0.227197\n",
      "Train Epoch: 3 [39040/60000 (65%)]\tLoss: 0.279142\n",
      "Train Epoch: 3 [39680/60000 (66%)]\tLoss: 0.206605\n",
      "Train Epoch: 3 [40320/60000 (67%)]\tLoss: 0.217417\n",
      "Train Epoch: 3 [40960/60000 (68%)]\tLoss: 0.243587\n",
      "Train Epoch: 3 [41600/60000 (69%)]\tLoss: 0.412589\n",
      "Train Epoch: 3 [42240/60000 (70%)]\tLoss: 0.359240\n",
      "Train Epoch: 3 [42880/60000 (71%)]\tLoss: 0.263584\n",
      "Train Epoch: 3 [43520/60000 (72%)]\tLoss: 0.327355\n",
      "Train Epoch: 3 [44160/60000 (74%)]\tLoss: 0.306387\n",
      "Train Epoch: 3 [44800/60000 (75%)]\tLoss: 0.416867\n",
      "Train Epoch: 3 [45440/60000 (76%)]\tLoss: 0.162630\n",
      "Train Epoch: 3 [46080/60000 (77%)]\tLoss: 0.175889\n",
      "Train Epoch: 3 [46720/60000 (78%)]\tLoss: 0.270361\n",
      "Train Epoch: 3 [47360/60000 (79%)]\tLoss: 0.191427\n",
      "Train Epoch: 3 [48000/60000 (80%)]\tLoss: 0.578539\n",
      "Train Epoch: 3 [48640/60000 (81%)]\tLoss: 0.356550\n",
      "Train Epoch: 3 [49280/60000 (82%)]\tLoss: 0.175793\n",
      "Train Epoch: 3 [49920/60000 (83%)]\tLoss: 0.272865\n",
      "Train Epoch: 3 [50560/60000 (84%)]\tLoss: 0.297215\n",
      "Train Epoch: 3 [51200/60000 (85%)]\tLoss: 0.286278\n",
      "Train Epoch: 3 [51840/60000 (86%)]\tLoss: 0.209110\n",
      "Train Epoch: 3 [52480/60000 (87%)]\tLoss: 0.441957\n",
      "Train Epoch: 3 [53120/60000 (88%)]\tLoss: 0.208430\n",
      "Train Epoch: 3 [53760/60000 (90%)]\tLoss: 0.316681\n",
      "Train Epoch: 3 [54400/60000 (91%)]\tLoss: 0.166031\n",
      "Train Epoch: 3 [55040/60000 (92%)]\tLoss: 0.360675\n",
      "Train Epoch: 3 [55680/60000 (93%)]\tLoss: 0.288770\n",
      "Train Epoch: 3 [56320/60000 (94%)]\tLoss: 0.222214\n",
      "Train Epoch: 3 [56960/60000 (95%)]\tLoss: 0.454971\n",
      "Train Epoch: 3 [57600/60000 (96%)]\tLoss: 0.218556\n",
      "Train Epoch: 3 [58240/60000 (97%)]\tLoss: 0.306046\n",
      "Train Epoch: 3 [58880/60000 (98%)]\tLoss: 0.432161\n",
      "Train Epoch: 3 [59520/60000 (99%)]\tLoss: 0.179372\n",
      "\n",
      "Test set: Avg. loss: 0.0985, Accuracy: 9695/10000 (97%)\n",
      "\n"
     ]
    }
   ],
   "source": [
    "test()\n",
    "for epoch in range(1, n_epochs + 1):\n",
    "  train(epoch)\n",
    "  test()"
   ]
  },
  {
   "cell_type": "code",
   "execution_count": 25,
   "metadata": {},
   "outputs": [
    {
     "name": "stderr",
     "output_type": "stream",
     "text": [
      "/home/tiago/anaconda3/envs/density-lime3.7/lib/python3.7/site-packages/ipykernel_launcher.py:17: UserWarning: Implicit dimension choice for log_softmax has been deprecated. Change the call to include dim=X as an argument.\n"
     ]
    }
   ],
   "source": [
    "with torch.no_grad():\n",
    "  output = network(example_data)"
   ]
  },
  {
   "cell_type": "code",
   "execution_count": 26,
   "metadata": {},
   "outputs": [
    {
     "data": {
      "image/png": "[encoded data removed]",
      "text/plain": [
       "<Figure size 432x288 with 6 Axes>"
      ]
     },
     "metadata": {},
     "output_type": "display_data"
    }
   ],
   "source": [
    "fig = plt.figure()\n",
    "for i in range(6):\n",
    "  plt.subplot(2,3,i+1)\n",
    "  plt.tight_layout()\n",
    "  plt.imshow(example_data[i][0], cmap='gray', interpolation='none')\n",
    "  plt.title(\"Prediction: {}\".format(\n",
    "    output.data.max(1, keepdim=True)[1][i].item()))\n",
    "  plt.xticks([])\n",
    "  plt.yticks([])"
   ]
  },
  {
   "cell_type": "code",
   "execution_count": 35,
   "metadata": {},
   "outputs": [],
   "source": [
    "x_p = example_data[10:13]"
   ]
  },
  {
   "cell_type": "code",
   "execution_count": 36,
   "metadata": {},
   "outputs": [
    {
     "name": "stderr",
     "output_type": "stream",
     "text": [
      "/home/tiago/anaconda3/envs/density-lime3.7/lib/python3.7/site-packages/ipykernel_launcher.py:17: UserWarning: Implicit dimension choice for log_softmax has been deprecated. Change the call to include dim=X as an argument.\n"
     ]
    }
   ],
   "source": [
    "with torch.no_grad():\n",
    "  output = network(x_p)"
   ]
  },
  {
   "cell_type": "code",
   "execution_count": 37,
   "metadata": {},
   "outputs": [
    {
     "data": {
      "image/png": "[encoded data removed]",
      "text/plain": [
       "<Figure size 432x288 with 3 Axes>"
      ]
     },
     "metadata": {},
     "output_type": "display_data"
    }
   ],
   "source": [
    "fig = plt.figure()\n",
    "for i in range(3):\n",
    "  plt.subplot(2,3,i+1)\n",
    "  plt.tight_layout()\n",
    "  plt.imshow(x_p[i][0], cmap='gray', interpolation='none')\n",
    "  plt.title(\"Prediction: {}\".format(\n",
    "    output.data.max(1, keepdim=True)[1][i].item()))\n",
    "  plt.xticks([])\n",
    "  plt.yticks([])"
   ]
  },
  {
   "cell_type": "code",
   "execution_count": 62,
   "metadata": {},
   "outputs": [],
   "source": [
    "x_p_i = x_p[0][0].numpy()\n",
    "x_t = torch.from_numpy(x_p_i.reshape(1, 1, 28, 28))"
   ]
  },
  {
   "cell_type": "code",
   "execution_count": 63,
   "metadata": {},
   "outputs": [
    {
     "name": "stderr",
     "output_type": "stream",
     "text": [
      "/home/tiago/anaconda3/envs/density-lime3.7/lib/python3.7/site-packages/ipykernel_launcher.py:17: UserWarning: Implicit dimension choice for log_softmax has been deprecated. Change the call to include dim=X as an argument.\n"
     ]
    }
   ],
   "source": [
    "with torch.no_grad():\n",
    "  output = network(x_t)"
   ]
  },
  {
   "cell_type": "code",
   "execution_count": 64,
   "metadata": {},
   "outputs": [
    {
     "data": {
      "text/plain": [
       "tensor([[-2.6835e+01, -1.8008e+01, -2.0655e+01, -1.9147e+01, -6.7998e-04,\n",
       "         -1.6006e+01, -1.7159e+01, -1.5892e+01, -1.3052e+01, -7.2973e+00]])"
      ]
     },
     "execution_count": 64,
     "metadata": {},
     "output_type": "execute_result"
    }
   ],
   "source": [
    "output"
   ]
  },
  {
   "cell_type": "code",
   "execution_count": 65,
   "metadata": {},
   "outputs": [
    {
     "data": {
      "text/plain": [
       "([], <a list of 0 Text yticklabel objects>)"
      ]
     },
     "execution_count": 65,
     "metadata": {},
     "output_type": "execute_result"
    },
    {
     "data": {
      "image/png": "[encoded data removed]",
      "text/plain": [
       "<Figure size 432x288 with 1 Axes>"
      ]
     },
     "metadata": {},
     "output_type": "display_data"
    }
   ],
   "source": [
    "fig = plt.figure()\n",
    "\n",
    "plt.subplot(2,3,i+1)\n",
    "plt.tight_layout()\n",
    "plt.imshow(x_t[0][0], cmap='gray', interpolation='none')\n",
    "plt.title(\"Prediction: {}\".format(\n",
    "output.data.max(1, keepdim=True)[1][0].item()))\n",
    "plt.xticks([])\n",
    "plt.yticks([])"
   ]
  },
  {
   "cell_type": "code",
   "execution_count": null,
   "metadata": {},
   "outputs": [],
   "source": []
  }
 ],
 "metadata": {
  "kernelspec": {
   "display_name": "Python [conda env:density-lime3.7]",
   "language": "python",
   "name": "conda-env-density-lime3.7-py"
  },
  "language_info": {
   "codemirror_mode": {
    "name": "ipython",
    "version": 3
   },
   "file_extension": ".py",
   "mimetype": "text/x-python",
   "name": "python",
   "nbconvert_exporter": "python",
   "pygments_lexer": "ipython3",
   "version": "3.7.5"
  }
 },
 "nbformat": 4,
 "nbformat_minor": 2
}
