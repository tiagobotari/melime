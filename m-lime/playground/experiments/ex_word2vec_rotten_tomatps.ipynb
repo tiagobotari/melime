{
 "cells": [
  {
   "cell_type": "code",
   "execution_count": 1,
   "metadata": {},
   "outputs": [],
   "source": [
    "import os, json, sys\n",
    "sys.path.append('../..')"
   ]
  },
  {
   "cell_type": "code",
   "execution_count": 2,
   "metadata": {},
   "outputs": [],
   "source": [
    "import os.path\n",
    "import numpy as np\n",
    "import os\n",
    "import sklearn.model_selection"
   ]
  },
  {
   "cell_type": "code",
   "execution_count": 3,
   "metadata": {},
   "outputs": [],
   "source": [
    "import sklearn\n",
    "\n",
    "import sklearn.model_selection\n",
    "import sklearn.linear_model\n",
    "import sklearn.ensemble\n",
    "from sklearn.feature_extraction.text import CountVectorizer\n",
    "\n",
    "from sklearn.feature_extraction.text import CountVectorizer\n",
    "from sklearn.feature_extraction.text import TfidfTransformer\n",
    "from sklearn.model_selection import train_test_split\n",
    "from pprint import pprint"
   ]
  },
  {
   "cell_type": "code",
   "execution_count": 4,
   "metadata": {},
   "outputs": [],
   "source": [
    "from matplotlib import pyplot as plt\n",
    "from pprint import pprint"
   ]
  },
  {
   "cell_type": "code",
   "execution_count": 5,
   "metadata": {},
   "outputs": [],
   "source": [
    "path_ = '/media/tiagobotari/tiagobotari/data/text/rt-polaritydata/rt-polaritydata'\n",
    "def load_polarity(path=path_):\n",
    "    data = []\n",
    "    labels = []\n",
    "    f_names = ['rt-polarity.neg', 'rt-polarity.pos']\n",
    "    for (l, f) in enumerate(f_names):\n",
    "        for line in open(os.path.join(path, f), 'rb'):\n",
    "            data.append(line.decode('utf8', errors='ignore').strip())\n",
    "            labels.append(l)\n",
    "    return data, labels"
   ]
  },
  {
   "cell_type": "code",
   "execution_count": 6,
   "metadata": {},
   "outputs": [],
   "source": [
    "x, y = load_polarity()\n",
    "x_train_all, x_test, y_train_all, y_test = train_test_split(\n",
    "    x, y, test_size=.2, random_state=42)\n",
    "x_train, x_val, y_train, y_val = train_test_split(\n",
    "    x_train_all, y_train_all, test_size=.1, random_state=42)\n",
    "y_train = np.array(y_train)\n",
    "y_test = np.array(y_test)\n",
    "y_val = np.array(y_val)"
   ]
  },
  {
   "cell_type": "code",
   "execution_count": 7,
   "metadata": {},
   "outputs": [
    {
     "data": {
      "text/plain": [
       "10662"
      ]
     },
     "execution_count": 7,
     "metadata": {},
     "output_type": "execute_result"
    }
   ],
   "source": [
    "len(x)"
   ]
  },
  {
   "cell_type": "code",
   "execution_count": 8,
   "metadata": {},
   "outputs": [],
   "source": [
    "class VectorizeText():\n",
    "        def __init__(self):\n",
    "            self.count_vect = CountVectorizer()\n",
    "            self.tf_transformer = TfidfTransformer(use_idf=False)\n",
    "        def fit(self, x):\n",
    "            x = self.count_vect.fit_transform(x)\n",
    "            self.tf_transformer.fit(x)\n",
    "        def transform(self, x):\n",
    "            x = self.count_vect.transform(x)\n",
    "            x = self.tf_transformer.transform(x)\n",
    "            return x     "
   ]
  },
  {
   "cell_type": "code",
   "execution_count": 9,
   "metadata": {},
   "outputs": [
    {
     "name": "stdout",
     "output_type": "stream",
     "text": [
      "Val accuracy 0.7584994138335287\n"
     ]
    }
   ],
   "source": [
    "vect_text = VectorizeText()\n",
    "vect_text.fit(x_train)    \n",
    "x_vec_train = vect_text.transform(x_train)\n",
    "\n",
    "# Train Model\n",
    "from sklearn.naive_bayes import MultinomialNB\n",
    "clf = MultinomialNB().fit(x_vec_train, y_train)\n",
    "\n",
    "def MNB_predict(texts):\n",
    "    return clf.predict(vect_text.transform(texts))\n",
    "def MNB_predict_prob(texts):\n",
    "    return clf.predict_proba(vect_text.transform(texts))\n",
    "\n",
    "preds = MNB_predict(x_val)\n",
    "print('Val accuracy', sklearn.metrics.accuracy_score(y_val, preds))\n"
   ]
  },
  {
   "cell_type": "markdown",
   "metadata": {},
   "source": [
    "# Explanation"
   ]
  },
  {
   "cell_type": "code",
   "execution_count": 10,
   "metadata": {},
   "outputs": [],
   "source": [
    "from m_lime.densities.density_word2vec import DensityWord2Vec"
   ]
  },
  {
   "cell_type": "code",
   "execution_count": 11,
   "metadata": {},
   "outputs": [
    {
     "name": "stdout",
     "output_type": "stream",
     "text": [
      "Training Error: 2086352.875\n"
     ]
    }
   ],
   "source": [
    "density = DensityWord2Vec(x_train_all)\n",
    "print('Training Error:', density.manifold.loss_training)"
   ]
  },
  {
   "cell_type": "code",
   "execution_count": 12,
   "metadata": {},
   "outputs": [],
   "source": [
    "from m_lime.explainers.statistics import ExplainStatistics"
   ]
  },
  {
   "cell_type": "code",
   "execution_count": 13,
   "metadata": {},
   "outputs": [
    {
     "name": "stdout",
     "output_type": "stream",
     "text": [
      "Similarities\n",
      "[('its', 0.9996041655540466),\n",
      " ('a', 0.9994431138038635),\n",
      " ('his', 0.9993776082992554),\n",
      " ('one', 0.9993262887001038),\n",
      " ('most', 0.9992437958717346),\n",
      " ('kind', 0.9991545677185059),\n",
      " ('lots', 0.9991410970687866),\n",
      " (',', 0.9991320967674255),\n",
      " ('sense', 0.9990931749343872),\n",
      " ('all', 0.9990618228912354)]\n"
     ]
    }
   ],
   "source": [
    "print('Similarities')\n",
    "pprint(density.manifold.get_similar_words('the', n_sample=10))"
   ]
  },
  {
   "cell_type": "code",
   "execution_count": 14,
   "metadata": {},
   "outputs": [
    {
     "name": "stdout",
     "output_type": "stream",
     "text": [
      "Test:\n",
      "[\"the movie's thesis -- elegant technology for the masses -- is surprisingly refreshing .\"]\n",
      "predicted - true\n",
      "[1] 1\n",
      "[[0.29029215 0.70970785]] 1\n"
     ]
    }
   ],
   "source": [
    "print('Test:')\n",
    "x_explain = [x_test[1]]\n",
    "print(x_explain)\n",
    "print('predicted - true')\n",
    "print(MNB_predict(x_explain), 1)\n",
    "print(MNB_predict_prob(x_explain), 1)"
   ]
  },
  {
   "cell_type": "code",
   "execution_count": 15,
   "metadata": {},
   "outputs": [],
   "source": [
    "explainer = ExplainStatistics(model_predict=MNB_predict_prob, density=density)"
   ]
  },
  {
   "cell_type": "code",
   "execution_count": 16,
   "metadata": {},
   "outputs": [],
   "source": [
    "density.generated_data = None\n",
    "x_explain = x_explain\n",
    "samples = density.sample_radius(x_explain, r=None, n_samples=2000, random_state=None)"
   ]
  },
  {
   "cell_type": "code",
   "execution_count": 17,
   "metadata": {},
   "outputs": [
    {
     "data": {
      "text/plain": [
       "[\"the movie's thesis -- elegant technology for the masses -- is surprisingly refreshing .\"]"
      ]
     },
     "execution_count": 17,
     "metadata": {},
     "output_type": "execute_result"
    }
   ],
   "source": [
    "x_explain"
   ]
  },
  {
   "cell_type": "code",
   "execution_count": 18,
   "metadata": {},
   "outputs": [],
   "source": [
    "from pprint import pprint\n",
    "features_names=[f'{e}: {word}' for e, word in enumerate(x_explain[0].split())]\n",
    "\n",
    "explanation, con_fav_samples = explainer.explain_instance(\n",
    "    x_explain=x_explain,\n",
    "    class_index=1,\n",
    "    features_names=features_names,\n",
    "    n_samples=200,\n",
    "    tol=0.001)"
   ]
  },
  {
   "cell_type": "code",
   "execution_count": 19,
   "metadata": {},
   "outputs": [
    {
     "data": {
      "text/plain": [
       "[<matplotlib.lines.Line2D at 0x7f6f0b8844d0>]"
      ]
     },
     "execution_count": 19,
     "metadata": {},
     "output_type": "execute_result"
    },
    {
     "data": {
      "image/png": "[encoded data removed]",
      "text/plain": [
       "<Figure size 432x288 with 1 Axes>"
      ]
     },
     "metadata": {
      "needs_background": "light"
     },
     "output_type": "display_data"
    }
   ],
   "source": [
    "x = range(0, len(explainer.local_model.convergence_diffs))\n",
    "y = explainer.local_model.convergence_diffs\n",
    "plt.plot(x[:], y[:])"
   ]
  },
  {
   "cell_type": "code",
   "execution_count": 20,
   "metadata": {},
   "outputs": [],
   "source": [
    "means = explanation['importance']['mean']"
   ]
  },
  {
   "cell_type": "code",
   "execution_count": 21,
   "metadata": {},
   "outputs": [],
   "source": [
    "from matplotlib import pyplot as plt"
   ]
  },
  {
   "cell_type": "code",
   "execution_count": 22,
   "metadata": {},
   "outputs": [
    {
     "data": {
      "text/plain": [
       "<BarContainer object of 14 artists>"
      ]
     },
     "execution_count": 22,
     "metadata": {},
     "output_type": "execute_result"
    },
    {
     "data": {
      "image/png": "[encoded data removed]",
      "text/plain": [
       "<Figure size 432x288 with 1 Axes>"
      ]
     },
     "metadata": {
      "needs_background": "light"
     },
     "output_type": "display_data"
    }
   ],
   "source": [
    "plt.barh([*means.keys()], [*means.values()])"
   ]
  },
  {
   "cell_type": "code",
   "execution_count": 23,
   "metadata": {},
   "outputs": [
    {
     "data": {
      "text/plain": [
       "[\"the movie's thesis -- elegant technology for the masses -- is surprisingly refreshing .\"]"
      ]
     },
     "execution_count": 23,
     "metadata": {},
     "output_type": "execute_result"
    }
   ],
   "source": [
    "x_explain"
   ]
  },
  {
   "cell_type": "code",
   "execution_count": 24,
   "metadata": {},
   "outputs": [
    {
     "data": {
      "text/plain": [
       "[\"the movie's thesis -- elegant technology for the masses -- is surprisingly ill-conceived .\",\n",
       " \"the movie's thesis -- ill-conceived technology for the masses -- is surprisingly refreshing .\",\n",
       " \"the movie's thesis -- elegant technology for the masses -- is surprisingly heavy-handed .\",\n",
       " \"the movie's thesis -- elegant technology for the masses -- is surprisingly dull .\",\n",
       " \"the movie's thesis -- elegant technology for the masses -- is ill-conceived refreshing .\"]"
      ]
     },
     "execution_count": 24,
     "metadata": {},
     "output_type": "execute_result"
    }
   ],
   "source": [
    "con_fav_samples.samples_fav"
   ]
  },
  {
   "cell_type": "code",
   "execution_count": 25,
   "metadata": {},
   "outputs": [
    {
     "data": {
      "text/plain": [
       "[\"the movie's thesis -- elegant technology for touching masses -- is surprisingly refreshing .\",\n",
       " \"touching movie's thesis -- elegant technology for the masses -- is surprisingly refreshing .\",\n",
       " 'the touching thesis -- elegant technology for the masses -- is surprisingly refreshing .',\n",
       " \"the movie's thesis -- elegant technology for wonderful masses -- is surprisingly refreshing .\",\n",
       " \"wonderful movie's thesis -- elegant technology for the masses -- is surprisingly refreshing .\"]"
      ]
     },
     "execution_count": 25,
     "metadata": {},
     "output_type": "execute_result"
    }
   ],
   "source": [
    "con_fav_samples.samples_con"
   ]
  },
  {
   "cell_type": "code",
   "execution_count": null,
   "metadata": {},
   "outputs": [],
   "source": []
  }
 ],
 "metadata": {
  "kernelspec": {
   "display_name": "Python 3.7.7 64-bit ('density-lime3.7': conda)",
   "language": "python",
   "name": "python37764bitdensitylime37conda50d130c018e04de1bf3cf9b79439527e"
  },
  "language_info": {
   "codemirror_mode": {
    "name": "ipython",
    "version": 3
   },
   "file_extension": ".py",
   "mimetype": "text/x-python",
   "name": "python",
   "nbconvert_exporter": "python",
   "pygments_lexer": "ipython3",
   "version": "3.7.7"
  }
 },
 "nbformat": 4,
 "nbformat_minor": 4
}
