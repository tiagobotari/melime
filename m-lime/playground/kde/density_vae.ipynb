{
 "cells": [
  {
   "cell_type": "code",
   "execution_count": 1,
   "metadata": {},
   "outputs": [],
   "source": [
    "import os, json, sys\n",
    "sys.path.append('../..')"
   ]
  },
  {
   "cell_type": "code",
   "execution_count": 2,
   "metadata": {},
   "outputs": [],
   "source": [
    "import numpy as np\n",
    "import matplotlib.pyplot as plt\n",
    "from pprint import pprint\n",
    "\n",
    "from density_lime.explanations.linear import ExplainLinear\n",
    "from density_lime.explanations.visualization import plot_importance\n",
    "from density_lime.densities.density_vae import DensityVAE\n",
    "from density_lime.densities.density_kde import DensityKDE\n",
    "from density_lime.densities.density_kde_pca import DensityKDEKPCA, DensityKDEPCA"
   ]
  },
  {
   "cell_type": "markdown",
   "metadata": {},
   "source": [
    "# Loadind data and Model"
   ]
  },
  {
   "cell_type": "code",
   "execution_count": 3,
   "metadata": {},
   "outputs": [],
   "source": [
    "import torch\n",
    "import torch.utils.data\n",
    "from torchvision import datasets, transforms\n",
    "\n",
    "from playground.models import nmist_CNN"
   ]
  },
  {
   "cell_type": "code",
   "execution_count": 4,
   "metadata": {},
   "outputs": [],
   "source": [
    "epochs = 10\n",
    "cuda = torch.cuda.is_available()\n",
    "batch_size = 128\n",
    "kwargs = {'num_workers': 1, 'pin_memory': True} if cuda else {}\n",
    "device = torch.device(\"cuda\" if cuda else \"cpu\")\n",
    "device_cpu = torch.device(\"cpu\")\n",
    "\n",
    "# train_loader = torch.utils.data.DataLoader(\n",
    "#     datasets.MNIST('../data', train=True, download=True,\n",
    "#                    transform=transforms.ToTensor()),\n",
    "#     batch_size=batch_size, shuffle=True, **kwargs)\n",
    "test_loader = torch.utils.data.DataLoader(\n",
    "    datasets.MNIST('../data', train=False, transform=transforms.ToTensor()),\n",
    "    batch_size=batch_size, shuffle=True, **kwargs)"
   ]
  },
  {
   "cell_type": "code",
   "execution_count": 5,
   "metadata": {},
   "outputs": [],
   "source": [
    "path='mode_nmist_cnn.pth'\n",
    "model = nmist_CNN.model_load(device, path=path)\n",
    "def model_predict(x_):\n",
    "    if isinstance(x_, torch.Tensor):\n",
    "        x_tf = x_\n",
    "    else:\n",
    "        x_tf = torch.from_numpy(x_)\n",
    "    with torch.no_grad():\n",
    "        x_tf = x_tf.reshape(-1, 1, 28, 28)\n",
    "        y = model(x_tf.to(device=device))\n",
    "        y = y.data.exp().to(device_cpu).numpy()\n",
    "        return y"
   ]
  },
  {
   "cell_type": "code",
   "execution_count": 6,
   "metadata": {},
   "outputs": [],
   "source": [
    "examples = enumerate(test_loader)"
   ]
  },
  {
   "cell_type": "code",
   "execution_count": 7,
   "metadata": {},
   "outputs": [],
   "source": [
    "\n",
    "batch_idx, (example_data, example_targets) = next(examples)"
   ]
  },
  {
   "cell_type": "code",
   "execution_count": 8,
   "metadata": {},
   "outputs": [
    {
     "data": {
      "text/plain": [
       "torch.Size([128, 1, 28, 28])"
      ]
     },
     "execution_count": 8,
     "metadata": {},
     "output_type": "execute_result"
    }
   ],
   "source": [
    "x_examples = example_data #.to(density.model.device_cpu).numpy()\n",
    "x_examples.shape"
   ]
  },
  {
   "cell_type": "code",
   "execution_count": 9,
   "metadata": {},
   "outputs": [],
   "source": [
    "def plot_instances(ax, x_, y_=None):\n",
    "    plt.setp(ax.get_xticklabels(), visible=False)\n",
    "    plt.setp(ax.get_yticklabels(), visible=False)\n",
    "    ax.set_title(y_)\n",
    "    return ax.imshow(x_, interpolation = 'none')"
   ]
  },
  {
   "cell_type": "code",
   "execution_count": 10,
   "metadata": {},
   "outputs": [],
   "source": [
    "# fig, axis = plt.subplots(5,5, figsize=(15, 5))\n",
    "# axis = axis.reshape(-1)\n",
    "# for ax in axis:\n",
    "#     index = np.random.choice(range(125))\n",
    "#     x_explain = x_examples[index][0]\n",
    "#     with torch.no_grad():\n",
    "#         y = model_predict(x_explain.view(-1, 1, 28, 28))\n",
    "#         y = 'index: {:} - prediction: {:}'.format(index, np.argmax(y))\n",
    "#     cp = plot_instances(ax, x_explain, y)"
   ]
  },
  {
   "cell_type": "code",
   "execution_count": 11,
   "metadata": {},
   "outputs": [],
   "source": [
    "# fig, axis = plt.subplots(25,5, figsize=(15, 40))\n",
    "# axis = axis.reshape(-1)\n",
    "# for ax, index in zip(axis, range(125)):\n",
    "#     x_explain = x_examples[index][0]\n",
    "#     with torch.no_grad():\n",
    "#         y = model_predict(x_explain.view(-1, 1, 28, 28))\n",
    "#         y = 'index: {:} - prediction: {:}'.format(index, np.argmax(y))\n",
    "#     cp = plot_instances(ax, x_explain, y)"
   ]
  },
  {
   "cell_type": "markdown",
   "metadata": {},
   "source": [
    "### Explain a instance"
   ]
  },
  {
   "cell_type": "code",
   "execution_count": 12,
   "metadata": {},
   "outputs": [
    {
     "name": "stdout",
     "output_type": "stream",
     "text": [
      "predicted: 3\n"
     ]
    },
    {
     "data": {
      "image/png": "[encoded data removed]",
      "text/plain": [
       "<Figure size 1080x360 with 1 Axes>"
      ]
     },
     "metadata": {},
     "output_type": "display_data"
    }
   ],
   "source": [
    "index = 30\n",
    "# x_explain = x_examples[index][0].to(device_cpu).numpy()\n",
    "# np.savetxt('three_explain.np', x_explain)\n",
    "x_explain = np.loadtxt('three_explain.np').astype(np.float32)\n",
    "y_explain = model_predict(x_explain)\n",
    "y_explain_index = np.argmax(y_explain)\n",
    "print('predicted:', y_explain_index)\n",
    "fig, axis = plt.subplots(1, figsize=(15, 5))\n",
    "y = 'index: {:} - prediction: {:}'.format(index, np.argmax(y_explain))\n",
    "cp = plot_instances(axis, x_explain, y)\n"
   ]
  },
  {
   "cell_type": "markdown",
   "metadata": {},
   "source": [
    "## DensityVAE"
   ]
  },
  {
   "cell_type": "code",
   "execution_count": 13,
   "metadata": {},
   "outputs": [],
   "source": [
    "density = DensityVAE(input_dim=784)"
   ]
  },
  {
   "cell_type": "code",
   "execution_count": 14,
   "metadata": {
    "scrolled": true
   },
   "outputs": [],
   "source": [
    "# density.fit(train_loader, epochs=20)"
   ]
  },
  {
   "cell_type": "code",
   "execution_count": 15,
   "metadata": {},
   "outputs": [],
   "source": [
    "# density.save_manifold('./mode_vae_manifold.pth')"
   ]
  },
  {
   "cell_type": "code",
   "execution_count": 16,
   "metadata": {},
   "outputs": [],
   "source": [
    "density = density.load_manifold('./mode_vae_manifold.pth')"
   ]
  },
  {
   "cell_type": "code",
   "execution_count": 17,
   "metadata": {
    "scrolled": true
   },
   "outputs": [],
   "source": [
    "if False:\n",
    "    x_sample = density.sample_radius(x_exp=x_explain.reshape(-1, 784), r=1.5, n_samples=15000, random_state=None)\n",
    "    fig, axis = plt.subplots(5, 10, figsize=(15, 5))\n",
    "    axis= axis.reshape(-1)\n",
    "    for ax, img_i in zip(axis, x_sample[:50]):\n",
    "        x_ = img_i.reshape(28, 28)\n",
    "        plt.setp(ax.get_xticklabels(), visible=False)\n",
    "        plt.setp(ax.get_yticklabels(), visible=False)\n",
    "        ax.imshow(x_, interpolation = 'none')\n",
    "    plt.subplots_adjust(left=0.01, bottom=0.01, right=0.99, top=0.99, wspace=0.01, hspace=0.001)\n",
    "    plt.show()"
   ]
  },
  {
   "cell_type": "code",
   "execution_count": 18,
   "metadata": {},
   "outputs": [
    {
     "data": {
      "text/plain": [
       "0"
      ]
     },
     "execution_count": 18,
     "metadata": {},
     "output_type": "execute_result"
    }
   ],
   "source": [
    "50%50"
   ]
  },
  {
   "cell_type": "code",
   "execution_count": 33,
   "metadata": {},
   "outputs": [
    {
     "name": "stdout",
     "output_type": "stream",
     "text": [
      "0.06468559630793327\n"
     ]
    },
    {
     "data": {
      "image/png": "[encoded data removed]",
      "text/plain": [
       "<Figure size 324x324 with 1 Axes>"
      ]
     },
     "metadata": {},
     "output_type": "display_data"
    },
    {
     "data": {
      "image/png": "[encoded data removed]",
      "text/plain": [
       "<Figure size 1440x720 with 6 Axes>"
      ]
     },
     "metadata": {
      "needs_background": "light"
     },
     "output_type": "display_data"
    }
   ],
   "source": [
    "try:\n",
    "    del explain_linear\n",
    "except:\n",
    "    pass\n",
    "torch.cuda.empty_cache()\n",
    "explain_linear = ExplainLinear(model_predict=model_predict, density=density, linear_model='SGD', verbose=True)\n",
    "result1 = explain_linear.explain_instance(x_explain=x_explain, r=0.1, class_index=3, n_samples=1000, epochs=10)\n",
    "# pprint(result['stats'])\n",
    "y = 'index: {:} - prediction: {:}'.format(index, np.argmax(y_explain))\n",
    "fig, axis = plt.subplots(1, figsize=(4.5, 4.5))\n",
    "ax = plot_instances(axis, x_explain, y)\n",
    "a = plot_importance(result['importance'], standardization=True)"
   ]
  },
  {
   "cell_type": "code",
   "execution_count": 27,
   "metadata": {
    "scrolled": true
   },
   "outputs": [
    {
     "name": "stdout",
     "output_type": "stream",
     "text": [
      "0.15907337009031203\n",
      "0.08297731358580152\n",
      "0.06212454745157285\n",
      "0.06883094851627973\n",
      "0.045623822640940614\n",
      "0.044224497648279806\n",
      "0.042807346743730455\n",
      "0.037344381510188734\n",
      "0.0495898796372221\n",
      "0.035613356135592356\n",
      "0.028859146495318302\n",
      "0.03176508802596145\n",
      "0.02418656086537775\n",
      "0.045766262071510785\n",
      "0.034125118499691756\n",
      "0.019565126793614093\n",
      "0.026769940411978686\n",
      "0.028319914792405032\n",
      "0.030049804849377807\n",
      "0.024484238944500053\n",
      "0.047592265433534856\n",
      "0.04089376088247902\n",
      "0.031136074379072065\n",
      "0.029382977265788007\n",
      "0.019740005067166538\n",
      "0.025801716492197074\n",
      "0.024675884177571286\n",
      "0.012428006633182309\n",
      "0.027698112907401838\n",
      "0.018597526895948582\n",
      "0.02438727132214051\n",
      "0.014154691965181293\n",
      "0.024598317533487075\n",
      "0.014388877603022732\n",
      "0.008313795836133578\n",
      "0.017402858788540126\n",
      "0.020994540409013336\n",
      "0.00871071118427749\n",
      "0.013238383458674433\n",
      "0.02738411533006803\n",
      "0.022337155836167192\n",
      "0.026090611097088205\n",
      "0.01858568670801103\n",
      "0.01864062340525236\n",
      "0.017245630632823403\n",
      "0.020989206371598755\n",
      "0.021693321387948047\n",
      "0.010813785612875928\n",
      "0.010141042815691477\n",
      "0.008186476031474571\n",
      "0.0196460225061175\n",
      "0.012024136394029222\n",
      "0.015707602306005763\n",
      "0.009265177703736725\n",
      "0.007826865965928125\n",
      "0.014954776476109028\n",
      "0.020492704023331074\n",
      "0.020755655063423112\n",
      "0.00996125838727135\n",
      "0.014397878562824594\n",
      "0.00784441637847762\n",
      "0.008550959404023938\n",
      "0.010977943643004605\n",
      "0.018534864788889507\n",
      "0.013745949006991217\n",
      "0.01732691243259212\n",
      "0.019259957257433\n",
      "0.01504222272218735\n",
      "0.012349112197080032\n",
      "0.01091441090828164\n",
      "0.011214910639762519\n",
      "0.014358808936489637\n",
      "0.012052084152693876\n",
      "0.01734229646201249\n",
      "0.012245629405168827\n",
      "0.0133443649855516\n",
      "0.009171199159293292\n",
      "0.028367989799239497\n",
      "0.030684628772569254\n",
      "0.015102006295007757\n",
      "0.01023675350823772\n",
      "0.01825027615067374\n",
      "0.013156071001090295\n",
      "0.010042585520585682\n",
      "0.013874317825306421\n",
      "0.007147817985533605\n",
      "0.011209424154174676\n",
      "0.011132908527488725\n",
      "0.010185465348426109\n",
      "0.015182511295132052\n",
      "0.010063663219053956\n",
      "0.014051478808999674\n",
      "0.008486495684591307\n",
      "0.00947468314541931\n",
      "0.01693184565091614\n",
      "0.014387297809830243\n",
      "0.016383507799757197\n",
      "0.017227688718392753\n",
      "0.025076685127933606\n",
      "0.017446048962303853\n",
      "0.008479246777278461\n",
      "0.016007940515058588\n",
      "0.006848030116415381\n",
      "0.012690918804800975\n",
      "0.00485471715308584\n",
      "0.011005099500467512\n",
      "0.013083187921868744\n",
      "0.013808621629048085\n",
      "0.013940860539826821\n",
      "0.010585027847231492\n",
      "0.0055021110435983945\n",
      "0.006245740051268527\n",
      "0.006336564604996282\n",
      "0.006988344642491245\n",
      "0.014107116087920316\n",
      "0.011709314234845315\n",
      "0.00456559446889505\n",
      "0.010555879435453493\n",
      "0.009328197553125625\n",
      "0.01445744617961078\n",
      "0.016010215313786786\n",
      "0.008153627422840117\n",
      "0.012645508917156573\n",
      "0.00683802322485999\n",
      "0.008089725579840716\n",
      "0.004495494378908643\n",
      "0.01086899838936524\n",
      "0.011915453064932717\n",
      "0.11936831913553121\n",
      "0.015325573628964261\n",
      "0.021411471400108687\n",
      "0.010973992194071152\n",
      "0.011147815132352832\n",
      "0.007125553070303112\n",
      "0.0071218797011165\n",
      "0.008619320444074083\n",
      "0.011060953224429676\n",
      "0.00962208281018805\n",
      "0.01608092469295015\n",
      "0.010743579169620265\n",
      "0.008092604546953024\n",
      "0.011363469962933463\n",
      "0.011755021162479326\n",
      "0.010417056951124631\n",
      "0.013571074460050687\n",
      "0.011353418370343482\n",
      "0.006253318267568723\n",
      "0.006653623989629868\n",
      "0.005001769025276217\n",
      "0.0051940195749805886\n",
      "0.008272673742961836\n",
      "0.009552864564533803\n",
      "0.012034365420507277\n",
      "0.007472721485232713\n",
      "0.012373674792535379\n",
      "0.009188806551018905\n",
      "0.005624122954579789\n",
      "0.011962382192145425\n",
      "0.014610112897486387\n",
      "0.006927956595699175\n",
      "0.0086070165861377\n",
      "0.009638330445864807\n",
      "0.013638342998963968\n",
      "0.010874261803435741\n",
      "0.011693077468729437\n",
      "0.008937186996624828\n",
      "0.012716069759134432\n",
      "0.023335164352260403\n",
      "0.011375569054863907\n",
      "0.012517361094725284\n",
      "0.009827159214426333\n",
      "0.004604043849293445\n",
      "0.006059950877938428\n",
      "0.0075635593293426825\n",
      "0.006062899554195455\n",
      "0.00824984750173417\n",
      "0.005176697244857066\n",
      "0.0214936362863976\n",
      "0.016478606796265602\n",
      "0.00655940452691924\n",
      "0.01180913491118854\n",
      "0.010634200458768082\n",
      "0.0059685143573839985\n",
      "0.006244302677355555\n",
      "0.017435565803501387\n",
      "0.010296386965757109\n",
      "0.006672047367899685\n",
      "0.006319174054933646\n",
      "0.006969942036974852\n",
      "0.008883894062051773\n",
      "0.00570826596476281\n",
      "0.008484144165494374\n",
      "0.007929475365769583\n",
      "0.015354776561698442\n",
      "0.00940520611410342\n",
      "0.011292602549036482\n",
      "0.0046046548789439425\n",
      "0.004795594008853791\n",
      "0.004975045174795803\n"
     ]
    },
    {
     "data": {
      "image/png": "[encoded data removed]",
      "text/plain": [
       "<Figure size 324x324 with 1 Axes>"
      ]
     },
     "metadata": {},
     "output_type": "display_data"
    },
    {
     "data": {
      "image/png": "[encoded data removed]",
      "text/plain": [
       "<Figure size 1440x720 with 6 Axes>"
      ]
     },
     "metadata": {
      "needs_background": "light"
     },
     "output_type": "display_data"
    }
   ],
   "source": [
    "try:\n",
    "    del explain_linear\n",
    "except:\n",
    "    pass\n",
    "torch.cuda.empty_cache()\n",
    "explain_linear = ExplainLinear(model_predict=model_predict, density=density, linear_model='SGD', verbose=True)\n",
    "result = explain_linear.explain_instance(x_explain=x_explain, r=0.1, class_index=3, n_samples=10000, epochs=1000)\n",
    "# pprint(result['stats'])\n",
    "y = 'index: {:} - prediction: {:}'.format(index, np.argmax(y_explain))\n",
    "fig, axis = plt.subplots(1, figsize=(4.5, 4.5))\n",
    "ax = plot_instances(axis, x_explain, y)\n",
    "a = plot_importance(result['importance'], standardization=True)"
   ]
  },
  {
   "cell_type": "code",
   "execution_count": 34,
   "metadata": {},
   "outputs": [
    {
     "name": "stdout",
     "output_type": "stream",
     "text": [
      "0.24970155008170247\n",
      "0.0196923468517038\n"
     ]
    },
    {
     "data": {
      "image/png": "[encoded data removed]",
      "text/plain": [
       "<Figure size 1440x720 with 6 Axes>"
      ]
     },
     "metadata": {
      "needs_background": "light"
     },
     "output_type": "display_data"
    }
   ],
   "source": [
    "diffa = result1['importance'] - result['importance']\n",
    "print(np.sum(diffa))\n",
    "print(np.max(result['importance']))\n",
    "a = plot_importance(diffa)\n"
   ]
  },
  {
   "cell_type": "code",
   "execution_count": 22,
   "metadata": {},
   "outputs": [],
   "source": [
    " \n",
    "# print(np.sum(diffa))\n",
    "# a = plot_importance(diffa)"
   ]
  },
  {
   "cell_type": "code",
   "execution_count": null,
   "metadata": {},
   "outputs": [],
   "source": []
  }
 ],
 "metadata": {
  "kernelspec": {
   "display_name": "Python 3",
   "language": "python",
   "name": "python3"
  },
  "language_info": {
   "codemirror_mode": {
    "name": "ipython",
    "version": 3
   },
   "file_extension": ".py",
   "mimetype": "text/x-python",
   "name": "python",
   "nbconvert_exporter": "python",
   "pygments_lexer": "ipython3",
   "version": "3.7.5"
  }
 },
 "nbformat": 4,
 "nbformat_minor": 2
}
