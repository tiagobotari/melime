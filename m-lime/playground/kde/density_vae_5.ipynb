{
 "cells": [
  {
   "cell_type": "code",
   "execution_count": 1,
   "metadata": {},
   "outputs": [],
   "source": [
    "import os, json, sys\n",
    "sys.path.append('../..')"
   ]
  },
  {
   "cell_type": "code",
   "execution_count": 2,
   "metadata": {},
   "outputs": [],
   "source": [
    "import numpy as np\n",
    "from density_lime.kernel_density_exp import KernelDensityExp\n",
    "from test_kde_2d import TestKDELocal2D\n",
    "\n",
    "from density_lime.density_vae import DensityVAE"
   ]
  },
  {
   "cell_type": "code",
   "execution_count": 3,
   "metadata": {},
   "outputs": [],
   "source": [
    "from torch import nn, optim"
   ]
  },
  {
   "cell_type": "code",
   "execution_count": 4,
   "metadata": {},
   "outputs": [],
   "source": [
    "from torchvision import datasets, transforms\n",
    "import torch\n",
    "import torch.utils.data\n",
    "\n",
    "\n",
    "epochs = 10\n",
    "cuda = True\n",
    "batch_size = 128\n",
    "kwargs = {'num_workers': 1, 'pin_memory': True} if cuda else {}\n",
    "\n",
    "train_loader = torch.utils.data.DataLoader(\n",
    "    datasets.MNIST('../data', train=True, download=True,\n",
    "                   transform=transforms.ToTensor()),\n",
    "    batch_size=batch_size, shuffle=True, **kwargs)\n",
    "test_loader = torch.utils.data.DataLoader(\n",
    "    datasets.MNIST('../data', train=False, transform=transforms.ToTensor()),\n",
    "    batch_size=batch_size, shuffle=True, **kwargs)"
   ]
  },
  {
   "cell_type": "code",
   "execution_count": 5,
   "metadata": {},
   "outputs": [],
   "source": [
    "density = DensityVAE(input_dim=784)"
   ]
  },
  {
   "cell_type": "code",
   "execution_count": 6,
   "metadata": {
    "scrolled": true
   },
   "outputs": [],
   "source": [
    "# density.fit(train_loader, epochs=20)"
   ]
  },
  {
   "cell_type": "code",
   "execution_count": 7,
   "metadata": {},
   "outputs": [],
   "source": [
    "# density.save_manifold('./mode_vae_manifold.pth')"
   ]
  },
  {
   "cell_type": "code",
   "execution_count": 8,
   "metadata": {},
   "outputs": [
    {
     "data": {
      "text/plain": [
       "<density_lime.density_vae.DensityVAE at 0x15044e99dd50>"
      ]
     },
     "execution_count": 8,
     "metadata": {},
     "output_type": "execute_result"
    }
   ],
   "source": [
    "density.load_manifold('./mode_vae_manifold.pth')"
   ]
  },
  {
   "cell_type": "code",
   "execution_count": 9,
   "metadata": {},
   "outputs": [],
   "source": [
    "examples = enumerate(test_loader)\n",
    "batch_idx, (example_data, example_targets) = next(examples)"
   ]
  },
  {
   "cell_type": "code",
   "execution_count": 10,
   "metadata": {},
   "outputs": [
    {
     "data": {
      "text/plain": [
       "torch.Size([128, 1, 28, 28])"
      ]
     },
     "execution_count": 10,
     "metadata": {},
     "output_type": "execute_result"
    }
   ],
   "source": [
    "x_1 = example_data #.to(density.model.device_cpu).numpy()\n",
    "x_1.shape"
   ]
  },
  {
   "cell_type": "code",
   "execution_count": 11,
   "metadata": {},
   "outputs": [],
   "source": [
    "import matplotlib.pyplot as plt\n",
    "def plot_figure(x_1, y_=0):\n",
    "#     x_img = x_1.reshape(28, 28)\n",
    "    x_img = x_1\n",
    "    x_img_plot = x_img  # .cpu().numpy()\n",
    "    \n",
    "    fig, ax1 = plt.subplots(1,1)\n",
    "    plt.setp(ax1.get_xticklabels(), visible=False)\n",
    "    plt.setp(ax1.get_yticklabels(), visible=False)\n",
    "    plt.title(y_)\n",
    "    cp = ax1.imshow(x_img_plot, interpolation = 'none')\n",
    "    plt.colorbar(cp)\n",
    "    plt.show()"
   ]
  },
  {
   "cell_type": "code",
   "execution_count": 12,
   "metadata": {},
   "outputs": [
    {
     "ename": "TypeError",
     "evalue": "'int' object is not subscriptable",
     "output_type": "error",
     "traceback": [
      "\u001b[0;31m---------------------------------------------------------------------------\u001b[0m",
      "\u001b[0;31mTypeError\u001b[0m                                 Traceback (most recent call last)",
      "\u001b[0;32m<ipython-input-12-5e91267578bf>\u001b[0m in \u001b[0;36m<module>\u001b[0;34m\u001b[0m\n\u001b[0;32m----> 1\u001b[0;31m \u001b[0;32mfor\u001b[0m \u001b[0mi\u001b[0m \u001b[0;32min\u001b[0m \u001b[0mrange\u001b[0m\u001b[0;34m(\u001b[0m\u001b[0mx_1\u001b[0m\u001b[0;34m.\u001b[0m\u001b[0mshape\u001b[0m\u001b[0;34m[\u001b[0m\u001b[0;36m0\u001b[0m\u001b[0;34m]\u001b[0m\u001b[0;34m[\u001b[0m\u001b[0;34m:\u001b[0m\u001b[0;36m20\u001b[0m\u001b[0;34m]\u001b[0m\u001b[0;34m)\u001b[0m\u001b[0;34m:\u001b[0m\u001b[0;34m\u001b[0m\u001b[0;34m\u001b[0m\u001b[0m\n\u001b[0m\u001b[1;32m      2\u001b[0m     \u001b[0mx_explain\u001b[0m \u001b[0;34m=\u001b[0m \u001b[0mx_1\u001b[0m\u001b[0;34m[\u001b[0m\u001b[0mi\u001b[0m\u001b[0;34m]\u001b[0m\u001b[0;34m[\u001b[0m\u001b[0;36m0\u001b[0m\u001b[0;34m]\u001b[0m\u001b[0;34m.\u001b[0m\u001b[0mnumpy\u001b[0m\u001b[0;34m(\u001b[0m\u001b[0;34m)\u001b[0m\u001b[0;34m\u001b[0m\u001b[0;34m\u001b[0m\u001b[0m\n\u001b[1;32m      3\u001b[0m     \u001b[0mprint\u001b[0m\u001b[0;34m(\u001b[0m\u001b[0;34m'index: '\u001b[0m\u001b[0;34m,\u001b[0m \u001b[0mi\u001b[0m\u001b[0;34m)\u001b[0m\u001b[0;34m\u001b[0m\u001b[0;34m\u001b[0m\u001b[0m\n\u001b[1;32m      4\u001b[0m     \u001b[0mcp\u001b[0m \u001b[0;34m=\u001b[0m \u001b[0mplot_figure\u001b[0m\u001b[0;34m(\u001b[0m\u001b[0mx_explain\u001b[0m\u001b[0;34m)\u001b[0m\u001b[0;34m\u001b[0m\u001b[0;34m\u001b[0m\u001b[0m\n\u001b[1;32m      5\u001b[0m \u001b[0;34m\u001b[0m\u001b[0m\n",
      "\u001b[0;31mTypeError\u001b[0m: 'int' object is not subscriptable"
     ]
    }
   ],
   "source": [
    "for i in range(x_1.shape[0][:20]):\n",
    "    x_explain = x_1[i][0].numpy()\n",
    "    print('index: ', i)\n",
    "    cp = plot_figure(x_explain)\n",
    "    "
   ]
  },
  {
   "cell_type": "code",
   "execution_count": 13,
   "metadata": {},
   "outputs": [
    {
     "data": {
      "image/png": "[encoded data removed]",
      "text/plain": [
       "<Figure size 432x288 with 2 Axes>"
      ]
     },
     "metadata": {
      "needs_background": "light"
     },
     "output_type": "display_data"
    }
   ],
   "source": [
    "x_explain = x_1[0][0].numpy()\n",
    "cp = plot_figure(x_explain)\n",
    "    \n",
    "try:\n",
    "    del output\n",
    "except:\n",
    "    pass\n",
    "torch.cuda.empty_cache() "
   ]
  },
  {
   "cell_type": "code",
   "execution_count": 40,
   "metadata": {},
   "outputs": [],
   "source": [
    "x_sample = density.sample_radius(x_exp=x_explain.reshape(-1, 784), r=0.1, n_samples=15000, random_state=None)"
   ]
  },
  {
   "cell_type": "code",
   "execution_count": 41,
   "metadata": {},
   "outputs": [
    {
     "data": {
      "text/plain": [
       "(15000, 784)"
      ]
     },
     "execution_count": 41,
     "metadata": {},
     "output_type": "execute_result"
    }
   ],
   "source": [
    "x_sample.shape"
   ]
  },
  {
   "cell_type": "code",
   "execution_count": 42,
   "metadata": {},
   "outputs": [
    {
     "data": {
      "text/plain": [
       "<matplotlib.image.AxesImage at 0x1503fbfd6d50>"
      ]
     },
     "execution_count": 42,
     "metadata": {},
     "output_type": "execute_result"
    },
    {
     "data": {
      "image/png": "[encoded data removed]",
      "text/plain": [
       "<Figure size 432x288 with 1 Axes>"
      ]
     },
     "metadata": {},
     "output_type": "display_data"
    }
   ],
   "source": [
    "x_imge = x_sample[8].reshape(28, 28)\n",
    "import matplotlib.pyplot as plt\n",
    "# img = sample.view(64, 1, 28, 28)\n",
    "fig, ax1 = plt.subplots(1,1)\n",
    "# ax1.imshow(img[50][0], interpolation = 'none')\n",
    "plt.setp(ax1.get_xticklabels(), visible=False)\n",
    "plt.setp(ax1.get_yticklabels(), visible=False)\n",
    "ax1.imshow(x_imge, interpolation = 'none')\n",
    "# ax1.set_title('Digit: {}'.format(y))"
   ]
  },
  {
   "cell_type": "code",
   "execution_count": 43,
   "metadata": {
    "scrolled": true
   },
   "outputs": [],
   "source": [
    "# fig, axis = plt.subplots(10, 10, figsize=(15, 10))\n",
    "# axis= axis.reshape(-1)\n",
    "# for ax, img_i in zip(axis, x_sample[30:]):\n",
    "#     x_ = img_i.reshape(28, 28)\n",
    "#     plt.setp(ax.get_xticklabels(), visible=False)\n",
    "#     plt.setp(ax.get_yticklabels(), visible=False)\n",
    "#     ax.imshow(x_, interpolation = 'none')\n",
    "# plt.subplots_adjust(left=0.01, bottom=0.01, right=0.99, top=0.99, wspace=0.01, hspace=0.001)\n",
    "# plt.show()"
   ]
  },
  {
   "cell_type": "code",
   "execution_count": 44,
   "metadata": {},
   "outputs": [],
   "source": [
    "# axis= axis.reshape(-1)\n",
    "# for i, img_i in enumerate(x_sample[:100]):\n",
    "#     fig, axis = plt.subplots(1, figsize=(10, 10))\n",
    "#     x_ = img_i.reshape(28, 28)\n",
    "#     plt.setp(ax.get_xticklabels(), visible=False)\n",
    "#     plt.setp(ax.get_yticklabels(), visible=False)\n",
    "#     axis.imshow(x_, interpolation = 'none')\n",
    "# #     plt.subplots_adjust(left=0.01, bottom=0.01, right=0.99, top=0.99, wspace=0.01, hspace=0.001)\n",
    "#     plt.savefig('./fig/fig{:}.png'.format(i))"
   ]
  },
  {
   "cell_type": "code",
   "execution_count": 45,
   "metadata": {},
   "outputs": [],
   "source": [
    "from playground.models import mnist_CNN\n",
    "from torch.optim.lr_scheduler import StepLR"
   ]
  },
  {
   "cell_type": "code",
   "execution_count": 46,
   "metadata": {},
   "outputs": [
    {
     "data": {
      "text/plain": [
       "'/home/tiago/projects/density-lime/src/playground/kde'"
      ]
     },
     "execution_count": 46,
     "metadata": {},
     "output_type": "execute_result"
    }
   ],
   "source": [
    "import os\n",
    "os.getcwd()"
   ]
  },
  {
   "cell_type": "code",
   "execution_count": 47,
   "metadata": {},
   "outputs": [],
   "source": [
    "from playground.models import mnist_CNN"
   ]
  },
  {
   "cell_type": "code",
   "execution_count": 48,
   "metadata": {},
   "outputs": [],
   "source": [
    "path='mode_mnist_cnn.pth'\n",
    "# model_predict = mnist_CNN.train_and_save_model(path=path)\n",
    "model_predict = mnist_CNN.model_load(density.model.device, path=path)"
   ]
  },
  {
   "cell_type": "code",
   "execution_count": null,
   "metadata": {},
   "outputs": [],
   "source": []
  },
  {
   "cell_type": "code",
   "execution_count": 49,
   "metadata": {},
   "outputs": [
    {
     "data": {
      "text/plain": [
       "5"
      ]
     },
     "execution_count": 49,
     "metadata": {},
     "output_type": "execute_result"
    }
   ],
   "source": [
    "example_data = torch.from_numpy(x_sample.reshape(-1, 1, 28, 28)).to(density.model.device)\n",
    "x_explain_tf = torch.from_numpy(x_explain.reshape(-1, 1, 28, 28)).to(density.model.device)\n",
    "y_explain = model_predict(x_explain_tf)\n",
    "y_explain_index = y_explain.data.max(1, keepdim=True)[1][0].item()\n",
    "y_explain_index"
   ]
  },
  {
   "cell_type": "code",
   "execution_count": 50,
   "metadata": {},
   "outputs": [],
   "source": [
    "try:\n",
    "    del output\n",
    "except:\n",
    "    pass\n",
    "torch.cuda.empty_cache() \n",
    "output = model_predict(example_data)\n",
    "output_np = output.data.exp().to(density.model.device_cpu).numpy()"
   ]
  },
  {
   "cell_type": "code",
   "execution_count": 51,
   "metadata": {},
   "outputs": [],
   "source": [
    "# fig, axis = plt.subplots(10, 10, figsize=(15, 10))\n",
    "# axis= axis.reshape(-1)\n",
    "# for i, (ax, img_i) in enumerate(zip(axis, example_data)):\n",
    "#     x_ = img_i.to(density.model.device_cpu).reshape(28, 28)  # .reshape(28, 28)\n",
    "#     plt.setp(ax.get_xticklabels(), visible=False)\n",
    "#     plt.setp(ax.get_yticklabels(), visible=False)\n",
    "#     ax.imshow(x_, interpolation = 'none')\n",
    "#     ax.set_title(\"Prediction: {}\".format( output.data.max(1, keepdim=True)[1][i].item()))\n",
    "    \n",
    "# plt.show()"
   ]
  },
  {
   "cell_type": "code",
   "execution_count": null,
   "metadata": {},
   "outputs": [],
   "source": []
  },
  {
   "cell_type": "code",
   "execution_count": 57,
   "metadata": {},
   "outputs": [],
   "source": [
    "# for i, img_i in enumerate(example_data[:200]):\n",
    "#     fig, ax = plt.subplots(1, figsize=(10, 10))\n",
    "#     x_ = img_i.to(density.model.device_cpu).reshape(28, 28)  # .reshape(28, 28)\n",
    "#     plt.setp(ax.get_xticklabels(), visible=False)\n",
    "#     plt.setp(ax.get_yticklabels(), visible=False)\n",
    "#     ax.imshow(x_, interpolation = 'none', cmap='gray')\n",
    "#     index_sorted = np.argsort(output_np[i])[::-1][:2]\n",
    "#     porcentagem = output_np[i][index_sorted]*100\n",
    "#     ax.set_title(\"Prediction: {} - {:5.2f} ; {} - {:5.2f} \".format(\n",
    "#         output.data.max(1, keepdim=True)[1][i].item()\n",
    "#         , porcentagem[0]\n",
    "#         , index_sorted[1]\n",
    "#         , porcentagem[1]\n",
    "        \n",
    "#     )\n",
    "                 \n",
    "#     )\n",
    "# #     plt.subplots_adjust(left=0.01, bottom=0.01, right=0.99, top=0.99, wspace=0.01, hspace=0.001)\n",
    "#     plt.savefig('./fig/fig{:}.png'.format(i))\n",
    "#     plt.close()"
   ]
  },
  {
   "cell_type": "code",
   "execution_count": 58,
   "metadata": {},
   "outputs": [
    {
     "data": {
      "text/plain": [
       "(15000, 784)"
      ]
     },
     "execution_count": 58,
     "metadata": {},
     "output_type": "execute_result"
    }
   ],
   "source": [
    "x_sample.shape"
   ]
  },
  {
   "cell_type": "code",
   "execution_count": 59,
   "metadata": {},
   "outputs": [
    {
     "data": {
      "text/plain": [
       "(15000, 10)"
      ]
     },
     "execution_count": 59,
     "metadata": {},
     "output_type": "execute_result"
    }
   ],
   "source": [
    "output_np.shape"
   ]
  },
  {
   "cell_type": "code",
   "execution_count": 60,
   "metadata": {},
   "outputs": [],
   "source": [
    "from sklearn.linear_model import HuberRegressor\n",
    "\n",
    "def plot_explanation(y_explain_index, model_linear=None):\n",
    "    importance = plot_importance(y_explain_index, model_linear)\n",
    "\n",
    "def plot_importance(y_explain_index, model_linear=None):\n",
    "    # select = [i for i in range(output_np.shape[1]) if i != y_explain_index]\n",
    "    # out_others = np.sum(output_np[:, select], axis=1)\n",
    "    y_p = np.empty((output_np.shape[0]))\n",
    "    \n",
    "    print('class to explain:', y_explain_index)\n",
    "    y_p[:] = output_np[:, y_explain_index]\n",
    "    # y_p[:, 1] = out_others\n",
    "\n",
    "    if model_linear is None:\n",
    "        model_linear = HuberRegressor()\n",
    "    model_linear.fit(x_sample, y_p)\n",
    "\n",
    "    importance = model_linear.coef_.reshape(28, 28)\n",
    "#     importance[np.abs(importance)<0.001] = 0\n",
    "    # Plot Result\n",
    "    fig, ax = plt.subplots(1,3, figsize=(20, 10))\n",
    "    ax.reshape(-1)\n",
    "    ax[0].set_title('Importance')\n",
    "    plt.setp(ax[0].get_xticklabels(), visible=False)\n",
    "    plt.setp(ax[0].get_yticklabels(), visible=False)\n",
    "    cp = ax[0].imshow(importance, interpolation = 'none', cmap='jet')\n",
    "   \n",
    "    positive = importance.copy()\n",
    "    positive[positive < 0] = 0\n",
    "    positive = positive #*(x_explain.reshape(28, 28)+1.0*np.ones((28,28)))\n",
    "\n",
    "    ax[1].set_title('Postivo')\n",
    "    plt.setp(ax[1].get_xticklabels(), visible=False)\n",
    "    plt.setp(ax[1].get_yticklabels(), visible=False)\n",
    "    cp1 = ax[1].imshow(positive, interpolation = 'none', cmap='jet')\n",
    "    \n",
    "    negative = importance.copy()\n",
    "    negative[negative > 0] = 0\n",
    "    negative = np.abs(negative)\n",
    "    negative = negative #*(x_explain.reshape(28, 28)+1.0*np.ones((28,28)))\n",
    "\n",
    "    ax[2].set_title('Negative')\n",
    "    plt.setp(ax[2].get_xticklabels(), visible=False)\n",
    "    plt.setp(ax[2].get_yticklabels(), visible=False)\n",
    "    cp1 = ax[2].imshow(negative, interpolation = 'none', cmap='jet')\n",
    "    \n",
    "    fig.subplots_adjust(right=0.9)\n",
    "    cbar_ax = fig.add_axes([0.95, 0.25, 0.04, 0.5])\n",
    "    fig.colorbar(cp, cax=cbar_ax)\n",
    "    plt.show()"
   ]
  },
  {
   "cell_type": "code",
   "execution_count": 61,
   "metadata": {},
   "outputs": [
    {
     "data": {
      "image/png": "[encoded data removed]",
      "text/plain": [
       "<Figure size 432x288 with 2 Axes>"
      ]
     },
     "metadata": {
      "needs_background": "light"
     },
     "output_type": "display_data"
    },
    {
     "name": "stdout",
     "output_type": "stream",
     "text": [
      "class to explain: 5\n"
     ]
    },
    {
     "data": {
      "image/png": "[encoded data removed]",
      "text/plain": [
       "<Figure size 1440x720 with 4 Axes>"
      ]
     },
     "metadata": {
      "needs_background": "light"
     },
     "output_type": "display_data"
    }
   ],
   "source": [
    "cp = plot_figure(x_explain)\n",
    "importance = plot_explanation(y_explain_index)\n"
   ]
  },
  {
   "cell_type": "markdown",
   "metadata": {},
   "source": [
    "### TODO: find the boundary of the image"
   ]
  },
  {
   "cell_type": "code",
   "execution_count": 62,
   "metadata": {},
   "outputs": [],
   "source": [
    "# from skimage.filters import gaussian\n",
    "# from skimage.segmentation import active_contour\n",
    "\n",
    "# s = np.linspace(0, 2*np.pi, 400)\n",
    "# r = 100 + 100*np.sin(s)\n",
    "# c = 220 + 100*np.cos(s)\n",
    "# init = np.array([r, c]).T\n",
    "# img = x_explain.reshape(28, 28)\n",
    "# snake = active_contour(img,\n",
    "#                        init, alpha=0.015, beta=10, gamma=0.001,\n",
    "#                        )\n",
    "\n",
    "# fig, ax = plt.subplots(figsize=(7, 7))\n",
    "# # ax.imshow(img, cmap=plt.cm.gray)\n",
    "# ax.plot(init[:, 1], init[:, 0], '--r', lw=3)\n",
    "# ax.plot(snake[:, 1], snake[:, 0], '-b', lw=3)\n",
    "# ax.set_xticks([]), ax.set_yticks([])\n",
    "# ax.axis([0, img.shape[1], img.shape[0], 0])\n",
    "\n",
    "# # plt.show()\n"
   ]
  },
  {
   "cell_type": "code",
   "execution_count": 63,
   "metadata": {},
   "outputs": [],
   "source": [
    "# y_p = model_predict(torch.from_numpy(positive.reshape(-1, 1, 28, 28), ).float().to(density.model.device))"
   ]
  },
  {
   "cell_type": "code",
   "execution_count": 64,
   "metadata": {},
   "outputs": [],
   "source": [
    "# y_p.data.max(1, keepdim=True)[1][0].item()"
   ]
  },
  {
   "cell_type": "markdown",
   "metadata": {},
   "source": [
    "## Why is not a 4"
   ]
  },
  {
   "cell_type": "code",
   "execution_count": 65,
   "metadata": {},
   "outputs": [],
   "source": [
    "# select = [i for i in range(output_np.shape[1]) if i != y_explain_index]\n",
    "class_index = np.argsort(output_np[:, :], axis=1)\n",
    "# y_p = np.empty((output_np.shape[0], 1))\n",
    "# y_p[:, 0] = output_np[:, y_explain_index]\n",
    "# y_p[:, 1] = out_others\n",
    "# y_p\n",
    "y_p_sorted = np.sort(output_np[:, :], axis=1)\n",
    "class_index\n",
    "index_class_most_predicted = class_index[:, -3:].reshape(-1)\n",
    "unique, counts = np.unique(index_class_most_predicted, return_counts=True)"
   ]
  },
  {
   "cell_type": "code",
   "execution_count": 66,
   "metadata": {},
   "outputs": [
    {
     "name": "stdout",
     "output_type": "stream",
     "text": [
      "[15000 15000 15000]\n"
     ]
    },
    {
     "data": {
      "text/plain": [
       "array([5, 3, 1])"
      ]
     },
     "execution_count": 66,
     "metadata": {},
     "output_type": "execute_result"
    }
   ],
   "source": [
    "class_most_predicted = unique[np.argsort(counts)[::-1]]\n",
    "print(np.sort(counts)[::-1])\n",
    "class_most_predicted"
   ]
  },
  {
   "cell_type": "markdown",
   "metadata": {},
   "source": [
    "## Importance for 6"
   ]
  },
  {
   "cell_type": "code",
   "execution_count": 73,
   "metadata": {},
   "outputs": [
    {
     "data": {
      "image/png": "[encoded data removed]",
      "text/plain": [
       "<Figure size 432x288 with 2 Axes>"
      ]
     },
     "metadata": {
      "needs_background": "light"
     },
     "output_type": "display_data"
    },
    {
     "name": "stdout",
     "output_type": "stream",
     "text": [
      "class to explain: 6\n"
     ]
    },
    {
     "data": {
      "image/png": "[encoded data removed]",
      "text/plain": [
       "<Figure size 1440x720 with 4 Axes>"
      ]
     },
     "metadata": {
      "needs_background": "light"
     },
     "output_type": "display_data"
    }
   ],
   "source": [
    "cp = plot_figure(x_explain)\n",
    "plot_explanation(6)"
   ]
  },
  {
   "cell_type": "markdown",
   "metadata": {},
   "source": [
    "## Importance for 9"
   ]
  },
  {
   "cell_type": "code",
   "execution_count": 74,
   "metadata": {},
   "outputs": [
    {
     "data": {
      "image/png": "[encoded data removed]",
      "text/plain": [
       "<Figure size 432x288 with 2 Axes>"
      ]
     },
     "metadata": {
      "needs_background": "light"
     },
     "output_type": "display_data"
    },
    {
     "name": "stdout",
     "output_type": "stream",
     "text": [
      "class to explain: 3\n"
     ]
    },
    {
     "data": {
      "image/png": "[encoded data removed]",
      "text/plain": [
       "<Figure size 1440x720 with 4 Axes>"
      ]
     },
     "metadata": {
      "needs_background": "light"
     },
     "output_type": "display_data"
    }
   ],
   "source": [
    "cp = plot_figure(x_explain)\n",
    "plot_explanation(3)"
   ]
  },
  {
   "cell_type": "markdown",
   "metadata": {},
   "source": [
    "## Importance for 5"
   ]
  },
  {
   "cell_type": "code",
   "execution_count": 75,
   "metadata": {},
   "outputs": [
    {
     "data": {
      "image/png": "[encoded data removed]",
      "text/plain": [
       "<Figure size 432x288 with 2 Axes>"
      ]
     },
     "metadata": {
      "needs_background": "light"
     },
     "output_type": "display_data"
    },
    {
     "name": "stdout",
     "output_type": "stream",
     "text": [
      "class to explain: 9\n"
     ]
    },
    {
     "data": {
      "image/png": "[encoded data removed]",
      "text/plain": [
       "<Figure size 1440x720 with 4 Axes>"
      ]
     },
     "metadata": {
      "needs_background": "light"
     },
     "output_type": "display_data"
    }
   ],
   "source": [
    "cp = plot_figure(x_explain)\n",
    "plot_explanation(9)"
   ]
  },
  {
   "cell_type": "markdown",
   "metadata": {},
   "source": [
    "# Changing linear model"
   ]
  },
  {
   "cell_type": "code",
   "execution_count": 77,
   "metadata": {},
   "outputs": [],
   "source": [
    "from sklearn.linear_model import SGDRegressor as Linear\n",
    "# HuberRegressor\n",
    "model_linear = Linear()"
   ]
  },
  {
   "cell_type": "code",
   "execution_count": 79,
   "metadata": {},
   "outputs": [
    {
     "name": "stdout",
     "output_type": "stream",
     "text": [
      "class to explain: 7\n"
     ]
    },
    {
     "data": {
      "image/png": "[encoded data removed]",
      "text/plain": [
       "<Figure size 1440x720 with 4 Axes>"
      ]
     },
     "metadata": {
      "needs_background": "light"
     },
     "output_type": "display_data"
    }
   ],
   "source": [
    "plot_explanation(7, model_linear)"
   ]
  },
  {
   "cell_type": "code",
   "execution_count": null,
   "metadata": {},
   "outputs": [],
   "source": []
  },
  {
   "cell_type": "code",
   "execution_count": null,
   "metadata": {},
   "outputs": [],
   "source": []
  },
  {
   "cell_type": "code",
   "execution_count": null,
   "metadata": {},
   "outputs": [],
   "source": []
  },
  {
   "cell_type": "code",
   "execution_count": null,
   "metadata": {},
   "outputs": [],
   "source": []
  },
  {
   "cell_type": "code",
   "execution_count": null,
   "metadata": {},
   "outputs": [],
   "source": [
    "from sklearn.linear_model import HuberRegressor\n",
    "model_linear = HuberRegressor()\n",
    "model_linear.fit(x_sample, y_p)"
   ]
  },
  {
   "cell_type": "code",
   "execution_count": null,
   "metadata": {},
   "outputs": [],
   "source": [
    "x_explain = x_1[0][6].numpy()\n",
    "plot_figure(x_explain)"
   ]
  },
  {
   "cell_type": "code",
   "execution_count": null,
   "metadata": {},
   "outputs": [],
   "source": [
    "x_sample = density.sample_radius(x_exp=x_explain.reshape(-1, 784), r=4, n_samples=7000, random_state=None)\n",
    "example_data = torch.from_numpy(x_sample.reshape(-1, 1, 28, 28)).to(density.model.device)\n",
    "x_explain_tf = torch.from_numpy(x_explain.reshape(-1, 1, 28, 28)).to(density.model.device)\n",
    "y_explain = model_predict(x_explain_tf)\n",
    "y_explain_index = y_explain.data.max(1, keepdim=True)[1][0].item()\n",
    "y_explain_index"
   ]
  },
  {
   "cell_type": "code",
   "execution_count": null,
   "metadata": {},
   "outputs": [],
   "source": [
    "# fig, axis = plt.subplots(10, 10, figsize=(15, 10))\n",
    "# axis= axis.reshape(-1)\n",
    "# for ax, img_i in zip(axis, x_sample[30:]):\n",
    "#     x_ = img_i.reshape(28, 28)\n",
    "#     plt.setp(ax.get_xticklabels(), visible=False)\n",
    "#     plt.setp(ax.get_yticklabels(), visible=False)\n",
    "#     ax.imshow(x_, interpolation = 'none')\n",
    "# plt.subplots_adjust(left=0.01, bottom=0.01, right=0.99, top=0.99, wspace=0.01, hspace=0.001)\n",
    "# plt.show()"
   ]
  },
  {
   "cell_type": "code",
   "execution_count": null,
   "metadata": {},
   "outputs": [],
   "source": [
    "output = model_predict(example_data)\n",
    "output_np = output.data.exp().to(density.model.device_cpu).numpy()"
   ]
  },
  {
   "cell_type": "code",
   "execution_count": null,
   "metadata": {},
   "outputs": [],
   "source": [
    "# for i, img_i in enumerate(example_data[:200]):\n",
    "#     fig, ax = plt.subplots(1, figsize=(10, 10))\n",
    "#     x_ = img_i.to(density.model.device_cpu).reshape(28, 28)  # .reshape(28, 28)\n",
    "#     plt.setp(ax.get_xticklabels(), visible=False)\n",
    "#     plt.setp(ax.get_yticklabels(), visible=False)\n",
    "#     ax.imshow(x_, interpolation = 'none', cmap='gray')\n",
    "#     index_sorted = np.argsort(output_np[i])[::-1][:2]\n",
    "#     porcentagem = output_np[i][index_sorted]*100\n",
    "#     ax.set_title(\"Prediction: {} - {:5.2f} ; {} - {:5.2f} \".format(\n",
    "#         output.data.max(1, keepdim=True)[1][i].item()\n",
    "#         , porcentagem[0]\n",
    "#         , index_sorted[1]\n",
    "#         , porcentagem[1]\n",
    "        \n",
    "#     )\n",
    "                 \n",
    "#     )\n",
    "# #     plt.subplots_adjust(left=0.01, bottom=0.01, right=0.99, top=0.99, wspace=0.01, hspace=0.001)\n",
    "#     plt.savefig('./fig/8/fig{:}.png'.format(i))\n",
    "#     plt.close()"
   ]
  },
  {
   "cell_type": "code",
   "execution_count": null,
   "metadata": {},
   "outputs": [],
   "source": [
    "# select = [i for i in range(output_np.shape[1]) if i != y_explain_index]\n",
    "# out_others = np.sum(output_np[:, select], axis=1)\n",
    "y_p = np.empty((output_np.shape[0], 1))\n",
    "y_p[:, 0] = output_np[:, y_explain_index]\n",
    "# y_p[:, 1] = out_others\n",
    "y_p"
   ]
  },
  {
   "cell_type": "code",
   "execution_count": null,
   "metadata": {},
   "outputs": [],
   "source": [
    "from sklearn.linear_model import HuberRegressor\n",
    "model_linear = HuberRegressor()\n",
    "model_linear.fit(x_sample, y_p)"
   ]
  },
  {
   "cell_type": "code",
   "execution_count": null,
   "metadata": {},
   "outputs": [],
   "source": [
    "importance = np.abs(model_linear.coef_.reshape(28, 28))\n",
    "# importance = (model_linear.coef_.reshape(28, 28))/np.max(importance)"
   ]
  },
  {
   "cell_type": "code",
   "execution_count": null,
   "metadata": {},
   "outputs": [],
   "source": [
    "fig, ax1 = plt.subplots(1,1)\n",
    "plt.setp(ax1.get_xticklabels(), visible=False)\n",
    "plt.setp(ax1.get_yticklabels(), visible=False)\n",
    "cs = ax1.imshow(importance, interpolation = 'none', cmap='jet')\n",
    "fig.colorbar(cs)"
   ]
  },
  {
   "cell_type": "code",
   "execution_count": null,
   "metadata": {},
   "outputs": [],
   "source": []
  }
 ],
 "metadata": {
  "kernelspec": {
   "display_name": "ml18",
   "language": "python",
   "name": "ml18"
  },
  "language_info": {
   "codemirror_mode": {
    "name": "ipython",
    "version": 3
   },
   "file_extension": ".py",
   "mimetype": "text/x-python",
   "name": "python",
   "nbconvert_exporter": "python",
   "pygments_lexer": "ipython3",
   "version": "3.7.6"
  }
 },
 "nbformat": 4,
 "nbformat_minor": 4
}
