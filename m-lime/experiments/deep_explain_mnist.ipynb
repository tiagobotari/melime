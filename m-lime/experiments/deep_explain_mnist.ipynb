{
 "cells": [
  {
   "cell_type": "markdown",
   "metadata": {
    "collapsed": true
   },
   "source": [
    "## DeepExplain - Tensorflow example\n",
    "### MNIST with a 2-layers MLP"
   ]
  },
  {
   "cell_type": "code",
   "execution_count": 1,
   "metadata": {},
   "outputs": [],
   "source": [
    "import tensorflow as tf"
   ]
  },
  {
   "cell_type": "code",
   "execution_count": 2,
   "metadata": {},
   "outputs": [
    {
     "data": {
      "text/plain": [
       "<module 'tensorflow._api.v1.version' from '/home/tiagobotari/anaconda3/envs/density-lime3.7/lib/python3.7/site-packages/tensorflow_core/_api/v1/version/__init__.py'>"
      ]
     },
     "execution_count": 2,
     "metadata": {},
     "output_type": "execute_result"
    }
   ],
   "source": [
    "tf.version"
   ]
  },
  {
   "cell_type": "code",
   "execution_count": 3,
   "metadata": {},
   "outputs": [
    {
     "name": "stdout",
     "output_type": "stream",
     "text": [
      "WARNING:tensorflow:From <ipython-input-3-7d3969917565>:13: read_data_sets (from tensorflow.contrib.learn.python.learn.datasets.mnist) is deprecated and will be removed in a future version.\n",
      "Instructions for updating:\n",
      "Please use alternatives such as official/mnist/dataset.py from tensorflow/models.\n",
      "WARNING:tensorflow:From /home/tiagobotari/anaconda3/envs/density-lime3.7/lib/python3.7/site-packages/tensorflow_core/contrib/learn/python/learn/datasets/mnist.py:260: maybe_download (from tensorflow.contrib.learn.python.learn.datasets.base) is deprecated and will be removed in a future version.\n",
      "Instructions for updating:\n",
      "Please write your own downloading logic.\n",
      "WARNING:tensorflow:From /home/tiagobotari/anaconda3/envs/density-lime3.7/lib/python3.7/site-packages/tensorflow_core/contrib/learn/python/learn/datasets/mnist.py:262: extract_images (from tensorflow.contrib.learn.python.learn.datasets.mnist) is deprecated and will be removed in a future version.\n",
      "Instructions for updating:\n",
      "Please use tf.data to implement this functionality.\n",
      "Extracting /tmp/train-images-idx3-ubyte.gz\n",
      "WARNING:tensorflow:From /home/tiagobotari/anaconda3/envs/density-lime3.7/lib/python3.7/site-packages/tensorflow_core/contrib/learn/python/learn/datasets/mnist.py:267: extract_labels (from tensorflow.contrib.learn.python.learn.datasets.mnist) is deprecated and will be removed in a future version.\n",
      "Instructions for updating:\n",
      "Please use tf.data to implement this functionality.\n",
      "Extracting /tmp/train-labels-idx1-ubyte.gz\n",
      "WARNING:tensorflow:From /home/tiagobotari/anaconda3/envs/density-lime3.7/lib/python3.7/site-packages/tensorflow_core/contrib/learn/python/learn/datasets/mnist.py:110: dense_to_one_hot (from tensorflow.contrib.learn.python.learn.datasets.mnist) is deprecated and will be removed in a future version.\n",
      "Instructions for updating:\n",
      "Please use tf.one_hot on tensors.\n",
      "Extracting /tmp/t10k-images-idx3-ubyte.gz\n",
      "Extracting /tmp/t10k-labels-idx1-ubyte.gz\n",
      "WARNING:tensorflow:From /home/tiagobotari/anaconda3/envs/density-lime3.7/lib/python3.7/site-packages/tensorflow_core/contrib/learn/python/learn/datasets/mnist.py:290: DataSet.__init__ (from tensorflow.contrib.learn.python.learn.datasets.mnist) is deprecated and will be removed in a future version.\n",
      "Instructions for updating:\n",
      "Please use alternatives such as official/mnist/dataset.py from tensorflow/models.\n"
     ]
    }
   ],
   "source": [
    "from __future__ import absolute_import\n",
    "from __future__ import division\n",
    "from __future__ import print_function\n",
    "\n",
    "import tempfile, sys, os\n",
    "sys.path.insert(0, os.path.abspath('..'))\n",
    "\n",
    "from tensorflow.examples.tutorials.mnist import input_data\n",
    "import tensorflow as tf\n",
    "\n",
    "# Download and import MNIST data\n",
    "tmp_dir = tempfile.gettempdir()\n",
    "mnist = input_data.read_data_sets(tmp_dir, one_hot=True)"
   ]
  },
  {
   "cell_type": "code",
   "execution_count": 4,
   "metadata": {},
   "outputs": [],
   "source": [
    "# Parameters\n",
    "learning_rate = 0.005\n",
    "num_steps = 2000\n",
    "batch_size = 128\n",
    "\n",
    "# Network Parameters\n",
    "n_hidden_1 = 256 # 1st layer number of neurons\n",
    "n_hidden_2 = 256 # 2nd layer number of neurons\n",
    "num_input = 784 # MNIST data input (img shape: 28*28)\n",
    "num_classes = 10 # MNIST total classes (0-9 digits)\n",
    "\n",
    "# tf Graph input\n",
    "X = tf.placeholder(\"float\", [None, num_input])\n",
    "Y = tf.placeholder(\"float\", [None, num_classes])\n",
    "\n",
    "# Store layers weight & bias\n",
    "weights = {\n",
    "    'h1': tf.Variable(tf.random_normal([num_input, n_hidden_1], mean=0.0, stddev=0.05)),\n",
    "    'h2': tf.Variable(tf.random_normal([n_hidden_1, n_hidden_2], mean=0.0, stddev=0.05)),\n",
    "    'out': tf.Variable(tf.random_normal([n_hidden_2, num_classes], mean=0.0, stddev=0.05))\n",
    "}\n",
    "biases = {\n",
    "    'b1': tf.Variable(tf.zeros([n_hidden_1])),\n",
    "    'b2': tf.Variable(tf.zeros([n_hidden_2])),\n",
    "    'out': tf.Variable(tf.zeros([num_classes]))\n",
    "}"
   ]
  },
  {
   "cell_type": "code",
   "execution_count": 5,
   "metadata": {},
   "outputs": [
    {
     "name": "stdout",
     "output_type": "stream",
     "text": [
      "WARNING:tensorflow:From <ipython-input-5-f7280fc3076c>:13: softmax_cross_entropy_with_logits (from tensorflow.python.ops.nn_ops) is deprecated and will be removed in a future version.\n",
      "Instructions for updating:\n",
      "\n",
      "Future major versions of TensorFlow will allow gradients to flow\n",
      "into the labels input on backprop by default.\n",
      "\n",
      "See `tf.nn.softmax_cross_entropy_with_logits_v2`.\n",
      "\n",
      "Step 1, Minibatch Loss= 3.3201, Training Accuracy= 0.234\n",
      "Step 100, Minibatch Loss= 0.2585, Training Accuracy= 0.945\n",
      "Step 200, Minibatch Loss= 0.2519, Training Accuracy= 0.906\n",
      "Step 300, Minibatch Loss= 0.1156, Training Accuracy= 0.977\n",
      "Step 400, Minibatch Loss= 0.1764, Training Accuracy= 0.969\n",
      "Step 500, Minibatch Loss= 0.0960, Training Accuracy= 0.984\n",
      "Step 600, Minibatch Loss= 0.0982, Training Accuracy= 0.961\n",
      "Step 700, Minibatch Loss= 0.1738, Training Accuracy= 0.961\n",
      "Step 800, Minibatch Loss= 0.0731, Training Accuracy= 0.969\n",
      "Step 900, Minibatch Loss= 0.0705, Training Accuracy= 0.992\n",
      "Step 1000, Minibatch Loss= 0.0710, Training Accuracy= 0.984\n",
      "Step 1100, Minibatch Loss= 0.0438, Training Accuracy= 0.984\n",
      "Step 1200, Minibatch Loss= 0.1362, Training Accuracy= 0.945\n",
      "Step 1300, Minibatch Loss= 0.1725, Training Accuracy= 0.969\n",
      "Step 1400, Minibatch Loss= 0.0656, Training Accuracy= 0.969\n",
      "Step 1500, Minibatch Loss= 0.1137, Training Accuracy= 0.961\n",
      "Step 1600, Minibatch Loss= 0.0531, Training Accuracy= 0.984\n",
      "Step 1700, Minibatch Loss= 0.0921, Training Accuracy= 0.984\n",
      "Step 1800, Minibatch Loss= 0.0771, Training Accuracy= 0.984\n",
      "Step 1900, Minibatch Loss= 0.0652, Training Accuracy= 0.977\n",
      "Step 2000, Minibatch Loss= 0.0601, Training Accuracy= 0.984\n",
      "Done\n",
      "Test accuracy: 0.9564\n"
     ]
    }
   ],
   "source": [
    "# Create and train model\n",
    "def model(x, act=tf.nn.relu):  # < different activation functions lead to different explanations\n",
    "    layer_1 = act(tf.add(tf.matmul(x, weights['h1']), biases['b1']))\n",
    "    layer_2 = act(tf.add(tf.matmul(layer_1, weights['h2']), biases['b2']))\n",
    "    out_layer = tf.matmul(layer_2, weights['out']) + biases['out']\n",
    "    return out_layer\n",
    "\n",
    "# Construct model\n",
    "logits = model(X)\n",
    "\n",
    "# Define loss and optimizer\n",
    "loss_op = tf.reduce_mean(tf.nn.softmax_cross_entropy_with_logits(\n",
    "    logits=logits, labels=Y))\n",
    "optimizer = tf.train.AdamOptimizer(learning_rate=learning_rate)\n",
    "train_op = optimizer.minimize(loss_op)\n",
    "\n",
    "# Evaluate model (with test logits, for dropout to be disabled)\n",
    "correct_pred = tf.equal(tf.argmax(logits, 1), tf.argmax(Y, 1))\n",
    "accuracy = tf.reduce_mean(tf.cast(correct_pred, tf.float32))\n",
    "\n",
    "# Initialize the variables (i.e. assign their default value)\n",
    "init = tf.global_variables_initializer()\n",
    "\n",
    "# Train\n",
    "def input_transform (x): \n",
    "    return (x - 0.5) *  2\n",
    "\n",
    "sess = tf.Session()\n",
    "\n",
    "# Run the initializer\n",
    "sess.run(init)\n",
    "\n",
    "for step in range(1, num_steps+1):\n",
    "    batch_x, batch_y = mnist.train.next_batch(batch_size)\n",
    "    batch_x = input_transform(batch_x)\n",
    "    # Run optimization op (backprop)\n",
    "    sess.run(train_op, feed_dict={X: batch_x, Y: batch_y})\n",
    "    if step % 100 == 0 or step == 1:\n",
    "        # Calculate batch loss and accuracy\n",
    "        loss, acc = sess.run([loss_op, accuracy], feed_dict={X: batch_x,\n",
    "                                                             Y: batch_y})\n",
    "        print(\"Step \" + str(step) + \", Minibatch Loss= \" + \\\n",
    "              \"{:.4f}\".format(loss) + \", Training Accuracy= \" + \\\n",
    "              \"{:.3f}\".format(acc))\n",
    "\n",
    "print(\"Done\")\n",
    "\n",
    "# Calculate accuracy for MNIST test images\n",
    "test_x = input_transform(mnist.test.images)\n",
    "test_y = mnist.test.labels\n",
    "\n",
    "print(\"Test accuracy:\", \\b\n",
    "      \n",
    "    sess.run(accuracy, feed_dict={X: test_x, Y: test_y}))"
   ]
  },
  {
   "cell_type": "code",
   "execution_count": 24,
   "metadata": {},
   "outputs": [
    {
     "name": "stdout",
     "output_type": "stream",
     "text": [
      "Test accuracy: [[ -2.1841807   -0.7510963    0.5862146  ...   7.5861583   -3.4624095\n",
      "    1.6307843 ]\n",
      " [-12.732706     5.089093    10.043096   ...  -0.7878957   -1.63919\n",
      "   -8.349272  ]\n",
      " [ -9.11545      9.259816    -0.24543555 ...  -0.11572336   0.7014799\n",
      "   -7.484817  ]\n",
      " ...\n",
      " [-11.809975    -4.496798   -11.425389   ...   3.0373979   -5.059856\n",
      "    7.0096846 ]\n",
      " [  0.40189263  -6.8135896  -10.342329   ...  -4.5325184   -1.2691377\n",
      "    0.70631695]\n",
      " [  6.3758883   -7.7004266   -4.8850465  ... -12.4451      -1.3844955\n",
      "    0.10645761]]\n"
     ]
    }
   ],
   "source": [
    "y_p = sess.run(logits, feed_dict={X: test_x})\n",
    "print(\"Test accuracy:\", y_p\n",
    "    )"
   ]
  },
  {
   "cell_type": "code",
   "execution_count": 25,
   "metadata": {},
   "outputs": [
    {
     "data": {
      "text/plain": [
       "array([[ -2.1841807 ,  -0.7510963 ,   0.5862146 , ...,   7.5861583 ,\n",
       "         -3.4624095 ,   1.6307843 ],\n",
       "       [-12.732706  ,   5.089093  ,  10.043096  , ...,  -0.7878957 ,\n",
       "         -1.63919   ,  -8.349272  ],\n",
       "       [ -9.11545   ,   9.259816  ,  -0.24543555, ...,  -0.11572336,\n",
       "          0.7014799 ,  -7.484817  ],\n",
       "       ...,\n",
       "       [-11.809975  ,  -4.496798  , -11.425389  , ...,   3.0373979 ,\n",
       "         -5.059856  ,   7.0096846 ],\n",
       "       [  0.40189263,  -6.8135896 , -10.342329  , ...,  -4.5325184 ,\n",
       "         -1.2691377 ,   0.70631695],\n",
       "       [  6.3758883 ,  -7.7004266 ,  -4.8850465 , ..., -12.4451    ,\n",
       "         -1.3844955 ,   0.10645761]], dtype=float32)"
      ]
     },
     "execution_count": 25,
     "metadata": {},
     "output_type": "execute_result"
    }
   ],
   "source": [
    "y_p"
   ]
  },
  {
   "cell_type": "markdown",
   "metadata": {},
   "source": [
    "### Use DeepExplain to find attributions for each input pixel"
   ]
  },
  {
   "cell_type": "code",
   "execution_count": 26,
   "metadata": {},
   "outputs": [],
   "source": [
    "test_idx = 0\n",
    "xi = test_x[[test_idx]]\n",
    "yi = test_y[test_idx] \n",
    "\n"
   ]
  },
  {
   "cell_type": "code",
   "execution_count": 28,
   "metadata": {},
   "outputs": [
    {
     "data": {
      "text/plain": [
       "7"
      ]
     },
     "execution_count": 28,
     "metadata": {},
     "output_type": "execute_result"
    }
   ],
   "source": [
    "np.argmax(y_p)"
   ]
  },
  {
   "cell_type": "code",
   "execution_count": 29,
   "metadata": {},
   "outputs": [
    {
     "data": {
      "text/plain": [
       "array([[ -3.9971957,  -2.9020133,   1.0721418,  -1.8595235,  -5.3969436,\n",
       "        -13.206001 , -11.716968 ,  18.761435 ,  -8.941824 ,   2.4497993]],\n",
       "      dtype=float32)"
      ]
     },
     "execution_count": 29,
     "metadata": {},
     "output_type": "execute_result"
    }
   ],
   "source": [
    "y_p"
   ]
  },
  {
   "cell_type": "code",
   "execution_count": 75,
   "metadata": {},
   "outputs": [
    {
     "name": "stdout",
     "output_type": "stream",
     "text": [
      "Done\n"
     ]
    },
    {
     "data": {
      "image/png": "[encoded data removed]",
      "text/plain": [
       "<Figure size 1728x216 with 8 Axes>"
      ]
     },
     "metadata": {
      "needs_background": "light"
     },
     "output_type": "display_data"
    }
   ],
   "source": [
    "# Import DeepExplain\n",
    "from deepexplain.tensorflow import DeepExplain\n",
    "from utils import plot, plt\n",
    "%matplotlib inline\n",
    "\n",
    "# Define the input to be tested\n",
    "test_idx = 0\n",
    "xi = test_x[[test_idx]]\n",
    "yi = test_y[test_idx] \n",
    "x_explain = xi\n",
    "# Create a DeepExplain context. \n",
    "# IMPORTANT: the network must be created within this context.\n",
    "# In this example we have trained the network before, so we call `model(X)` to \n",
    "# recreate the network graph using the same weights that have been already trained.\n",
    "with DeepExplain(session=sess) as de:\n",
    "    logits = model(X)\n",
    "    # We run `explain()` several time to compare different attribution methods\n",
    "    attributions = {\n",
    "        # Gradient-based\n",
    "        'Saliency maps':        de.explain('saliency', logits * yi, X, xi),\n",
    "        'Gradient * Input':     de.explain('grad*input', logits * yi, X, xi),\n",
    "        'Integrated Gradients': de.explain('intgrad', logits * yi, X, xi),\n",
    "        'Epsilon-LRP':          de.explain('elrp', logits * yi, X, xi),\n",
    "        'DeepLIFT (Rescale)':   de.explain('deeplift', logits * yi, X, xi),\n",
    "        #Perturbation-based\n",
    "        '_Occlusion [1x1]':      de.explain('occlusion', logits * yi, X, xi),\n",
    "        '_Occlusion [3x3]':      de.explain('occlusion', logits * yi, X, xi, window_shape=(3,))\n",
    "    }\n",
    "    print ('Done')\n",
    "\n",
    "# Plot attributions\n",
    "n_cols = len(attributions) + 1\n",
    "fig, axes = plt.subplots(nrows=1, ncols=n_cols, figsize=(3*n_cols, 3))\n",
    "plot(xi.reshape(28, 28), cmap='Greys', axis=axes[0]).set_title('Original')\n",
    "for i, method_name in enumerate(sorted(attributions.keys())):\n",
    "    plot(attributions[method_name].reshape(28,28), xi = xi.reshape(28, 28), axis=axes[1+i]).set_title(method_name)"
   ]
  },
  {
   "cell_type": "code",
   "execution_count": 76,
   "metadata": {},
   "outputs": [],
   "source": [
    "import os, sys\n",
    "sys.path.append('..')\n",
    "\n",
    "import numpy as np\n",
    "import matplotlib.pyplot as plt\n",
    "from pprint import pprint\n",
    "\n",
    "from m_lime.generators.vae_gen import VAEGen\n",
    "from m_lime.explainers.explainer import Explainer\n",
    "from m_lime.explainers.visualizations.visualization import ImagePlot"
   ]
  },
  {
   "cell_type": "code",
   "execution_count": 85,
   "metadata": {},
   "outputs": [],
   "source": [
    "import torch\n",
    "def model_predict(x_):\n",
    "    if isinstance(x_, torch.Tensor):\n",
    "        x_ = x.detach().cpu().numpy()\n",
    "    x_ = x_.reshape(-1, 784)\n",
    "    \n",
    "    batch_x = input_transform(x_)\n",
    "    y_p = sess.run(logits, feed_dict={X: batch_x})\n",
    "    print(y_p)\n",
    "    return y_p"
   ]
  },
  {
   "cell_type": "code",
   "execution_count": 86,
   "metadata": {},
   "outputs": [],
   "source": [
    "generator = VAEGen(input_dim=784)\n",
    "# density.fit(train_loader, epochs=40)\n",
    "# density.save_manifold('./model_vae_manifold.pth')\n",
    "generator = generator.load_manifold('./model_vae_manifold.pth')"
   ]
  },
  {
   "cell_type": "code",
   "execution_count": 93,
   "metadata": {},
   "outputs": [
    {
     "name": "stderr",
     "output_type": "stream",
     "text": [
      "/home/tiagobotari/anaconda3/envs/density-lime3.7/lib/python3.7/site-packages/matplotlib/image.py:397: UserWarning: Warning: converting a masked element to nan.\n",
      "  dv = (np.float64(self.norm.vmax) -\n",
      "/home/tiagobotari/anaconda3/envs/density-lime3.7/lib/python3.7/site-packages/matplotlib/image.py:398: UserWarning: Warning: converting a masked element to nan.\n",
      "  np.float64(self.norm.vmin))\n",
      "/home/tiagobotari/anaconda3/envs/density-lime3.7/lib/python3.7/site-packages/matplotlib/image.py:405: UserWarning: Warning: converting a masked element to nan.\n",
      "  a_min = np.float64(newmin)\n",
      "/home/tiagobotari/anaconda3/envs/density-lime3.7/lib/python3.7/site-packages/matplotlib/image.py:410: UserWarning: Warning: converting a masked element to nan.\n",
      "  a_max = np.float64(newmax)\n",
      "<string>:6: UserWarning: Warning: converting a masked element to nan.\n",
      "/home/tiagobotari/anaconda3/envs/density-lime3.7/lib/python3.7/site-packages/numpy/ma/core.py:722: UserWarning: Warning: converting a masked element to nan.\n",
      "  data = np.array(a, copy=False, subok=subok)\n"
     ]
    },
    {
     "data": {
      "image/png": "[encoded data removed]",
      "text/plain": [
       "<Figure size 1080x360 with 50 Axes>"
      ]
     },
     "metadata": {},
     "output_type": "display_data"
    }
   ],
   "source": [
    "if True:\n",
    "    x_sample = generator.sample_radius(x_exp=x_explain.reshape(-1, 784), r=1.5, n_samples=15000, random_state=None)\n",
    "    fig, axis = plt.subplots(5, 10, figsize=(15, 5))\n",
    "    axis= axis.reshape(-1)\n",
    "    for ax, img_i in zip(axis, x_sample[:50]):\n",
    "        x_ = img_i.reshape(28, 28)\n",
    "        plt.setp(ax.get_xticklabels(), visible=False)\n",
    "        plt.setp(ax.get_yticklabels(), visible=False)\n",
    "        ax.imshow(x_, interpolation = 'none')\n",
    "    plt.subplots_adjust(left=0.01, bottom=0.01, right=0.99, top=0.99, wspace=0.01, hspace=0.001)\n",
    "    plt.show()"
   ]
  },
  {
   "cell_type": "code",
   "execution_count": 87,
   "metadata": {},
   "outputs": [],
   "source": [
    "def get_explanation(x_explain, model_predict, class_to_explain, local_class, r):\n",
    "    print(\"Explanation for: \", class_to_explain)\n",
    "    print(\"Probability:\", model_predict(x_explain)[0][class_to_explain])\n",
    "    explain_linear = Explainer(\n",
    "        model_predict=model_predict, generator=generator,\n",
    "        local_model=local_class)\n",
    "    explanation, contra = explain_linear.explain_instance(\n",
    "        x_explain=x_explain,\n",
    "        r=r,\n",
    "        n_samples=1000,\n",
    "        class_index=class_to_explain,\n",
    "        tol_importance=0.01,\n",
    "        tol_error=0.01,\n",
    "        weight_kernel=None,\n",
    "        local_mini_batch_max=100,\n",
    "        scale_data=False\n",
    "    )\n",
    "    return explanation, contra\n",
    "   \n",
    "def explain(x_explain, model_predict, class_to_explain, local_class, r):\n",
    "    explanation, contra = get_explanation(\n",
    "        x_explain, model_predict, class_to_explain, local_class, r)\n",
    "    fig, axis = ImagePlot.plot_importance_contrafactual(explanation.explain(), contra, class_to_explain)\n",
    "    plt.savefig(\n",
    "        f'MNIST_e_c_{class_to_explain}.png', dpi=300, interpolation='none')\n",
    "    return explanation"
   ]
  },
  {
   "cell_type": "code",
   "execution_count": 88,
   "metadata": {},
   "outputs": [],
   "source": [
    "local_class = 'SGD'\n",
    "r = 0.9\n",
    "explain_linear = None\n",
    "torch.cuda.empty_cache()"
   ]
  },
  {
   "cell_type": "code",
   "execution_count": 89,
   "metadata": {},
   "outputs": [
    {
     "name": "stdout",
     "output_type": "stream",
     "text": [
      "[[ -3.9971957  -2.9020133   1.0721418  -1.8595235  -5.3969436 -13.206001\n",
      "  -11.716968   18.761435   -8.941824    2.4497993]]\n",
      "Predicted: 7 18.761435\n",
      "Top 3 predicted Class [7 9 2]\n"
     ]
    }
   ],
   "source": [
    "# x_explain = np.loadtxt('five_example_1.np').astype(np.float32).reshape(1, 28, 28)\n",
    "y_explain = model_predict(x_explain)\n",
    "y_explain_index = np.argmax(y_explain)\n",
    "print('Predicted:', y_explain_index, y_explain[0][y_explain_index])\n",
    "top_three = np.argsort(y_explain)[0][::-1]\n",
    "print('Top 3 predicted Class', top_three[:3])\n",
    "y = f'Prediction: {np.argmax(y_explain):}'"
   ]
  },
  {
   "cell_type": "code",
   "execution_count": 90,
   "metadata": {},
   "outputs": [
    {
     "data": {
      "text/plain": [
       "7"
      ]
     },
     "execution_count": 90,
     "metadata": {},
     "output_type": "execute_result"
    }
   ],
   "source": [
    "top_three[0]"
   ]
  },
  {
   "cell_type": "code",
   "execution_count": 91,
   "metadata": {},
   "outputs": [
    {
     "name": "stdout",
     "output_type": "stream",
     "text": [
      "Explanation for:  7\n",
      "[[ -3.9971957  -2.9020133   1.0721418  -1.8595235  -5.3969436 -13.206001\n",
      "  -11.716968   18.761435   -8.941824    2.4497993]]\n",
      "Probability: 18.761435\n",
      "[[ -3.9971957  -2.9020133   1.0721418  -1.8595235  -5.3969436 -13.206001\n",
      "  -11.716968   18.761435   -8.941824    2.4497993]]\n",
      "[[       nan        nan        nan ...        nan        nan        nan]\n",
      " [       nan        nan        nan ...        nan        nan        nan]\n",
      " [       nan        nan        nan ...        nan        nan        nan]\n",
      " ...\n",
      " [       nan        nan        nan ...        nan        nan        nan]\n",
      " [       nan        nan        nan ...        nan        nan        nan]\n",
      " [-3.9971986 -2.9020147  1.0721407 ... 18.761444  -8.941826   2.4498017]]\n"
     ]
    },
    {
     "ename": "ValueError",
     "evalue": "Input contains NaN, infinity or a value too large for dtype('float64').",
     "output_type": "error",
     "traceback": [
      "\u001b[0;31m---------------------------------------------------------------------------\u001b[0m",
      "\u001b[0;31mValueError\u001b[0m                                Traceback (most recent call last)",
      "\u001b[0;32m<ipython-input-91-472e872b9ba5>\u001b[0m in \u001b[0;36m<module>\u001b[0;34m\u001b[0m\n\u001b[1;32m      1\u001b[0m explanation = explain(\n\u001b[0;32m----> 2\u001b[0;31m     x_explain, model_predict, top_three[0], local_class=local_class, r=r)\n\u001b[0m",
      "\u001b[0;32m<ipython-input-87-8f34606d0cf9>\u001b[0m in \u001b[0;36mexplain\u001b[0;34m(x_explain, model_predict, class_to_explain, local_class, r)\u001b[0m\n\u001b[1;32m     20\u001b[0m \u001b[0;32mdef\u001b[0m \u001b[0mexplain\u001b[0m\u001b[0;34m(\u001b[0m\u001b[0mx_explain\u001b[0m\u001b[0;34m,\u001b[0m \u001b[0mmodel_predict\u001b[0m\u001b[0;34m,\u001b[0m \u001b[0mclass_to_explain\u001b[0m\u001b[0;34m,\u001b[0m \u001b[0mlocal_class\u001b[0m\u001b[0;34m,\u001b[0m \u001b[0mr\u001b[0m\u001b[0;34m)\u001b[0m\u001b[0;34m:\u001b[0m\u001b[0;34m\u001b[0m\u001b[0;34m\u001b[0m\u001b[0m\n\u001b[1;32m     21\u001b[0m     explanation, contra = get_explanation(\n\u001b[0;32m---> 22\u001b[0;31m         x_explain, model_predict, class_to_explain, local_class, r)\n\u001b[0m\u001b[1;32m     23\u001b[0m     \u001b[0mfig\u001b[0m\u001b[0;34m,\u001b[0m \u001b[0maxis\u001b[0m \u001b[0;34m=\u001b[0m \u001b[0mImagePlot\u001b[0m\u001b[0;34m.\u001b[0m\u001b[0mplot_importance_contrafactual\u001b[0m\u001b[0;34m(\u001b[0m\u001b[0mexplanation\u001b[0m\u001b[0;34m.\u001b[0m\u001b[0mexplain\u001b[0m\u001b[0;34m(\u001b[0m\u001b[0;34m)\u001b[0m\u001b[0;34m,\u001b[0m \u001b[0mcontra\u001b[0m\u001b[0;34m,\u001b[0m \u001b[0mclass_to_explain\u001b[0m\u001b[0;34m)\u001b[0m\u001b[0;34m\u001b[0m\u001b[0;34m\u001b[0m\u001b[0m\n\u001b[1;32m     24\u001b[0m     plt.savefig(\n",
      "\u001b[0;32m<ipython-input-87-8f34606d0cf9>\u001b[0m in \u001b[0;36mget_explanation\u001b[0;34m(x_explain, model_predict, class_to_explain, local_class, r)\u001b[0m\n\u001b[1;32m     14\u001b[0m         \u001b[0mweight_kernel\u001b[0m\u001b[0;34m=\u001b[0m\u001b[0;32mNone\u001b[0m\u001b[0;34m,\u001b[0m\u001b[0;34m\u001b[0m\u001b[0;34m\u001b[0m\u001b[0m\n\u001b[1;32m     15\u001b[0m         \u001b[0mlocal_mini_batch_max\u001b[0m\u001b[0;34m=\u001b[0m\u001b[0;36m100\u001b[0m\u001b[0;34m,\u001b[0m\u001b[0;34m\u001b[0m\u001b[0;34m\u001b[0m\u001b[0m\n\u001b[0;32m---> 16\u001b[0;31m         \u001b[0mscale_data\u001b[0m\u001b[0;34m=\u001b[0m\u001b[0;32mFalse\u001b[0m\u001b[0;34m\u001b[0m\u001b[0;34m\u001b[0m\u001b[0m\n\u001b[0m\u001b[1;32m     17\u001b[0m     )\n\u001b[1;32m     18\u001b[0m     \u001b[0;32mreturn\u001b[0m \u001b[0mexplanation\u001b[0m\u001b[0;34m,\u001b[0m \u001b[0mcontra\u001b[0m\u001b[0;34m\u001b[0m\u001b[0;34m\u001b[0m\u001b[0m\n",
      "\u001b[0;32m~/projects/m-lime/m-lime/m_lime/explainers/explainer.py\u001b[0m in \u001b[0;36mexplain_instance\u001b[0;34m(self, x_explain, r, class_index, n_samples, tol_importance, tol_error, local_mini_batch_max, weight_kernel, test_batch, scale_data, include_x_explain_train)\u001b[0m\n\u001b[1;32m    175\u001b[0m             \u001b[0;32mif\u001b[0m \u001b[0mlen\u001b[0m\u001b[0;34m(\u001b[0m\u001b[0my_p\u001b[0m\u001b[0;34m.\u001b[0m\u001b[0mshape\u001b[0m\u001b[0;34m)\u001b[0m \u001b[0;34m!=\u001b[0m \u001b[0;36m1\u001b[0m\u001b[0;34m:\u001b[0m\u001b[0;34m\u001b[0m\u001b[0;34m\u001b[0m\u001b[0m\n\u001b[1;32m    176\u001b[0m                 \u001b[0my_p\u001b[0m \u001b[0;34m=\u001b[0m \u001b[0my_p\u001b[0m\u001b[0;34m[\u001b[0m\u001b[0;34m:\u001b[0m\u001b[0;34m,\u001b[0m \u001b[0mclass_index\u001b[0m\u001b[0;34m]\u001b[0m\u001b[0;34m\u001b[0m\u001b[0;34m\u001b[0m\u001b[0m\n\u001b[0;32m--> 177\u001b[0;31m             \u001b[0mself\u001b[0m\u001b[0;34m.\u001b[0m\u001b[0mlocal_model\u001b[0m\u001b[0;34m.\u001b[0m\u001b[0mpartial_fit\u001b[0m\u001b[0;34m(\u001b[0m\u001b[0mchi_set\u001b[0m\u001b[0;34m,\u001b[0m \u001b[0my_p\u001b[0m\u001b[0;34m,\u001b[0m \u001b[0mweight_set\u001b[0m\u001b[0;34m)\u001b[0m\u001b[0;34m\u001b[0m\u001b[0;34m\u001b[0m\u001b[0m\n\u001b[0m\u001b[1;32m    178\u001b[0m             \u001b[0;32mif\u001b[0m \u001b[0mtest_batch\u001b[0m\u001b[0;34m:\u001b[0m\u001b[0;34m\u001b[0m\u001b[0;34m\u001b[0m\u001b[0m\n\u001b[1;32m    179\u001b[0m                 \u001b[0mself\u001b[0m\u001b[0;34m.\u001b[0m\u001b[0mcalc_error\u001b[0m\u001b[0;34m(\u001b[0m\u001b[0mchi_test_set\u001b[0m\u001b[0;34m,\u001b[0m \u001b[0my_test_set\u001b[0m\u001b[0;34m)\u001b[0m\u001b[0;34m\u001b[0m\u001b[0;34m\u001b[0m\u001b[0m\n",
      "\u001b[0;32m~/projects/m-lime/m-lime/m_lime/explainers/local_models/local_model_linear.py\u001b[0m in \u001b[0;36mpartial_fit\u001b[0;34m(self, x_set, y_set, weight_set)\u001b[0m\n\u001b[1;32m    126\u001b[0m             \u001b[0mgrid_search\u001b[0m \u001b[0;34m=\u001b[0m \u001b[0mGridSearchCV\u001b[0m\u001b[0;34m(\u001b[0m\u001b[0mmodel\u001b[0m\u001b[0;34m,\u001b[0m \u001b[0mparameters\u001b[0m\u001b[0;34m,\u001b[0m \u001b[0mn_jobs\u001b[0m\u001b[0;34m=\u001b[0m\u001b[0;34m-\u001b[0m\u001b[0;36m1\u001b[0m\u001b[0;34m)\u001b[0m\u001b[0;34m\u001b[0m\u001b[0;34m\u001b[0m\u001b[0m\n\u001b[1;32m    127\u001b[0m             \u001b[0mgrid_search\u001b[0m\u001b[0;34m.\u001b[0m\u001b[0mfit\u001b[0m\u001b[0;34m(\u001b[0m\u001b[0mx_train\u001b[0m\u001b[0;34m,\u001b[0m \u001b[0my_train\u001b[0m\u001b[0;34m)\u001b[0m\u001b[0;34m\u001b[0m\u001b[0;34m\u001b[0m\u001b[0m\n\u001b[0;32m--> 128\u001b[0;31m         \u001b[0mself\u001b[0m\u001b[0;34m.\u001b[0m\u001b[0mmodel\u001b[0m\u001b[0;34m.\u001b[0m\u001b[0mpartial_fit\u001b[0m\u001b[0;34m(\u001b[0m\u001b[0mx_set\u001b[0m\u001b[0;34m,\u001b[0m \u001b[0my_set\u001b[0m\u001b[0;34m,\u001b[0m \u001b[0msample_weight\u001b[0m\u001b[0;34m=\u001b[0m\u001b[0mweight_set\u001b[0m\u001b[0;34m)\u001b[0m\u001b[0;34m\u001b[0m\u001b[0;34m\u001b[0m\u001b[0m\n\u001b[0m\u001b[1;32m    129\u001b[0m         \u001b[0;31m# self.model.fit(x_set, y_set, sample_weight=weight_set)\u001b[0m\u001b[0;34m\u001b[0m\u001b[0;34m\u001b[0m\u001b[0;34m\u001b[0m\u001b[0m\n\u001b[1;32m    130\u001b[0m \u001b[0;34m\u001b[0m\u001b[0m\n",
      "\u001b[0;32m~/anaconda3/envs/density-lime3.7/lib/python3.7/site-packages/sklearn/linear_model/_stochastic_gradient.py\u001b[0m in \u001b[0;36mpartial_fit\u001b[0;34m(self, X, y, sample_weight)\u001b[0m\n\u001b[1;32m   1153\u001b[0m                                  \u001b[0mlearning_rate\u001b[0m\u001b[0;34m=\u001b[0m\u001b[0mself\u001b[0m\u001b[0;34m.\u001b[0m\u001b[0mlearning_rate\u001b[0m\u001b[0;34m,\u001b[0m \u001b[0mmax_iter\u001b[0m\u001b[0;34m=\u001b[0m\u001b[0;36m1\u001b[0m\u001b[0;34m,\u001b[0m\u001b[0;34m\u001b[0m\u001b[0;34m\u001b[0m\u001b[0m\n\u001b[1;32m   1154\u001b[0m                                  \u001b[0msample_weight\u001b[0m\u001b[0;34m=\u001b[0m\u001b[0msample_weight\u001b[0m\u001b[0;34m,\u001b[0m \u001b[0mcoef_init\u001b[0m\u001b[0;34m=\u001b[0m\u001b[0;32mNone\u001b[0m\u001b[0;34m,\u001b[0m\u001b[0;34m\u001b[0m\u001b[0;34m\u001b[0m\u001b[0m\n\u001b[0;32m-> 1155\u001b[0;31m                                  intercept_init=None)\n\u001b[0m\u001b[1;32m   1156\u001b[0m \u001b[0;34m\u001b[0m\u001b[0m\n\u001b[1;32m   1157\u001b[0m     def _fit(self, X, y, alpha, C, loss, learning_rate, coef_init=None,\n",
      "\u001b[0;32m~/anaconda3/envs/density-lime3.7/lib/python3.7/site-packages/sklearn/linear_model/_stochastic_gradient.py\u001b[0m in \u001b[0;36m_partial_fit\u001b[0;34m(self, X, y, alpha, C, loss, learning_rate, max_iter, sample_weight, coef_init, intercept_init)\u001b[0m\n\u001b[1;32m   1099\u001b[0m                      max_iter, sample_weight, coef_init, intercept_init):\n\u001b[1;32m   1100\u001b[0m         X, y = check_X_y(X, y, \"csr\", copy=False, order='C', dtype=np.float64,\n\u001b[0;32m-> 1101\u001b[0;31m                          accept_large_sparse=False)\n\u001b[0m\u001b[1;32m   1102\u001b[0m         \u001b[0my\u001b[0m \u001b[0;34m=\u001b[0m \u001b[0my\u001b[0m\u001b[0;34m.\u001b[0m\u001b[0mastype\u001b[0m\u001b[0;34m(\u001b[0m\u001b[0mnp\u001b[0m\u001b[0;34m.\u001b[0m\u001b[0mfloat64\u001b[0m\u001b[0;34m,\u001b[0m \u001b[0mcopy\u001b[0m\u001b[0;34m=\u001b[0m\u001b[0;32mFalse\u001b[0m\u001b[0;34m)\u001b[0m\u001b[0;34m\u001b[0m\u001b[0;34m\u001b[0m\u001b[0m\n\u001b[1;32m   1103\u001b[0m \u001b[0;34m\u001b[0m\u001b[0m\n",
      "\u001b[0;32m~/anaconda3/envs/density-lime3.7/lib/python3.7/site-packages/sklearn/utils/validation.py\u001b[0m in \u001b[0;36mcheck_X_y\u001b[0;34m(X, y, accept_sparse, accept_large_sparse, dtype, order, copy, force_all_finite, ensure_2d, allow_nd, multi_output, ensure_min_samples, ensure_min_features, y_numeric, warn_on_dtype, estimator)\u001b[0m\n\u001b[1;32m    753\u001b[0m                     \u001b[0mensure_min_features\u001b[0m\u001b[0;34m=\u001b[0m\u001b[0mensure_min_features\u001b[0m\u001b[0;34m,\u001b[0m\u001b[0;34m\u001b[0m\u001b[0;34m\u001b[0m\u001b[0m\n\u001b[1;32m    754\u001b[0m                     \u001b[0mwarn_on_dtype\u001b[0m\u001b[0;34m=\u001b[0m\u001b[0mwarn_on_dtype\u001b[0m\u001b[0;34m,\u001b[0m\u001b[0;34m\u001b[0m\u001b[0;34m\u001b[0m\u001b[0m\n\u001b[0;32m--> 755\u001b[0;31m                     estimator=estimator)\n\u001b[0m\u001b[1;32m    756\u001b[0m     \u001b[0;32mif\u001b[0m \u001b[0mmulti_output\u001b[0m\u001b[0;34m:\u001b[0m\u001b[0;34m\u001b[0m\u001b[0;34m\u001b[0m\u001b[0m\n\u001b[1;32m    757\u001b[0m         y = check_array(y, 'csr', force_all_finite=True, ensure_2d=False,\n",
      "\u001b[0;32m~/anaconda3/envs/density-lime3.7/lib/python3.7/site-packages/sklearn/utils/validation.py\u001b[0m in \u001b[0;36mcheck_array\u001b[0;34m(array, accept_sparse, accept_large_sparse, dtype, order, copy, force_all_finite, ensure_2d, allow_nd, ensure_min_samples, ensure_min_features, warn_on_dtype, estimator)\u001b[0m\n\u001b[1;32m    576\u001b[0m         \u001b[0;32mif\u001b[0m \u001b[0mforce_all_finite\u001b[0m\u001b[0;34m:\u001b[0m\u001b[0;34m\u001b[0m\u001b[0;34m\u001b[0m\u001b[0m\n\u001b[1;32m    577\u001b[0m             _assert_all_finite(array,\n\u001b[0;32m--> 578\u001b[0;31m                                allow_nan=force_all_finite == 'allow-nan')\n\u001b[0m\u001b[1;32m    579\u001b[0m \u001b[0;34m\u001b[0m\u001b[0m\n\u001b[1;32m    580\u001b[0m     \u001b[0;32mif\u001b[0m \u001b[0mensure_min_samples\u001b[0m \u001b[0;34m>\u001b[0m \u001b[0;36m0\u001b[0m\u001b[0;34m:\u001b[0m\u001b[0;34m\u001b[0m\u001b[0;34m\u001b[0m\u001b[0m\n",
      "\u001b[0;32m~/anaconda3/envs/density-lime3.7/lib/python3.7/site-packages/sklearn/utils/validation.py\u001b[0m in \u001b[0;36m_assert_all_finite\u001b[0;34m(X, allow_nan, msg_dtype)\u001b[0m\n\u001b[1;32m     58\u001b[0m                     \u001b[0mmsg_err\u001b[0m\u001b[0;34m.\u001b[0m\u001b[0mformat\u001b[0m\u001b[0;34m\u001b[0m\u001b[0;34m\u001b[0m\u001b[0m\n\u001b[1;32m     59\u001b[0m                     (type_err,\n\u001b[0;32m---> 60\u001b[0;31m                      msg_dtype if msg_dtype is not None else X.dtype)\n\u001b[0m\u001b[1;32m     61\u001b[0m             )\n\u001b[1;32m     62\u001b[0m     \u001b[0;31m# for object dtype data, we only check for NaNs (GH-13254)\u001b[0m\u001b[0;34m\u001b[0m\u001b[0;34m\u001b[0m\u001b[0;34m\u001b[0m\u001b[0m\n",
      "\u001b[0;31mValueError\u001b[0m: Input contains NaN, infinity or a value too large for dtype('float64')."
     ]
    }
   ],
   "source": [
    "explanation = explain(\n",
    "    x_explain, model_predict, top_three[0], local_class=local_class, r=r)"
   ]
  },
  {
   "cell_type": "code",
   "execution_count": null,
   "metadata": {},
   "outputs": [],
   "source": []
  }
 ],
 "metadata": {
  "kernelspec": {
   "display_name": "Python 3",
   "language": "python",
   "name": "python3"
  },
  "language_info": {
   "codemirror_mode": {
    "name": "ipython",
    "version": 3
   },
   "file_extension": ".py",
   "mimetype": "text/x-python",
   "name": "python",
   "nbconvert_exporter": "python",
   "pygments_lexer": "ipython3",
   "version": "3.7.7"
  }
 },
 "nbformat": 4,
 "nbformat_minor": 1
}
