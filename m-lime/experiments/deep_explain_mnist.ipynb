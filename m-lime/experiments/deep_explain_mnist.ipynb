{
 "cells": [
  {
   "cell_type": "markdown",
   "metadata": {
    "collapsed": true
   },
   "source": [
    "## DeepExplain - Tensorflow example\n",
    "### MNIST with a 2-layers MLP"
   ]
  },
  {
   "cell_type": "code",
   "execution_count": 1,
   "metadata": {},
   "outputs": [],
   "source": [
    "import tensorflow as tf"
   ]
  },
  {
   "cell_type": "code",
   "execution_count": 2,
   "metadata": {},
   "outputs": [
    {
     "data": {
      "text/plain": [
       "<module 'tensorflow._api.v1.version' from '/home/tiagobotari/anaconda3/envs/density-lime3.7/lib/python3.7/site-packages/tensorflow_core/_api/v1/version/__init__.py'>"
      ]
     },
     "execution_count": 2,
     "metadata": {},
     "output_type": "execute_result"
    }
   ],
   "source": [
    "tf.version"
   ]
  },
  {
   "cell_type": "code",
   "execution_count": 3,
   "metadata": {},
   "outputs": [
    {
     "name": "stdout",
     "output_type": "stream",
     "text": [
      "WARNING:tensorflow:From <ipython-input-3-de4e9fb68f3a>:15: read_data_sets (from tensorflow.contrib.learn.python.learn.datasets.mnist) is deprecated and will be removed in a future version.\n",
      "Instructions for updating:\n",
      "Please use alternatives such as official/mnist/dataset.py from tensorflow/models.\n",
      "WARNING:tensorflow:From /home/tiagobotari/anaconda3/envs/density-lime3.7/lib/python3.7/site-packages/tensorflow_core/contrib/learn/python/learn/datasets/mnist.py:260: maybe_download (from tensorflow.contrib.learn.python.learn.datasets.base) is deprecated and will be removed in a future version.\n",
      "Instructions for updating:\n",
      "Please write your own downloading logic.\n",
      "WARNING:tensorflow:From /home/tiagobotari/anaconda3/envs/density-lime3.7/lib/python3.7/site-packages/tensorflow_core/contrib/learn/python/learn/datasets/mnist.py:262: extract_images (from tensorflow.contrib.learn.python.learn.datasets.mnist) is deprecated and will be removed in a future version.\n",
      "Instructions for updating:\n",
      "Please use tf.data to implement this functionality.\n",
      "Extracting /tmp/train-images-idx3-ubyte.gz\n",
      "WARNING:tensorflow:From /home/tiagobotari/anaconda3/envs/density-lime3.7/lib/python3.7/site-packages/tensorflow_core/contrib/learn/python/learn/datasets/mnist.py:267: extract_labels (from tensorflow.contrib.learn.python.learn.datasets.mnist) is deprecated and will be removed in a future version.\n",
      "Instructions for updating:\n",
      "Please use tf.data to implement this functionality.\n",
      "Extracting /tmp/train-labels-idx1-ubyte.gz\n",
      "WARNING:tensorflow:From /home/tiagobotari/anaconda3/envs/density-lime3.7/lib/python3.7/site-packages/tensorflow_core/contrib/learn/python/learn/datasets/mnist.py:110: dense_to_one_hot (from tensorflow.contrib.learn.python.learn.datasets.mnist) is deprecated and will be removed in a future version.\n",
      "Instructions for updating:\n",
      "Please use tf.one_hot on tensors.\n",
      "Extracting /tmp/t10k-images-idx3-ubyte.gz\n",
      "Extracting /tmp/t10k-labels-idx1-ubyte.gz\n",
      "WARNING:tensorflow:From /home/tiagobotari/anaconda3/envs/density-lime3.7/lib/python3.7/site-packages/tensorflow_core/contrib/learn/python/learn/datasets/mnist.py:290: DataSet.__init__ (from tensorflow.contrib.learn.python.learn.datasets.mnist) is deprecated and will be removed in a future version.\n",
      "Instructions for updating:\n",
      "Please use alternatives such as official/mnist/dataset.py from tensorflow/models.\n"
     ]
    }
   ],
   "source": [
    "from __future__ import absolute_import\n",
    "from __future__ import division\n",
    "from __future__ import print_function\n",
    "\n",
    "import tempfile, sys, os\n",
    "sys.path.insert(0, os.path.abspath('..'))\n",
    "\n",
    "import numpy as np \n",
    "\n",
    "from tensorflow.examples.tutorials.mnist import input_data\n",
    "import tensorflow as tf\n",
    "\n",
    "# Download and import MNIST data\n",
    "tmp_dir = tempfile.gettempdir()\n",
    "mnist = input_data.read_data_sets(tmp_dir, one_hot=True)"
   ]
  },
  {
   "cell_type": "code",
   "execution_count": 4,
   "metadata": {},
   "outputs": [],
   "source": [
    "# Parameters\n",
    "learning_rate = 0.005\n",
    "num_steps = 2000\n",
    "batch_size = 128\n",
    "\n",
    "# Network Parameters\n",
    "n_hidden_1 = 256 # 1st layer number of neurons\n",
    "n_hidden_2 = 256 # 2nd layer number of neurons\n",
    "num_input = 784 # MNIST data input (img shape: 28*28)\n",
    "num_classes = 10 # MNIST total classes (0-9 digits)\n",
    "\n",
    "# tf Graph input\n",
    "X = tf.placeholder(\"float\", [None, num_input])\n",
    "Y = tf.placeholder(\"float\", [None, num_classes])\n",
    "\n",
    "# Store layers weight & bias\n",
    "weights = {\n",
    "    'h1': tf.Variable(tf.random_normal([num_input, n_hidden_1], mean=0.0, stddev=0.05)),\n",
    "    'h2': tf.Variable(tf.random_normal([n_hidden_1, n_hidden_2], mean=0.0, stddev=0.05)),\n",
    "    'out': tf.Variable(tf.random_normal([n_hidden_2, num_classes], mean=0.0, stddev=0.05))\n",
    "}\n",
    "biases = {\n",
    "    'b1': tf.Variable(tf.zeros([n_hidden_1])),\n",
    "    'b2': tf.Variable(tf.zeros([n_hidden_2])),\n",
    "    'out': tf.Variable(tf.zeros([num_classes]))\n",
    "}"
   ]
  },
  {
   "cell_type": "code",
   "execution_count": null,
   "metadata": {},
   "outputs": [
    {
     "name": "stdout",
     "output_type": "stream",
     "text": [
      "WARNING:tensorflow:From <ipython-input-5-6ef44e82e999>:13: softmax_cross_entropy_with_logits (from tensorflow.python.ops.nn_ops) is deprecated and will be removed in a future version.\n",
      "Instructions for updating:\n",
      "\n",
      "Future major versions of TensorFlow will allow gradients to flow\n",
      "into the labels input on backprop by default.\n",
      "\n",
      "See `tf.nn.softmax_cross_entropy_with_logits_v2`.\n",
      "\n",
      "Step 1, Minibatch Loss= 3.3525, Training Accuracy= 0.164\n"
     ]
    }
   ],
   "source": [
    "# Create and train model\n",
    "def model(x, act=tf.nn.relu):  # < different activation functions lead to different explanations\n",
    "    layer_1 = act(tf.add(tf.matmul(x, weights['h1']), biases['b1']))\n",
    "    layer_2 = act(tf.add(tf.matmul(layer_1, weights['h2']), biases['b2']))\n",
    "    out_layer = tf.matmul(layer_2, weights['out']) + biases['out']\n",
    "    return out_layer\n",
    "\n",
    "# Construct model\n",
    "logits = model(X)\n",
    "\n",
    "# Define loss and optimizer\n",
    "loss_op = tf.reduce_mean(tf.nn.softmax_cross_entropy_with_logits(\n",
    "    logits=logits, labels=Y))\n",
    "optimizer = tf.train.AdamOptimizer(learning_rate=learning_rate)\n",
    "train_op = optimizer.minimize(loss_op)\n",
    "\n",
    "# Evaluate model (with test logits, for dropout to be disabled)\n",
    "correct_pred = tf.equal(tf.argmax(logits, 1), tf.argmax(Y, 1))\n",
    "accuracy = tf.reduce_mean(tf.cast(correct_pred, tf.float32))\n",
    "\n",
    "# Initialize the variables (i.e. assign their default value)\n",
    "init = tf.global_variables_initializer()\n",
    "\n",
    "# Train\n",
    "def input_transform (x): \n",
    "#     return x\n",
    "    return (x - 0.5) *  2\n",
    "\n",
    "sess = tf.Session()\n",
    "\n",
    "# Run the initializer\n",
    "sess.run(init)\n",
    "\n",
    "for step in range(1, num_steps+1):\n",
    "    batch_x, batch_y = mnist.train.next_batch(batch_size)\n",
    "    batch_x = input_transform(batch_x)\n",
    "    # Run optimization op (backprop)\n",
    "    sess.run(train_op, feed_dict={X: batch_x, Y: batch_y})\n",
    "    if step % 100 == 0 or step == 1:\n",
    "        # Calculate batch loss and accuracy\n",
    "        loss, acc = sess.run([loss_op, accuracy], feed_dict={X: batch_x,\n",
    "                                                             Y: batch_y})\n",
    "        print(\"Step \" + str(step) + \", Minibatch Loss= \" + \\\n",
    "              \"{:.4f}\".format(loss) + \", Training Accuracy= \" + \\\n",
    "              \"{:.3f}\".format(acc))\n",
    "\n",
    "print(\"Done\")\n",
    "\n",
    "# Calculate accuracy for MNIST test images\n",
    "test_x = input_transform(mnist.test.images)\n",
    "test_y = mnist.test.labels\n",
    "\n",
    "print(\"Test accuracy:\", \\\n",
    "    sess.run(accuracy, feed_dict={X: test_x, Y: test_y}))"
   ]
  },
  {
   "cell_type": "markdown",
   "metadata": {},
   "source": [
    "### Use DeepExplain to find attributions for each input pixel"
   ]
  },
  {
   "cell_type": "code",
   "execution_count": null,
   "metadata": {},
   "outputs": [],
   "source": [
    "test_idx = 0\n",
    "xi = test_x[[test_idx]]\n",
    "yi = test_y[test_idx] "
   ]
  },
  {
   "cell_type": "code",
   "execution_count": null,
   "metadata": {},
   "outputs": [],
   "source": [
    "yi = test_y[test_idx] \n",
    "yi"
   ]
  },
  {
   "cell_type": "code",
   "execution_count": null,
   "metadata": {},
   "outputs": [],
   "source": [
    " yi = test_y[test_idx] "
   ]
  },
  {
   "cell_type": "code",
   "execution_count": null,
   "metadata": {},
   "outputs": [],
   "source": []
  },
  {
   "cell_type": "code",
   "execution_count": null,
   "metadata": {},
   "outputs": [],
   "source": [
    "# Import DeepExplain\n",
    "from deepexplain.tensorflow import DeepExplain\n",
    "from utils import plot, plt\n",
    "%matplotlib inline\n",
    "\n",
    "# Define the input to be tested\n",
    "test_idx = 0\n",
    "# xi = test_x[[test_idx]]\n",
    "# yi = test_y[test_idx] \n",
    "# x_explain = xi\n",
    "x_explain = np.loadtxt('three_example.np').astype(np.float32).reshape(1, 28, 28)\n",
    "xi = x_explain.reshape(1, 784)\n",
    "yi = np.array([0.,0.,1.,0.,0.,0.,0.,0.,0.,0.])\n",
    "# Create a DeepExplain context. \n",
    "# IMPORTANT: the network must be created within this context.\n",
    "# In this example we have trained the network before, so we call `model(X)` to \n",
    "# recreate the network graph using the same weights that have been already trained.\n",
    "with DeepExplain(session=sess) as de:\n",
    "    logits = model(X)\n",
    "    # We run `explain()` several time to compare different attribution methods\n",
    "    attributions = {\n",
    "        # Gradient-based\n",
    "        'Saliency maps':        de.explain('saliency', logits * yi, X, xi),\n",
    "        'Gradient * Input':     de.explain('grad*input', logits * yi, X, xi),\n",
    "        'Integrated Gradients': de.explain('intgrad', logits * yi, X, xi),\n",
    "        'Epsilon-LRP':          de.explain('elrp', logits * yi, X, xi),\n",
    "        'DeepLIFT (Rescale)':   de.explain('deeplift', logits * yi, X, xi),\n",
    "        #Perturbation-based\n",
    "        '_Occlusion [1x1]':      de.explain('occlusion', logits * yi, X, xi),\n",
    "        '_Occlusion [3x3]':      de.explain('occlusion', logits * yi, X, xi, window_shape=(3,))\n",
    "    }\n",
    "    print ('Done')\n",
    "\n"
   ]
  },
  {
   "cell_type": "code",
   "execution_count": null,
   "metadata": {},
   "outputs": [],
   "source": [
    "import os, sys\n",
    "sys.path.append('..')\n",
    "\n",
    "import numpy as np\n",
    "import matplotlib.pyplot as plt\n",
    "from pprint import pprint\n",
    "\n",
    "from m_lime.generators.vae_gen import VAEGen\n",
    "from m_lime.explainers.explainer import Explainer\n",
    "from m_lime.explainers.visualizations.visualization import ImagePlot"
   ]
  },
  {
   "cell_type": "code",
   "execution_count": null,
   "metadata": {},
   "outputs": [],
   "source": [
    "import torch\n",
    "def model_predict(x_):\n",
    "    if isinstance(x_, torch.Tensor):\n",
    "        x_ = x.detach().cpu().numpy()\n",
    "    x_ = x_.reshape(-1, 784)\n",
    "    batch_x = input_transform(x_)\n",
    "    y_p = sess.run(logits, feed_dict={X: batch_x})\n",
    "    return y_p"
   ]
  },
  {
   "cell_type": "code",
   "execution_count": null,
   "metadata": {},
   "outputs": [],
   "source": [
    "generator = VAEGen(input_dim=784)\n",
    "# density.fit(train_loader, epochs=40)\n",
    "# density.save_manifold('./model_vae_manifold.pth')\n",
    "generator = generator.load_manifold('./model_vae_manifold.pth')"
   ]
  },
  {
   "cell_type": "code",
   "execution_count": null,
   "metadata": {},
   "outputs": [],
   "source": [
    "def get_explanation(x_explain, model_predict, class_to_explain, local_class, r):\n",
    "    print(\"Explanation for: \", class_to_explain)\n",
    "    print(\"Probability:\", model_predict(x_explain)[0][class_to_explain])\n",
    "    explain_linear = Explainer(\n",
    "        model_predict=model_predict, generator=generator,\n",
    "        local_model=local_class)\n",
    "    explanation, contra = explain_linear.explain_instance(\n",
    "        x_explain=x_explain,\n",
    "        r=r,\n",
    "        n_samples=1000,\n",
    "        class_index=class_to_explain,\n",
    "        tol_importance=0.01,\n",
    "        tol_error=0.01,\n",
    "        weight_kernel=None,\n",
    "        local_mini_batch_max=200,\n",
    "        scale_data=False\n",
    "    )\n",
    "    return explanation, contra\n",
    "   \n",
    "def explain(x_explain, model_predict, class_to_explain, local_class, r):\n",
    "    explanation, contra = get_explanation(\n",
    "        x_explain, model_predict, class_to_explain, local_class, r)\n",
    "    fig, axis = ImagePlot.plot_importance_contrafactual(explanation.explain(), contra, class_to_explain)\n",
    "    plt.savefig(\n",
    "        f'MNIST_e_c_{class_to_explain}.png', dpi=300, interpolation='none')\n",
    "    return explanation"
   ]
  },
  {
   "cell_type": "code",
   "execution_count": null,
   "metadata": {},
   "outputs": [],
   "source": [
    "local_class = 'SGD'\n",
    "r = 0.1\n",
    "explain_linear = None\n",
    "torch.cuda.empty_cache()"
   ]
  },
  {
   "cell_type": "code",
   "execution_count": null,
   "metadata": {},
   "outputs": [],
   "source": [
    "y_explain = model_predict(x_explain)\n",
    "y_explain_index = np.argmax(y_explain)\n",
    "print('Predicted:', y_explain_index, y_explain[0][y_explain_index])\n",
    "top_three = np.argsort(y_explain)[0][::-1]\n",
    "print('Top 3 predicted Class', top_three[:3])\n",
    "y = f'Prediction: {np.argmax(y_explain):}'"
   ]
  },
  {
   "cell_type": "code",
   "execution_count": null,
   "metadata": {},
   "outputs": [],
   "source": [
    "explanation = explain(\n",
    "    x_explain, model_predict, top_three[0], local_class=local_class, r=r)"
   ]
  },
  {
   "cell_type": "code",
   "execution_count": null,
   "metadata": {},
   "outputs": [],
   "source": [
    "# Plot attributions\n",
    "n_cols = len(attributions) + 2\n",
    "fig, axes = plt.subplots(nrows=1, ncols=n_cols, figsize=(20, 3))\n",
    "\n",
    "axes[0].imshow(xi.reshape(28, 28), interpolation='none', cmap='Greys')\n",
    "for i, method_name in enumerate(sorted(attributions.keys())):\n",
    "    plot(\n",
    "        attributions[method_name].reshape(28,28),\n",
    "        xi = xi.reshape(28, 28), axis=axes[1+i]).set_title(method_name)\n",
    "    axes[1+i].set_title(method_name, fontsize=15)\n",
    "plot(\n",
    "    (explanation.importance.reshape(28,28)),\n",
    "    xi = xi.reshape(28, 28), axis=axes[-1]).set_title('MeLIME', fontsize=15)\n"
   ]
  },
  {
   "cell_type": "code",
   "execution_count": null,
   "metadata": {},
   "outputs": [],
   "source": []
  }
 ],
 "metadata": {
  "kernelspec": {
   "display_name": "Python 3",
   "language": "python",
   "name": "python3"
  },
  "language_info": {
   "codemirror_mode": {
    "name": "ipython",
    "version": 3
   },
   "file_extension": ".py",
   "mimetype": "text/x-python",
   "name": "python",
   "nbconvert_exporter": "python",
   "pygments_lexer": "ipython3",
   "version": "3.7.7"
  }
 },
 "nbformat": 4,
 "nbformat_minor": 1
}
