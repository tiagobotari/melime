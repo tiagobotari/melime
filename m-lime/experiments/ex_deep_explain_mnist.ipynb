{
 "cells": [
  {
   "cell_type": "markdown",
   "metadata": {
    "collapsed": true
   },
   "source": [
    "## DeepExplain - Tensorflow example\n",
    "### MNIST with a 2-layers MLP"
   ]
  },
  {
   "cell_type": "code",
   "execution_count": 1,
   "metadata": {},
   "outputs": [],
   "source": [
    "import tensorflow as tf"
   ]
  },
  {
   "cell_type": "code",
   "execution_count": 2,
   "metadata": {},
   "outputs": [
    {
     "data": {
      "text/plain": [
       "<module 'tensorflow._api.v1.version' from '/home/tiagobotari/anaconda3/envs/density-lime3.7/lib/python3.7/site-packages/tensorflow_core/_api/v1/version/__init__.py'>"
      ]
     },
     "execution_count": 2,
     "metadata": {},
     "output_type": "execute_result"
    }
   ],
   "source": [
    "tf.version"
   ]
  },
  {
   "cell_type": "code",
   "execution_count": 3,
   "metadata": {},
   "outputs": [
    {
     "name": "stdout",
     "output_type": "stream",
     "text": [
      "WARNING:tensorflow:From <ipython-input-3-4898944c9a5a>:24: read_data_sets (from tensorflow.contrib.learn.python.learn.datasets.mnist) is deprecated and will be removed in a future version.\n",
      "Instructions for updating:\n",
      "Please use alternatives such as official/mnist/dataset.py from tensorflow/models.\n",
      "WARNING:tensorflow:From /home/tiagobotari/anaconda3/envs/density-lime3.7/lib/python3.7/site-packages/tensorflow_core/contrib/learn/python/learn/datasets/mnist.py:260: maybe_download (from tensorflow.contrib.learn.python.learn.datasets.base) is deprecated and will be removed in a future version.\n",
      "Instructions for updating:\n",
      "Please write your own downloading logic.\n",
      "WARNING:tensorflow:From /home/tiagobotari/anaconda3/envs/density-lime3.7/lib/python3.7/site-packages/tensorflow_core/contrib/learn/python/learn/datasets/mnist.py:262: extract_images (from tensorflow.contrib.learn.python.learn.datasets.mnist) is deprecated and will be removed in a future version.\n",
      "Instructions for updating:\n",
      "Please use tf.data to implement this functionality.\n",
      "Extracting /tmp/train-images-idx3-ubyte.gz\n",
      "WARNING:tensorflow:From /home/tiagobotari/anaconda3/envs/density-lime3.7/lib/python3.7/site-packages/tensorflow_core/contrib/learn/python/learn/datasets/mnist.py:267: extract_labels (from tensorflow.contrib.learn.python.learn.datasets.mnist) is deprecated and will be removed in a future version.\n",
      "Instructions for updating:\n",
      "Please use tf.data to implement this functionality.\n",
      "Extracting /tmp/train-labels-idx1-ubyte.gz\n",
      "WARNING:tensorflow:From /home/tiagobotari/anaconda3/envs/density-lime3.7/lib/python3.7/site-packages/tensorflow_core/contrib/learn/python/learn/datasets/mnist.py:110: dense_to_one_hot (from tensorflow.contrib.learn.python.learn.datasets.mnist) is deprecated and will be removed in a future version.\n",
      "Instructions for updating:\n",
      "Please use tf.one_hot on tensors.\n",
      "Extracting /tmp/t10k-images-idx3-ubyte.gz\n",
      "Extracting /tmp/t10k-labels-idx1-ubyte.gz\n",
      "WARNING:tensorflow:From /home/tiagobotari/anaconda3/envs/density-lime3.7/lib/python3.7/site-packages/tensorflow_core/contrib/learn/python/learn/datasets/mnist.py:290: DataSet.__init__ (from tensorflow.contrib.learn.python.learn.datasets.mnist) is deprecated and will be removed in a future version.\n",
      "Instructions for updating:\n",
      "Please use alternatives such as official/mnist/dataset.py from tensorflow/models.\n"
     ]
    }
   ],
   "source": [
    "from __future__ import absolute_import\n",
    "from __future__ import division\n",
    "from __future__ import print_function\n",
    "\n",
    "import os, sys\n",
    "sys.path.append('..')\n",
    "\n",
    "import tempfile, sys, os\n",
    "sys.path.insert(0, os.path.abspath('..'))\n",
    "\n",
    "import numpy as np \n",
    "\n",
    "from tensorflow.examples.tutorials.mnist import input_data\n",
    "import tensorflow as tf\n",
    "\n",
    "from torch.utils.data import DataLoader\n",
    "from torch.utils.data import IterableDataset\n",
    "from m_lime.generators.vae_gen import VAEGen\n",
    "from m_lime.explainers.explainer import Explainer\n",
    "from m_lime.explainers.visualizations.visualization import ImagePlot\n",
    "\n",
    "# Download and import MNIST data\n",
    "tmp_dir = tempfile.gettempdir()\n",
    "mnist = input_data.read_data_sets(tmp_dir, one_hot=True)"
   ]
  },
  {
   "cell_type": "code",
   "execution_count": null,
   "metadata": {},
   "outputs": [],
   "source": []
  },
  {
   "cell_type": "code",
   "execution_count": 4,
   "metadata": {},
   "outputs": [],
   "source": [
    "# Parameters\n",
    "learning_rate = 0.005\n",
    "num_steps = 2000\n",
    "batch_size = 128\n",
    "\n",
    "# Network Parameters\n",
    "n_hidden_1 = 256 # 1st layer number of neurons\n",
    "n_hidden_2 = 256 # 2nd layer number of neurons\n",
    "num_input = 784 # MNIST data input (img shape: 28*28)\n",
    "num_classes = 10 # MNIST total classes (0-9 digits)\n",
    "\n",
    "# tf Graph input\n",
    "X = tf.placeholder(\"float\", [None, num_input])\n",
    "Y = tf.placeholder(\"float\", [None, num_classes])\n",
    "\n",
    "# Store layers weight & bias\n",
    "weights = {\n",
    "    'h1': tf.Variable(tf.random_normal([num_input, n_hidden_1], mean=0.0, stddev=0.05)),\n",
    "    'h2': tf.Variable(tf.random_normal([n_hidden_1, n_hidden_2], mean=0.0, stddev=0.05)),\n",
    "    'out': tf.Variable(tf.random_normal([n_hidden_2, num_classes], mean=0.0, stddev=0.05))\n",
    "}\n",
    "biases = {\n",
    "    'b1': tf.Variable(tf.zeros([n_hidden_1])),\n",
    "    'b2': tf.Variable(tf.zeros([n_hidden_2])),\n",
    "    'out': tf.Variable(tf.zeros([num_classes]))\n",
    "}"
   ]
  },
  {
   "cell_type": "code",
   "execution_count": 5,
   "metadata": {},
   "outputs": [
    {
     "name": "stdout",
     "output_type": "stream",
     "text": [
      "WARNING:tensorflow:From <ipython-input-5-6ef44e82e999>:13: softmax_cross_entropy_with_logits (from tensorflow.python.ops.nn_ops) is deprecated and will be removed in a future version.\n",
      "Instructions for updating:\n",
      "\n",
      "Future major versions of TensorFlow will allow gradients to flow\n",
      "into the labels input on backprop by default.\n",
      "\n",
      "See `tf.nn.softmax_cross_entropy_with_logits_v2`.\n",
      "\n",
      "Step 1, Minibatch Loss= 3.1693, Training Accuracy= 0.195\n",
      "Step 100, Minibatch Loss= 0.2478, Training Accuracy= 0.914\n",
      "Step 200, Minibatch Loss= 0.4199, Training Accuracy= 0.883\n",
      "Step 300, Minibatch Loss= 0.2199, Training Accuracy= 0.953\n",
      "Step 400, Minibatch Loss= 0.0975, Training Accuracy= 0.953\n",
      "Step 500, Minibatch Loss= 0.2261, Training Accuracy= 0.953\n",
      "Step 600, Minibatch Loss= 0.2378, Training Accuracy= 0.930\n",
      "Step 700, Minibatch Loss= 0.1170, Training Accuracy= 0.961\n",
      "Step 800, Minibatch Loss= 0.1290, Training Accuracy= 0.938\n",
      "Step 900, Minibatch Loss= 0.1389, Training Accuracy= 0.953\n",
      "Step 1000, Minibatch Loss= 0.0999, Training Accuracy= 0.984\n",
      "Step 1100, Minibatch Loss= 0.1240, Training Accuracy= 0.961\n",
      "Step 1200, Minibatch Loss= 0.1010, Training Accuracy= 0.961\n",
      "Step 1300, Minibatch Loss= 0.0995, Training Accuracy= 0.977\n",
      "Step 1400, Minibatch Loss= 0.0702, Training Accuracy= 0.977\n",
      "Step 1500, Minibatch Loss= 0.0521, Training Accuracy= 0.977\n",
      "Step 1600, Minibatch Loss= 0.0965, Training Accuracy= 0.977\n",
      "Step 1700, Minibatch Loss= 0.2202, Training Accuracy= 0.922\n",
      "Step 1800, Minibatch Loss= 0.0703, Training Accuracy= 0.984\n",
      "Step 1900, Minibatch Loss= 0.0761, Training Accuracy= 0.977\n",
      "Step 2000, Minibatch Loss= 0.0531, Training Accuracy= 0.977\n",
      "Done\n",
      "Test accuracy: 0.9553\n"
     ]
    }
   ],
   "source": [
    "# Create and train model\n",
    "def model(x, act=tf.nn.relu):  # < different activation functions lead to different explanations\n",
    "    layer_1 = act(tf.add(tf.matmul(x, weights['h1']), biases['b1']))\n",
    "    layer_2 = act(tf.add(tf.matmul(layer_1, weights['h2']), biases['b2']))\n",
    "    out_layer = tf.matmul(layer_2, weights['out']) + biases['out']\n",
    "    return out_layer\n",
    "\n",
    "# Construct model\n",
    "logits = model(X)\n",
    "\n",
    "# Define loss and optimizer\n",
    "loss_op = tf.reduce_mean(tf.nn.softmax_cross_entropy_with_logits(\n",
    "    logits=logits, labels=Y))\n",
    "optimizer = tf.train.AdamOptimizer(learning_rate=learning_rate)\n",
    "train_op = optimizer.minimize(loss_op)\n",
    "\n",
    "# Evaluate model (with test logits, for dropout to be disabled)\n",
    "correct_pred = tf.equal(tf.argmax(logits, 1), tf.argmax(Y, 1))\n",
    "accuracy = tf.reduce_mean(tf.cast(correct_pred, tf.float32))\n",
    "\n",
    "# Initialize the variables (i.e. assign their default value)\n",
    "init = tf.global_variables_initializer()\n",
    "\n",
    "# Train\n",
    "def input_transform (x): \n",
    "#     return x\n",
    "    return (x - 0.5) *  2\n",
    "\n",
    "sess = tf.Session()\n",
    "\n",
    "# Run the initializer\n",
    "sess.run(init)\n",
    "\n",
    "for step in range(1, num_steps+1):\n",
    "    batch_x, batch_y = mnist.train.next_batch(batch_size)\n",
    "    batch_x = input_transform(batch_x)\n",
    "    # Run optimization op (backprop)\n",
    "    sess.run(train_op, feed_dict={X: batch_x, Y: batch_y})\n",
    "    if step % 100 == 0 or step == 1:\n",
    "        # Calculate batch loss and accuracy\n",
    "        loss, acc = sess.run([loss_op, accuracy], feed_dict={X: batch_x,\n",
    "                                                             Y: batch_y})\n",
    "        print(\"Step \" + str(step) + \", Minibatch Loss= \" + \\\n",
    "              \"{:.4f}\".format(loss) + \", Training Accuracy= \" + \\\n",
    "              \"{:.3f}\".format(acc))\n",
    "\n",
    "print(\"Done\")\n",
    "\n",
    "# Calculate accuracy for MNIST test images\n",
    "test_x = input_transform(mnist.test.images)\n",
    "test_y = mnist.test.labels\n",
    "\n",
    "print(\"Test accuracy:\", \\\n",
    "    sess.run(accuracy, feed_dict={X: test_x, Y: test_y}))"
   ]
  },
  {
   "cell_type": "markdown",
   "metadata": {},
   "source": [
    "### Use DeepExplain to find attributions for each input pixel"
   ]
  },
  {
   "cell_type": "code",
   "execution_count": 6,
   "metadata": {},
   "outputs": [],
   "source": [
    "test_idx = 0\n",
    "xi = test_x[[test_idx]]\n",
    "yi = test_y[test_idx] "
   ]
  },
  {
   "cell_type": "code",
   "execution_count": 7,
   "metadata": {},
   "outputs": [
    {
     "data": {
      "text/plain": [
       "array([0., 0., 0., 0., 0., 0., 0., 1., 0., 0.])"
      ]
     },
     "execution_count": 7,
     "metadata": {},
     "output_type": "execute_result"
    }
   ],
   "source": [
    "yi = test_y[test_idx] \n",
    "yi"
   ]
  },
  {
   "cell_type": "code",
   "execution_count": 8,
   "metadata": {},
   "outputs": [],
   "source": [
    " yi = test_y[test_idx] "
   ]
  },
  {
   "cell_type": "code",
   "execution_count": 9,
   "metadata": {},
   "outputs": [
    {
     "name": "stdout",
     "output_type": "stream",
     "text": [
      "WARNING:tensorflow:From /home/tiagobotari/anaconda3/envs/density-lime3.7/lib/python3.7/site-packages/deepexplain-0.3-py3.7.egg/deepexplain/tensorflow/methods.py:559: The name tf.get_default_session is deprecated. Please use tf.compat.v1.get_default_session instead.\n",
      "\n",
      "WARNING:tensorflow:From /home/tiagobotari/anaconda3/envs/density-lime3.7/lib/python3.7/site-packages/deepexplain-0.3-py3.7.egg/deepexplain/tensorflow/methods.py:638: The name tf.get_default_graph is deprecated. Please use tf.compat.v1.get_default_graph instead.\n",
      "\n"
     ]
    },
    {
     "name": "stderr",
     "output_type": "stream",
     "text": [
      "WARNING:tensorflow:From /home/tiagobotari/anaconda3/envs/density-lime3.7/lib/python3.7/site-packages/deepexplain-0.3-py3.7.egg/deepexplain/tensorflow/methods.py:638: The name tf.get_default_graph is deprecated. Please use tf.compat.v1.get_default_graph instead.\n",
      "\n"
     ]
    },
    {
     "name": "stdout",
     "output_type": "stream",
     "text": [
      "WARNING:tensorflow:From /home/tiagobotari/anaconda3/envs/density-lime3.7/lib/python3.7/site-packages/deepexplain-0.3-py3.7.egg/deepexplain/tensorflow/methods.py:336: where (from tensorflow.python.ops.array_ops) is deprecated and will be removed in a future version.\n",
      "Instructions for updating:\n",
      "Use tf.where in 2.0, which has the same broadcast rule as np.where\n"
     ]
    },
    {
     "name": "stderr",
     "output_type": "stream",
     "text": [
      "WARNING:tensorflow:From /home/tiagobotari/anaconda3/envs/density-lime3.7/lib/python3.7/site-packages/deepexplain-0.3-py3.7.egg/deepexplain/tensorflow/methods.py:336: where (from tensorflow.python.ops.array_ops) is deprecated and will be removed in a future version.\n",
      "Instructions for updating:\n",
      "Use tf.where in 2.0, which has the same broadcast rule as np.where\n"
     ]
    },
    {
     "name": "stdout",
     "output_type": "stream",
     "text": [
      "Done\n"
     ]
    }
   ],
   "source": [
    "# Import DeepExplain\n",
    "from deepexplain.tensorflow import DeepExplain\n",
    "from utils import plot, plt\n",
    "%matplotlib inline\n",
    "\n",
    "# Define the input to be tested\n",
    "test_idx = 0\n",
    "# xi = test_x[[test_idx]]\n",
    "# yi = test_y[test_idx] \n",
    "# x_explain = xi\n",
    "x_explain = np.loadtxt('three_example.np').astype(np.float32).reshape(1, 28, 28)\n",
    "xi = x_explain.reshape(1, 784)\n",
    "yi = np.array([0.,0.,0.,0.,0.,0.,0.,0.,1.,0.])\n",
    "# Create a DeepExplain context. \n",
    "# IMPORTANT: the network must be created within this context.\n",
    "# In this example we have trained the network before, so we call `model(X)` to \n",
    "# recreate the network graph using the same weights that have been already trained.\n",
    "with DeepExplain(session=sess) as de:\n",
    "    logits = model(X)\n",
    "    # We run `explain()` several time to compare different attribution methods\n",
    "    attributions = {\n",
    "        # Gradient-based\n",
    "        'Saliency maps':        de.explain('saliency', logits * yi, X, xi),\n",
    "        'Gradient * Input':     de.explain('grad*input', logits * yi, X, xi),\n",
    "        'Integrated Gradients': de.explain('intgrad', logits * yi, X, xi),\n",
    "        'Epsilon-LRP':          de.explain('elrp', logits * yi, X, xi),\n",
    "        'DeepLIFT (Rescale)':   de.explain('deeplift', logits * yi, X, xi),\n",
    "        #Perturbation-based\n",
    "        '_Occlusion [1x1]':      de.explain('occlusion', logits * yi, X, xi),\n",
    "        '_Occlusion [3x3]':      de.explain('occlusion', logits * yi, X, xi, window_shape=(3,))\n",
    "    }\n",
    "    print ('Done')"
   ]
  },
  {
   "cell_type": "code",
   "execution_count": 10,
   "metadata": {},
   "outputs": [],
   "source": [
    "import torch\n",
    "def model_predict(x_):\n",
    "    if isinstance(x_, torch.Tensor):\n",
    "        x_ = x.detach().cpu().numpy()\n",
    "    x_ = x_.reshape(-1, 784)\n",
    "    batch_x = input_transform(x_)\n",
    "    y_p = sess.run(logits, feed_dict={X: batch_x})\n",
    "    return y_p"
   ]
  },
  {
   "cell_type": "code",
   "execution_count": null,
   "metadata": {},
   "outputs": [],
   "source": []
  },
  {
   "cell_type": "markdown",
   "metadata": {},
   "source": [
    "# MeLIME Explanation"
   ]
  },
  {
   "cell_type": "code",
   "execution_count": 11,
   "metadata": {},
   "outputs": [],
   "source": [
    "# Using the same training data of the model to generate the generator VAEGen\n",
    "class DatasetMNIST(IterableDataset):\n",
    "    def __init__(self, data, batch_size):\n",
    "        super().__init__()\n",
    "        self.data = data\n",
    "        self.batch_size = batch_size\n",
    "        self.i = 0\n",
    "        \n",
    "    def __iter__(self):\n",
    "        return self\n",
    "    \n",
    "    def __next__(self):\n",
    "        if self.i > self.data.train.num_examples:\n",
    "            self.i = 0\n",
    "            raise StopIteration\n",
    "        else:\n",
    "            self.i += self.batch_size\n",
    "            return self.data.train.next_batch(self.batch_size)\n",
    "        \n",
    "    def __len__(self):\n",
    "        return self.data.train.num_examples\n",
    "train_dataset = DatasetMNIST(mnist, 1000)\n",
    "train_loader = DataLoader(train_dataset)\n",
    "generator = VAEGen(input_dim=784, verbose=False)\n",
    "file_name = './model_vae_manifold_deep_explain.pth'\n",
    "if os.path.isfile(file_name):\n",
    "    generator = generator.load_manifold('./model_vae_manifold_deep_explain.pth')\n",
    "else:\n",
    "    generator.fit(train_loader, epochs=20)\n",
    "    generator.save_manifold()"
   ]
  },
  {
   "cell_type": "code",
   "execution_count": 12,
   "metadata": {},
   "outputs": [],
   "source": [
    "def get_explanation(x_explain, model_predict, class_to_explain, local_class, r):\n",
    "    print(\"Explanation for: \", class_to_explain)\n",
    "    print(\"Probability:\", model_predict(x_explain)[0][class_to_explain])\n",
    "    explain_linear = Explainer(\n",
    "        model_predict=model_predict, generator=generator,\n",
    "        local_model=local_class)\n",
    "    explanation, contra = explain_linear.explain_instance(\n",
    "        x_explain=x_explain,\n",
    "        r=r,\n",
    "        n_samples=1000,\n",
    "        class_index=class_to_explain,\n",
    "        tol_importance=0.01,\n",
    "        tol_error=0.01,\n",
    "        weight_kernel=None,\n",
    "        local_mini_batch_max=200,\n",
    "        scale_data=False\n",
    "    )\n",
    "    return explanation, contra\n",
    "   \n",
    "def explain(x_explain, model_predict, class_to_explain, local_class, r):\n",
    "    explanation, contra = get_explanation(\n",
    "        x_explain, model_predict, class_to_explain, local_class, r)\n",
    "    fig, axis = ImagePlot.plot_importance_contrafactual(explanation.explain(), contra, class_to_explain)\n",
    "    plt.savefig(\n",
    "        f'MNIST_e_c_{class_to_explain}.png', dpi=300, interpolation='none')\n",
    "    return explanation"
   ]
  },
  {
   "cell_type": "code",
   "execution_count": 13,
   "metadata": {},
   "outputs": [],
   "source": [
    "local_class = 'SGD'\n",
    "explain_linear = None\n",
    "torch.cuda.empty_cache()"
   ]
  },
  {
   "cell_type": "code",
   "execution_count": 14,
   "metadata": {},
   "outputs": [
    {
     "name": "stdout",
     "output_type": "stream",
     "text": [
      "Predicted: 3 11.234456\n",
      "Top 3 predicted Class [3 8 5]\n"
     ]
    }
   ],
   "source": [
    "y_explain = model_predict(x_explain)\n",
    "y_explain_index = np.argmax(y_explain)\n",
    "print('Predicted:', y_explain_index, y_explain[0][y_explain_index])\n",
    "top_three = np.argsort(y_explain)[0][::-1]\n",
    "print('Top 3 predicted Class', top_three[:3])\n",
    "y = f'Prediction: {np.argmax(y_explain):}'"
   ]
  },
  {
   "cell_type": "code",
   "execution_count": 23,
   "metadata": {},
   "outputs": [
    {
     "name": "stdout",
     "output_type": "stream",
     "text": [
      "Explanation for:  3\n",
      "Probability: 11.234456\n"
     ]
    },
    {
     "data": {
      "image/png": "[encoded data removed]",
      "text/plain": [
       "<Figure size 504x252 with 4 Axes>"
      ]
     },
     "metadata": {
      "needs_background": "light"
     },
     "output_type": "display_data"
    }
   ],
   "source": [
    "explanation = explain(\n",
    "    x_explain, model_predict, top_three[0], local_class=local_class, r=0.1)"
   ]
  },
  {
   "cell_type": "code",
   "execution_count": 24,
   "metadata": {},
   "outputs": [
    {
     "data": {
      "image/png": "[encoded data removed]",
      "text/plain": [
       "<Figure size 1440x720 with 9 Axes>"
      ]
     },
     "metadata": {
      "needs_background": "light"
     },
     "output_type": "display_data"
    }
   ],
   "source": [
    "# Plot attributions\n",
    "n_cols = len(attributions) + 2\n",
    "n_cols = int(n_cols/2)\n",
    "fig, axes = plt.subplots(nrows=2, ncols=n_cols, figsize=(20, 10))\n",
    "axes = axes.flatten()\n",
    "axes[0].imshow(xi.reshape(28, 28), interpolation='none', cmap='Greys')\n",
    "ax2 = fig.add_axes([0.5-0.2, 0.93, 0.4, 0.03])\n",
    "ax2.set_title('Feature Importance', fontsize=25)\n",
    "\n",
    "axes[0].set_xticks([], [])\n",
    "axes[0].set_yticks([], [])\n",
    "axes[0].set_title('Original', fontsize=25)\n",
    "i_ = 1\n",
    "for i, method_name in enumerate(sorted(attributions.keys())):\n",
    "    plot(\n",
    "        attributions[method_name].reshape(28,28), xi=xi.reshape(28, 28), axis=axes[i+i_])\n",
    "    axes[i+i_].set_title(method_name, fontsize=25)\n",
    "    axes[i+i_].set_xticks([], [])\n",
    "    axes[i+i_].set_yticks([], [])\n",
    "axis, cp = plot(\n",
    "    (explanation.importance.reshape(28,28)),\n",
    "    xi = xi.reshape(28, 28), axis=axes[1])\n",
    "axis.set_title('MeLIME', fontsize=26,  fontweight='bold')\n",
    "plt.colorbar(cp, cax=ax2, orientation='horizontal')\n",
    "# ax2.set_xticks([], [])\n",
    "# ax2.set_yticks([], [])\n",
    "ax2.axis('off')\n",
    "plt.subplots_adjust(top=0.85, wspace=0.0, hspace=0.2)\n",
    "plt.savefig('importance_number_depp_explain.png', dpi=300)"
   ]
  },
  {
   "cell_type": "code",
   "execution_count": null,
   "metadata": {},
   "outputs": [],
   "source": []
  }
 ],
 "metadata": {
  "kernelspec": {
   "display_name": "Python 3",
   "language": "python",
   "name": "python3"
  },
  "language_info": {
   "codemirror_mode": {
    "name": "ipython",
    "version": 3
   },
   "file_extension": ".py",
   "mimetype": "text/x-python",
   "name": "python",
   "nbconvert_exporter": "python",
   "pygments_lexer": "ipython3",
   "version": "3.7.7"
  }
 },
 "nbformat": 4,
 "nbformat_minor": 1
}
